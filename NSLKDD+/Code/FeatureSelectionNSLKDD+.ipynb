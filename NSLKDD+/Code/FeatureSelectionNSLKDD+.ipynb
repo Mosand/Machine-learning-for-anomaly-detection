{
  "nbformat": 4,
  "nbformat_minor": 0,
  "metadata": {
    "colab": {
      "name": "FeatureSelectionNSLKDD+.ipynb",
      "provenance": []
    },
    "kernelspec": {
      "name": "python3",
      "display_name": "Python 3"
    }
  },
  "cells": [
    {
      "cell_type": "code",
      "metadata": {
        "id": "taYNB9USm0KE",
        "outputId": "21bd4141-c62d-4457-a860-afe84298d663",
        "colab": {
          "base_uri": "https://localhost:8080/",
          "height": 71
        }
      },
      "source": [
        "import numpy as np\n",
        "import pandas as pd\n",
        "from sklearn.ensemble import RandomForestClassifier\n",
        "from sklearn.model_selection import train_test_split\n",
        "from sklearn.metrics import accuracy_score as acc\n",
        "from mlxtend.feature_selection import SequentialFeatureSelector as sfs"
      ],
      "execution_count": 1,
      "outputs": [
        {
          "output_type": "stream",
          "text": [
            "/usr/local/lib/python3.6/dist-packages/sklearn/externals/joblib/__init__.py:15: FutureWarning: sklearn.externals.joblib is deprecated in 0.21 and will be removed in 0.23. Please import this functionality directly from joblib, which can be installed with: pip install joblib. If this warning is raised when loading pickled models, you may need to re-serialize those models with scikit-learn 0.21+.\n",
            "  warnings.warn(msg, category=FutureWarning)\n"
          ],
          "name": "stderr"
        }
      ]
    },
    {
      "cell_type": "code",
      "metadata": {
        "id": "bc5NY2vmnPil",
        "outputId": "8c7186b2-dbac-44a4-dc7f-3b5b7d6820fd",
        "colab": {
          "base_uri": "https://localhost:8080/",
          "height": 34
        }
      },
      "source": [
        "from google.colab import drive\n",
        "drive.mount('/content/drive')"
      ],
      "execution_count": 2,
      "outputs": [
        {
          "output_type": "stream",
          "text": [
            "Mounted at /content/drive\n"
          ],
          "name": "stdout"
        }
      ]
    },
    {
      "cell_type": "code",
      "metadata": {
        "id": "ZYQx6F8VneNq"
      },
      "source": [
        "train = pd.read_csv('/content/drive/My Drive/Data/KDDtrain_updated.csv')\n",
        "test = pd.read_csv('/content/drive/My Drive/Data/KDDtest_updated.csv')"
      ],
      "execution_count": 3,
      "outputs": []
    },
    {
      "cell_type": "code",
      "metadata": {
        "id": "cLYauuKhnk4n"
      },
      "source": [
        "train = train.drop(columns=\"Unnamed: 0\")\n",
        "test = test.drop(columns='Unnamed: 0')"
      ],
      "execution_count": 4,
      "outputs": []
    },
    {
      "cell_type": "code",
      "metadata": {
        "id": "i-040ZyRnojQ"
      },
      "source": [
        "X_train=train[train.columns.difference(['attack'])]\n",
        "y_train=train['attack']\n",
        "X_test=test[test.columns.difference(['attack'])]\n",
        "y_test=test['attack']"
      ],
      "execution_count": 5,
      "outputs": []
    },
    {
      "cell_type": "code",
      "metadata": {
        "id": "ZMfGBq0OnyMa",
        "outputId": "0d19fe79-14ce-4aef-c7e6-0d33b566a23d",
        "colab": {
          "base_uri": "https://localhost:8080/",
          "height": 374
        }
      },
      "source": [
        "# Build RF classifier to use in feature selection\n",
        "clf = RandomForestClassifier(n_estimators=100, n_jobs=-1)\n",
        "\n",
        "# Build step forward feature selection\n",
        "sfs1 = sfs(clf,\n",
        "           k_features=5,\n",
        "           forward=True,\n",
        "           floating=False,\n",
        "           verbose=2,\n",
        "           scoring='accuracy',\n",
        "           cv=5)\n",
        "\n",
        "# Perform SFFS\n",
        "sfs1 = sfs1.fit(X_train, y_train)"
      ],
      "execution_count": 6,
      "outputs": [
        {
          "output_type": "stream",
          "text": [
            "[Parallel(n_jobs=1)]: Using backend SequentialBackend with 1 concurrent workers.\n",
            "[Parallel(n_jobs=1)]: Done   1 out of   1 | elapsed:   26.0s remaining:    0.0s\n",
            "[Parallel(n_jobs=1)]: Done  40 out of  40 | elapsed:  7.3min finished\n",
            "\n",
            "[2020-10-06 11:22:55] Features: 1/5 -- score: 0.9258571057161618[Parallel(n_jobs=1)]: Using backend SequentialBackend with 1 concurrent workers.\n",
            "[Parallel(n_jobs=1)]: Done   1 out of   1 | elapsed:   42.2s remaining:    0.0s\n",
            "[Parallel(n_jobs=1)]: Done  39 out of  39 | elapsed: 16.4min finished\n",
            "\n",
            "[2020-10-06 11:39:17] Features: 2/5 -- score: 0.9857350393374483[Parallel(n_jobs=1)]: Using backend SequentialBackend with 1 concurrent workers.\n",
            "[Parallel(n_jobs=1)]: Done   1 out of   1 | elapsed:   28.8s remaining:    0.0s\n",
            "[Parallel(n_jobs=1)]: Done  38 out of  38 | elapsed: 15.9min finished\n",
            "\n",
            "[2020-10-06 11:55:13] Features: 3/5 -- score: 0.9919268385642555[Parallel(n_jobs=1)]: Using backend SequentialBackend with 1 concurrent workers.\n",
            "[Parallel(n_jobs=1)]: Done   1 out of   1 | elapsed:   30.4s remaining:    0.0s\n",
            "[Parallel(n_jobs=1)]: Done  37 out of  37 | elapsed: 16.5min finished\n",
            "\n",
            "[2020-10-06 12:11:43] Features: 4/5 -- score: 0.99686440839644[Parallel(n_jobs=1)]: Using backend SequentialBackend with 1 concurrent workers.\n",
            "[Parallel(n_jobs=1)]: Done   1 out of   1 | elapsed:   29.8s remaining:    0.0s\n",
            "[Parallel(n_jobs=1)]: Done  36 out of  36 | elapsed: 15.2min finished\n",
            "\n",
            "[2020-10-06 12:26:55] Features: 5/5 -- score: 0.9979995750538826"
          ],
          "name": "stderr"
        }
      ]
    },
    {
      "cell_type": "code",
      "metadata": {
        "id": "-T9EouY-oSJo",
        "outputId": "274d9dda-7618-4888-8c50-beee39cd01af",
        "colab": {
          "base_uri": "https://localhost:8080/",
          "height": 34
        }
      },
      "source": [
        "feat_cols = list(sfs1.k_feature_idx_)\n",
        "print(feat_cols)"
      ],
      "execution_count": 7,
      "outputs": [
        {
          "output_type": "stream",
          "text": [
            "[4, 5, 8, 31, 32]\n"
          ],
          "name": "stdout"
        }
      ]
    },
    {
      "cell_type": "code",
      "metadata": {
        "id": "n_STzG8e6UbL"
      },
      "source": [
        "new_train = X_train.iloc[:,feat_cols]\n",
        "new_train.shape\n",
        "new_test = X_test.iloc[:,feat_cols]"
      ],
      "execution_count": 15,
      "outputs": []
    },
    {
      "cell_type": "code",
      "metadata": {
        "id": "VrexXdOFoWpR",
        "outputId": "262a38fb-b898-4f80-fb7f-9f45762aaae7",
        "colab": {
          "base_uri": "https://localhost:8080/",
          "height": 153
        }
      },
      "source": [
        "clf = RandomForestClassifier(n_estimators=1000, random_state=42, max_depth=4)\n",
        "clf.fit(new_train, y_train)\n"
      ],
      "execution_count": 14,
      "outputs": [
        {
          "output_type": "execute_result",
          "data": {
            "text/plain": [
              "RandomForestClassifier(bootstrap=True, ccp_alpha=0.0, class_weight=None,\n",
              "                       criterion='gini', max_depth=4, max_features='auto',\n",
              "                       max_leaf_nodes=None, max_samples=None,\n",
              "                       min_impurity_decrease=0.0, min_impurity_split=None,\n",
              "                       min_samples_leaf=1, min_samples_split=2,\n",
              "                       min_weight_fraction_leaf=0.0, n_estimators=1000,\n",
              "                       n_jobs=None, oob_score=False, random_state=42, verbose=0,\n",
              "                       warm_start=False)"
            ]
          },
          "metadata": {
            "tags": []
          },
          "execution_count": 14
        }
      ]
    },
    {
      "cell_type": "code",
      "metadata": {
        "id": "3dNcK5-G8G4T",
        "outputId": "c673e28b-3fe7-4385-cb5b-b07cfa9ab945",
        "colab": {
          "base_uri": "https://localhost:8080/",
          "height": 51
        }
      },
      "source": [
        "y_train_pred = clf.predict(new_train)\n",
        "print('Training accuracy on selected features: %.3f' % acc(y_train, y_train_pred))\n",
        "\n",
        "y_test_pred = clf.predict(new_test)\n",
        "print('Testing accuracy on selected features: %.3f' % acc(y_test, y_test_pred))"
      ],
      "execution_count": 17,
      "outputs": [
        {
          "output_type": "stream",
          "text": [
            "Training accuracy on selected features: 0.958\n",
            "Testing accuracy on selected features: 0.696\n"
          ],
          "name": "stdout"
        }
      ]
    },
    {
      "cell_type": "code",
      "metadata": {
        "id": "BMQV5vdJ-ohO"
      },
      "source": [
        "from sklearn.feature_selection import SelectKBest\n",
        "from sklearn.feature_selection import chi2"
      ],
      "execution_count": 18,
      "outputs": []
    },
    {
      "cell_type": "code",
      "metadata": {
        "id": "6eqwBZ_U-poi"
      },
      "source": [
        "from sklearn.svm import LinearSVC\n",
        "from sklearn.feature_selection import SelectFromModel\n",
        "from sklearn.preprocessing import StandardScaler\n",
        "from sklearn.pipeline import Pipeline\n",
        "from sklearn.linear_model import LogisticRegression"
      ],
      "execution_count": 26,
      "outputs": []
    },
    {
      "cell_type": "code",
      "metadata": {
        "id": "bqTOnGn1_mYd",
        "outputId": "7ba75409-ff97-496f-d688-35b9b0893c83",
        "colab": {
          "base_uri": "https://localhost:8080/",
          "height": 51
        }
      },
      "source": [
        "lsvc = LinearSVC(C=0.01, penalty=\"l1\", dual=False).fit(X_train, y_train)"
      ],
      "execution_count": 20,
      "outputs": [
        {
          "output_type": "stream",
          "text": [
            "/usr/local/lib/python3.6/dist-packages/sklearn/svm/_base.py:947: ConvergenceWarning: Liblinear failed to converge, increase the number of iterations.\n",
            "  \"the number of iterations.\", ConvergenceWarning)\n"
          ],
          "name": "stderr"
        }
      ]
    },
    {
      "cell_type": "code",
      "metadata": {
        "id": "NmKL7NP0_vTQ"
      },
      "source": [
        "model = SelectFromModel(lsvc, prefit=True)"
      ],
      "execution_count": 21,
      "outputs": []
    },
    {
      "cell_type": "code",
      "metadata": {
        "id": "sLz3bTvy_35f"
      },
      "source": [
        "train_new = model.transform(X_train)\n",
        "test_new = model.transform(X_test)"
      ],
      "execution_count": 28,
      "outputs": []
    },
    {
      "cell_type": "code",
      "metadata": {
        "id": "OhZwgsZq_99n"
      },
      "source": [
        "pipe_lr = Pipeline([('scl', StandardScaler()),('clf', LogisticRegression(penalty='l2', random_state=0))])"
      ],
      "execution_count": 27,
      "outputs": []
    },
    {
      "cell_type": "code",
      "metadata": {
        "id": "aIGOMyOQAXDg",
        "outputId": "5f45eb49-5fe7-441b-858e-f4b9315cec92",
        "colab": {
          "base_uri": "https://localhost:8080/",
          "height": 153
        }
      },
      "source": [
        "pipe_lr = pipe_lr.fit(train_new, y_train)"
      ],
      "execution_count": 29,
      "outputs": [
        {
          "output_type": "stream",
          "text": [
            "/usr/local/lib/python3.6/dist-packages/sklearn/linear_model/_logistic.py:940: ConvergenceWarning: lbfgs failed to converge (status=1):\n",
            "STOP: TOTAL NO. of ITERATIONS REACHED LIMIT.\n",
            "\n",
            "Increase the number of iterations (max_iter) or scale the data as shown in:\n",
            "    https://scikit-learn.org/stable/modules/preprocessing.html\n",
            "Please also refer to the documentation for alternative solver options:\n",
            "    https://scikit-learn.org/stable/modules/linear_model.html#logistic-regression\n",
            "  extra_warning_msg=_LOGISTIC_SOLVER_CONVERGENCE_MSG)\n"
          ],
          "name": "stderr"
        }
      ]
    },
    {
      "cell_type": "code",
      "metadata": {
        "id": "GgdqBTvhAqEi"
      },
      "source": [
        "from sklearn.metrics import accuracy_score\n",
        "y_pred_train = pipe_lr.predict(train_new)\n",
        "y_pred_test = pipe_lr.predict(test_new)"
      ],
      "execution_count": 30,
      "outputs": []
    },
    {
      "cell_type": "code",
      "metadata": {
        "id": "ojJgnIuhAwf3",
        "outputId": "7ab6910f-79e5-45b2-ce45-f908050ce684",
        "colab": {
          "base_uri": "https://localhost:8080/",
          "height": 34
        }
      },
      "source": [
        "accuracy_score(y_train, y_pred_train), accuracy_score(y_test, y_pred_test)"
      ],
      "execution_count": 31,
      "outputs": [
        {
          "output_type": "execute_result",
          "data": {
            "text/plain": [
              "(0.9660324037690616, 0.7645493257629524)"
            ]
          },
          "metadata": {
            "tags": []
          },
          "execution_count": 31
        }
      ]
    },
    {
      "cell_type": "code",
      "metadata": {
        "id": "jiuTNDSRA1Qe"
      },
      "source": [
        "from sklearn.metrics import classification_report"
      ],
      "execution_count": 32,
      "outputs": []
    },
    {
      "cell_type": "code",
      "metadata": {
        "id": "fWvbpF_MA4O3",
        "outputId": "d7d5ae69-de44-4146-e1d1-e386a25a2d05",
        "colab": {
          "base_uri": "https://localhost:8080/",
          "height": 221
        }
      },
      "source": [
        "target_names = ['Normal', 'DoS','Probe','R2L', 'U2R']\n",
        "print(classification_report(y_train, y_pred_train, target_names=target_names))"
      ],
      "execution_count": 33,
      "outputs": [
        {
          "output_type": "stream",
          "text": [
            "              precision    recall  f1-score   support\n",
            "\n",
            "      Normal       0.97      0.97      0.97     67343\n",
            "         DoS       0.99      0.99      0.99     45927\n",
            "       Probe       0.89      0.84      0.87     11656\n",
            "         R2L       0.73      0.65      0.69       995\n",
            "         U2R       0.82      0.35      0.49        52\n",
            "\n",
            "    accuracy                           0.97    125973\n",
            "   macro avg       0.88      0.76      0.80    125973\n",
            "weighted avg       0.97      0.97      0.97    125973\n",
            "\n"
          ],
          "name": "stdout"
        }
      ]
    },
    {
      "cell_type": "code",
      "metadata": {
        "id": "_EhPjBlBA8M5",
        "outputId": "dcfc91fd-2337-48dd-e1a4-43ff1e2c75a1",
        "colab": {
          "base_uri": "https://localhost:8080/",
          "height": 221
        }
      },
      "source": [
        "print(classification_report(y_test, y_pred_test, target_names=target_names))"
      ],
      "execution_count": 34,
      "outputs": [
        {
          "output_type": "stream",
          "text": [
            "              precision    recall  f1-score   support\n",
            "\n",
            "      Normal       0.67      0.97      0.79      9900\n",
            "         DoS       0.97      0.82      0.88      7165\n",
            "       Probe       0.86      0.73      0.79      2421\n",
            "         R2L       0.47      0.00      0.01      2991\n",
            "         U2R       0.82      0.13      0.23        67\n",
            "\n",
            "    accuracy                           0.76     22544\n",
            "   macro avg       0.76      0.53      0.54     22544\n",
            "weighted avg       0.76      0.76      0.71     22544\n",
            "\n"
          ],
          "name": "stdout"
        }
      ]
    }
  ]
}