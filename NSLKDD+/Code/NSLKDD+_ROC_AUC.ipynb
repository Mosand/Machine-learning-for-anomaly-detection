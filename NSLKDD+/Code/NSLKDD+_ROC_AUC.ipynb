{
  "nbformat": 4,
  "nbformat_minor": 0,
  "metadata": {
    "colab": {
      "name": "NSLKDD+_ROC_AUC.ipynb",
      "provenance": [],
      "toc_visible": true
    },
    "kernelspec": {
      "name": "python3",
      "display_name": "Python 3"
    }
  },
  "cells": [
    {
      "cell_type": "code",
      "metadata": {
        "id": "aizIIc7SYY6s"
      },
      "source": [
        "import pandas as pd"
      ],
      "execution_count": 2,
      "outputs": []
    },
    {
      "cell_type": "code",
      "metadata": {
        "id": "X80ohEwXYjiz",
        "outputId": "b292d32b-5771-41a0-ef16-493b97498fc8",
        "colab": {
          "base_uri": "https://localhost:8080/",
          "height": 34
        }
      },
      "source": [
        "from google.colab import drive\n",
        "drive.mount('/content/drive')"
      ],
      "execution_count": 3,
      "outputs": [
        {
          "output_type": "stream",
          "text": [
            "Mounted at /content/drive\n"
          ],
          "name": "stdout"
        }
      ]
    },
    {
      "cell_type": "code",
      "metadata": {
        "id": "22EC1xdmYkAY",
        "outputId": "a0d53ca0-12cc-4501-c848-838d9e43a85d",
        "colab": {
          "base_uri": "https://localhost:8080/",
          "height": 241
        }
      },
      "source": [
        "train = pd.read_csv('/content/drive/My Drive/Data/KDDtrain_updated.csv')\n",
        "train.head()"
      ],
      "execution_count": 4,
      "outputs": [
        {
          "output_type": "execute_result",
          "data": {
            "text/html": [
              "<div>\n",
              "<style scoped>\n",
              "    .dataframe tbody tr th:only-of-type {\n",
              "        vertical-align: middle;\n",
              "    }\n",
              "\n",
              "    .dataframe tbody tr th {\n",
              "        vertical-align: top;\n",
              "    }\n",
              "\n",
              "    .dataframe thead th {\n",
              "        text-align: right;\n",
              "    }\n",
              "</style>\n",
              "<table border=\"1\" class=\"dataframe\">\n",
              "  <thead>\n",
              "    <tr style=\"text-align: right;\">\n",
              "      <th></th>\n",
              "      <th>Unnamed: 0</th>\n",
              "      <th>duration</th>\n",
              "      <th>protocol_type</th>\n",
              "      <th>service</th>\n",
              "      <th>flag</th>\n",
              "      <th>src_bytes</th>\n",
              "      <th>dst_bytes</th>\n",
              "      <th>land</th>\n",
              "      <th>wrong_fragment</th>\n",
              "      <th>urgent</th>\n",
              "      <th>hot</th>\n",
              "      <th>num_failed_logins</th>\n",
              "      <th>logged_in</th>\n",
              "      <th>num_compromised</th>\n",
              "      <th>root_shell</th>\n",
              "      <th>su_attempted</th>\n",
              "      <th>num_root</th>\n",
              "      <th>num_file_creations</th>\n",
              "      <th>num_shells</th>\n",
              "      <th>num_access_files</th>\n",
              "      <th>is_host_login</th>\n",
              "      <th>is_guest_login</th>\n",
              "      <th>count</th>\n",
              "      <th>srv_count</th>\n",
              "      <th>serror_rate</th>\n",
              "      <th>srv_serror_rate</th>\n",
              "      <th>rerror_rate</th>\n",
              "      <th>srv_rerror_rate</th>\n",
              "      <th>same_srv_rate</th>\n",
              "      <th>diff_srv_rate</th>\n",
              "      <th>srv_diff_host_rate</th>\n",
              "      <th>dst_host_count</th>\n",
              "      <th>dst_host_srv_count</th>\n",
              "      <th>dst_host_same_srv_rate</th>\n",
              "      <th>dst_host_diff_srv_rate</th>\n",
              "      <th>dst_host_same_src_port_rate</th>\n",
              "      <th>dst_host_srv_diff_host_rate</th>\n",
              "      <th>dst_host_serror_rate</th>\n",
              "      <th>dst_host_srv_serror_rate</th>\n",
              "      <th>dst_host_rerror_rate</th>\n",
              "      <th>dst_host_srv_rerror_rate</th>\n",
              "      <th>attack</th>\n",
              "    </tr>\n",
              "  </thead>\n",
              "  <tbody>\n",
              "    <tr>\n",
              "      <th>0</th>\n",
              "      <td>0</td>\n",
              "      <td>0</td>\n",
              "      <td>1</td>\n",
              "      <td>20</td>\n",
              "      <td>9</td>\n",
              "      <td>491</td>\n",
              "      <td>0</td>\n",
              "      <td>0</td>\n",
              "      <td>0</td>\n",
              "      <td>0</td>\n",
              "      <td>0</td>\n",
              "      <td>0</td>\n",
              "      <td>0</td>\n",
              "      <td>0</td>\n",
              "      <td>0</td>\n",
              "      <td>0</td>\n",
              "      <td>0</td>\n",
              "      <td>0</td>\n",
              "      <td>0</td>\n",
              "      <td>0</td>\n",
              "      <td>0</td>\n",
              "      <td>0</td>\n",
              "      <td>2</td>\n",
              "      <td>2</td>\n",
              "      <td>0.0</td>\n",
              "      <td>0.0</td>\n",
              "      <td>0.0</td>\n",
              "      <td>0.0</td>\n",
              "      <td>1.00</td>\n",
              "      <td>0.00</td>\n",
              "      <td>0.00</td>\n",
              "      <td>150</td>\n",
              "      <td>25</td>\n",
              "      <td>0.17</td>\n",
              "      <td>0.03</td>\n",
              "      <td>0.17</td>\n",
              "      <td>0.00</td>\n",
              "      <td>0.00</td>\n",
              "      <td>0.00</td>\n",
              "      <td>0.05</td>\n",
              "      <td>0.00</td>\n",
              "      <td>0</td>\n",
              "    </tr>\n",
              "    <tr>\n",
              "      <th>1</th>\n",
              "      <td>1</td>\n",
              "      <td>0</td>\n",
              "      <td>2</td>\n",
              "      <td>44</td>\n",
              "      <td>9</td>\n",
              "      <td>146</td>\n",
              "      <td>0</td>\n",
              "      <td>0</td>\n",
              "      <td>0</td>\n",
              "      <td>0</td>\n",
              "      <td>0</td>\n",
              "      <td>0</td>\n",
              "      <td>0</td>\n",
              "      <td>0</td>\n",
              "      <td>0</td>\n",
              "      <td>0</td>\n",
              "      <td>0</td>\n",
              "      <td>0</td>\n",
              "      <td>0</td>\n",
              "      <td>0</td>\n",
              "      <td>0</td>\n",
              "      <td>0</td>\n",
              "      <td>13</td>\n",
              "      <td>1</td>\n",
              "      <td>0.0</td>\n",
              "      <td>0.0</td>\n",
              "      <td>0.0</td>\n",
              "      <td>0.0</td>\n",
              "      <td>0.08</td>\n",
              "      <td>0.15</td>\n",
              "      <td>0.00</td>\n",
              "      <td>255</td>\n",
              "      <td>1</td>\n",
              "      <td>0.00</td>\n",
              "      <td>0.60</td>\n",
              "      <td>0.88</td>\n",
              "      <td>0.00</td>\n",
              "      <td>0.00</td>\n",
              "      <td>0.00</td>\n",
              "      <td>0.00</td>\n",
              "      <td>0.00</td>\n",
              "      <td>0</td>\n",
              "    </tr>\n",
              "    <tr>\n",
              "      <th>2</th>\n",
              "      <td>2</td>\n",
              "      <td>0</td>\n",
              "      <td>1</td>\n",
              "      <td>49</td>\n",
              "      <td>5</td>\n",
              "      <td>0</td>\n",
              "      <td>0</td>\n",
              "      <td>0</td>\n",
              "      <td>0</td>\n",
              "      <td>0</td>\n",
              "      <td>0</td>\n",
              "      <td>0</td>\n",
              "      <td>0</td>\n",
              "      <td>0</td>\n",
              "      <td>0</td>\n",
              "      <td>0</td>\n",
              "      <td>0</td>\n",
              "      <td>0</td>\n",
              "      <td>0</td>\n",
              "      <td>0</td>\n",
              "      <td>0</td>\n",
              "      <td>0</td>\n",
              "      <td>123</td>\n",
              "      <td>6</td>\n",
              "      <td>1.0</td>\n",
              "      <td>1.0</td>\n",
              "      <td>0.0</td>\n",
              "      <td>0.0</td>\n",
              "      <td>0.05</td>\n",
              "      <td>0.07</td>\n",
              "      <td>0.00</td>\n",
              "      <td>255</td>\n",
              "      <td>26</td>\n",
              "      <td>0.10</td>\n",
              "      <td>0.05</td>\n",
              "      <td>0.00</td>\n",
              "      <td>0.00</td>\n",
              "      <td>1.00</td>\n",
              "      <td>1.00</td>\n",
              "      <td>0.00</td>\n",
              "      <td>0.00</td>\n",
              "      <td>1</td>\n",
              "    </tr>\n",
              "    <tr>\n",
              "      <th>3</th>\n",
              "      <td>3</td>\n",
              "      <td>0</td>\n",
              "      <td>1</td>\n",
              "      <td>24</td>\n",
              "      <td>9</td>\n",
              "      <td>232</td>\n",
              "      <td>8153</td>\n",
              "      <td>0</td>\n",
              "      <td>0</td>\n",
              "      <td>0</td>\n",
              "      <td>0</td>\n",
              "      <td>0</td>\n",
              "      <td>1</td>\n",
              "      <td>0</td>\n",
              "      <td>0</td>\n",
              "      <td>0</td>\n",
              "      <td>0</td>\n",
              "      <td>0</td>\n",
              "      <td>0</td>\n",
              "      <td>0</td>\n",
              "      <td>0</td>\n",
              "      <td>0</td>\n",
              "      <td>5</td>\n",
              "      <td>5</td>\n",
              "      <td>0.2</td>\n",
              "      <td>0.2</td>\n",
              "      <td>0.0</td>\n",
              "      <td>0.0</td>\n",
              "      <td>1.00</td>\n",
              "      <td>0.00</td>\n",
              "      <td>0.00</td>\n",
              "      <td>30</td>\n",
              "      <td>255</td>\n",
              "      <td>1.00</td>\n",
              "      <td>0.00</td>\n",
              "      <td>0.03</td>\n",
              "      <td>0.04</td>\n",
              "      <td>0.03</td>\n",
              "      <td>0.01</td>\n",
              "      <td>0.00</td>\n",
              "      <td>0.01</td>\n",
              "      <td>0</td>\n",
              "    </tr>\n",
              "    <tr>\n",
              "      <th>4</th>\n",
              "      <td>4</td>\n",
              "      <td>0</td>\n",
              "      <td>1</td>\n",
              "      <td>24</td>\n",
              "      <td>9</td>\n",
              "      <td>199</td>\n",
              "      <td>420</td>\n",
              "      <td>0</td>\n",
              "      <td>0</td>\n",
              "      <td>0</td>\n",
              "      <td>0</td>\n",
              "      <td>0</td>\n",
              "      <td>1</td>\n",
              "      <td>0</td>\n",
              "      <td>0</td>\n",
              "      <td>0</td>\n",
              "      <td>0</td>\n",
              "      <td>0</td>\n",
              "      <td>0</td>\n",
              "      <td>0</td>\n",
              "      <td>0</td>\n",
              "      <td>0</td>\n",
              "      <td>30</td>\n",
              "      <td>32</td>\n",
              "      <td>0.0</td>\n",
              "      <td>0.0</td>\n",
              "      <td>0.0</td>\n",
              "      <td>0.0</td>\n",
              "      <td>1.00</td>\n",
              "      <td>0.00</td>\n",
              "      <td>0.09</td>\n",
              "      <td>255</td>\n",
              "      <td>255</td>\n",
              "      <td>1.00</td>\n",
              "      <td>0.00</td>\n",
              "      <td>0.00</td>\n",
              "      <td>0.00</td>\n",
              "      <td>0.00</td>\n",
              "      <td>0.00</td>\n",
              "      <td>0.00</td>\n",
              "      <td>0.00</td>\n",
              "      <td>0</td>\n",
              "    </tr>\n",
              "  </tbody>\n",
              "</table>\n",
              "</div>"
            ],
            "text/plain": [
              "   Unnamed: 0  duration  ...  dst_host_srv_rerror_rate  attack\n",
              "0           0         0  ...                      0.00       0\n",
              "1           1         0  ...                      0.00       0\n",
              "2           2         0  ...                      0.00       1\n",
              "3           3         0  ...                      0.01       0\n",
              "4           4         0  ...                      0.00       0\n",
              "\n",
              "[5 rows x 42 columns]"
            ]
          },
          "metadata": {
            "tags": []
          },
          "execution_count": 4
        }
      ]
    },
    {
      "cell_type": "code",
      "metadata": {
        "id": "tB_KEMXzY4G5",
        "outputId": "9859cfac-70e9-405a-b8af-f9159b62ee59",
        "colab": {
          "base_uri": "https://localhost:8080/",
          "height": 241
        }
      },
      "source": [
        "test = pd.read_csv('/content/drive/My Drive/Data/KDDtest_updated.csv')\n",
        "test.head()"
      ],
      "execution_count": 5,
      "outputs": [
        {
          "output_type": "execute_result",
          "data": {
            "text/html": [
              "<div>\n",
              "<style scoped>\n",
              "    .dataframe tbody tr th:only-of-type {\n",
              "        vertical-align: middle;\n",
              "    }\n",
              "\n",
              "    .dataframe tbody tr th {\n",
              "        vertical-align: top;\n",
              "    }\n",
              "\n",
              "    .dataframe thead th {\n",
              "        text-align: right;\n",
              "    }\n",
              "</style>\n",
              "<table border=\"1\" class=\"dataframe\">\n",
              "  <thead>\n",
              "    <tr style=\"text-align: right;\">\n",
              "      <th></th>\n",
              "      <th>Unnamed: 0</th>\n",
              "      <th>duration</th>\n",
              "      <th>protocol_type</th>\n",
              "      <th>service</th>\n",
              "      <th>flag</th>\n",
              "      <th>src_bytes</th>\n",
              "      <th>dst_bytes</th>\n",
              "      <th>land</th>\n",
              "      <th>wrong_fragment</th>\n",
              "      <th>urgent</th>\n",
              "      <th>hot</th>\n",
              "      <th>num_failed_logins</th>\n",
              "      <th>logged_in</th>\n",
              "      <th>num_compromised</th>\n",
              "      <th>root_shell</th>\n",
              "      <th>su_attempted</th>\n",
              "      <th>num_root</th>\n",
              "      <th>num_file_creations</th>\n",
              "      <th>num_shells</th>\n",
              "      <th>num_access_files</th>\n",
              "      <th>is_host_login</th>\n",
              "      <th>is_guest_login</th>\n",
              "      <th>count</th>\n",
              "      <th>srv_count</th>\n",
              "      <th>serror_rate</th>\n",
              "      <th>srv_serror_rate</th>\n",
              "      <th>rerror_rate</th>\n",
              "      <th>srv_rerror_rate</th>\n",
              "      <th>same_srv_rate</th>\n",
              "      <th>diff_srv_rate</th>\n",
              "      <th>srv_diff_host_rate</th>\n",
              "      <th>dst_host_count</th>\n",
              "      <th>dst_host_srv_count</th>\n",
              "      <th>dst_host_same_srv_rate</th>\n",
              "      <th>dst_host_diff_srv_rate</th>\n",
              "      <th>dst_host_same_src_port_rate</th>\n",
              "      <th>dst_host_srv_diff_host_rate</th>\n",
              "      <th>dst_host_serror_rate</th>\n",
              "      <th>dst_host_srv_serror_rate</th>\n",
              "      <th>dst_host_rerror_rate</th>\n",
              "      <th>dst_host_srv_rerror_rate</th>\n",
              "      <th>attack</th>\n",
              "    </tr>\n",
              "  </thead>\n",
              "  <tbody>\n",
              "    <tr>\n",
              "      <th>0</th>\n",
              "      <td>0</td>\n",
              "      <td>0</td>\n",
              "      <td>1</td>\n",
              "      <td>45</td>\n",
              "      <td>1</td>\n",
              "      <td>0</td>\n",
              "      <td>0</td>\n",
              "      <td>0</td>\n",
              "      <td>0</td>\n",
              "      <td>0</td>\n",
              "      <td>0</td>\n",
              "      <td>0</td>\n",
              "      <td>0</td>\n",
              "      <td>0</td>\n",
              "      <td>0</td>\n",
              "      <td>0</td>\n",
              "      <td>0</td>\n",
              "      <td>0</td>\n",
              "      <td>0</td>\n",
              "      <td>0</td>\n",
              "      <td>0</td>\n",
              "      <td>0</td>\n",
              "      <td>229</td>\n",
              "      <td>10</td>\n",
              "      <td>0.0</td>\n",
              "      <td>0.00</td>\n",
              "      <td>1.0</td>\n",
              "      <td>1.0</td>\n",
              "      <td>0.04</td>\n",
              "      <td>0.06</td>\n",
              "      <td>0.00</td>\n",
              "      <td>255</td>\n",
              "      <td>10</td>\n",
              "      <td>0.04</td>\n",
              "      <td>0.06</td>\n",
              "      <td>0.00</td>\n",
              "      <td>0.00</td>\n",
              "      <td>0.0</td>\n",
              "      <td>0.0</td>\n",
              "      <td>1.00</td>\n",
              "      <td>1.00</td>\n",
              "      <td>1</td>\n",
              "    </tr>\n",
              "    <tr>\n",
              "      <th>1</th>\n",
              "      <td>1</td>\n",
              "      <td>0</td>\n",
              "      <td>1</td>\n",
              "      <td>45</td>\n",
              "      <td>1</td>\n",
              "      <td>0</td>\n",
              "      <td>0</td>\n",
              "      <td>0</td>\n",
              "      <td>0</td>\n",
              "      <td>0</td>\n",
              "      <td>0</td>\n",
              "      <td>0</td>\n",
              "      <td>0</td>\n",
              "      <td>0</td>\n",
              "      <td>0</td>\n",
              "      <td>0</td>\n",
              "      <td>0</td>\n",
              "      <td>0</td>\n",
              "      <td>0</td>\n",
              "      <td>0</td>\n",
              "      <td>0</td>\n",
              "      <td>0</td>\n",
              "      <td>136</td>\n",
              "      <td>1</td>\n",
              "      <td>0.0</td>\n",
              "      <td>0.00</td>\n",
              "      <td>1.0</td>\n",
              "      <td>1.0</td>\n",
              "      <td>0.01</td>\n",
              "      <td>0.06</td>\n",
              "      <td>0.00</td>\n",
              "      <td>255</td>\n",
              "      <td>1</td>\n",
              "      <td>0.00</td>\n",
              "      <td>0.06</td>\n",
              "      <td>0.00</td>\n",
              "      <td>0.00</td>\n",
              "      <td>0.0</td>\n",
              "      <td>0.0</td>\n",
              "      <td>1.00</td>\n",
              "      <td>1.00</td>\n",
              "      <td>1</td>\n",
              "    </tr>\n",
              "    <tr>\n",
              "      <th>2</th>\n",
              "      <td>2</td>\n",
              "      <td>2</td>\n",
              "      <td>1</td>\n",
              "      <td>19</td>\n",
              "      <td>9</td>\n",
              "      <td>12983</td>\n",
              "      <td>0</td>\n",
              "      <td>0</td>\n",
              "      <td>0</td>\n",
              "      <td>0</td>\n",
              "      <td>0</td>\n",
              "      <td>0</td>\n",
              "      <td>0</td>\n",
              "      <td>0</td>\n",
              "      <td>0</td>\n",
              "      <td>0</td>\n",
              "      <td>0</td>\n",
              "      <td>0</td>\n",
              "      <td>0</td>\n",
              "      <td>0</td>\n",
              "      <td>0</td>\n",
              "      <td>0</td>\n",
              "      <td>1</td>\n",
              "      <td>1</td>\n",
              "      <td>0.0</td>\n",
              "      <td>0.00</td>\n",
              "      <td>0.0</td>\n",
              "      <td>0.0</td>\n",
              "      <td>1.00</td>\n",
              "      <td>0.00</td>\n",
              "      <td>0.00</td>\n",
              "      <td>134</td>\n",
              "      <td>86</td>\n",
              "      <td>0.61</td>\n",
              "      <td>0.04</td>\n",
              "      <td>0.61</td>\n",
              "      <td>0.02</td>\n",
              "      <td>0.0</td>\n",
              "      <td>0.0</td>\n",
              "      <td>0.00</td>\n",
              "      <td>0.00</td>\n",
              "      <td>0</td>\n",
              "    </tr>\n",
              "    <tr>\n",
              "      <th>3</th>\n",
              "      <td>3</td>\n",
              "      <td>0</td>\n",
              "      <td>0</td>\n",
              "      <td>13</td>\n",
              "      <td>9</td>\n",
              "      <td>20</td>\n",
              "      <td>0</td>\n",
              "      <td>0</td>\n",
              "      <td>0</td>\n",
              "      <td>0</td>\n",
              "      <td>0</td>\n",
              "      <td>0</td>\n",
              "      <td>0</td>\n",
              "      <td>0</td>\n",
              "      <td>0</td>\n",
              "      <td>0</td>\n",
              "      <td>0</td>\n",
              "      <td>0</td>\n",
              "      <td>0</td>\n",
              "      <td>0</td>\n",
              "      <td>0</td>\n",
              "      <td>0</td>\n",
              "      <td>1</td>\n",
              "      <td>65</td>\n",
              "      <td>0.0</td>\n",
              "      <td>0.00</td>\n",
              "      <td>0.0</td>\n",
              "      <td>0.0</td>\n",
              "      <td>1.00</td>\n",
              "      <td>0.00</td>\n",
              "      <td>1.00</td>\n",
              "      <td>3</td>\n",
              "      <td>57</td>\n",
              "      <td>1.00</td>\n",
              "      <td>0.00</td>\n",
              "      <td>1.00</td>\n",
              "      <td>0.28</td>\n",
              "      <td>0.0</td>\n",
              "      <td>0.0</td>\n",
              "      <td>0.00</td>\n",
              "      <td>0.00</td>\n",
              "      <td>2</td>\n",
              "    </tr>\n",
              "    <tr>\n",
              "      <th>4</th>\n",
              "      <td>4</td>\n",
              "      <td>1</td>\n",
              "      <td>1</td>\n",
              "      <td>55</td>\n",
              "      <td>2</td>\n",
              "      <td>0</td>\n",
              "      <td>15</td>\n",
              "      <td>0</td>\n",
              "      <td>0</td>\n",
              "      <td>0</td>\n",
              "      <td>0</td>\n",
              "      <td>0</td>\n",
              "      <td>0</td>\n",
              "      <td>0</td>\n",
              "      <td>0</td>\n",
              "      <td>0</td>\n",
              "      <td>0</td>\n",
              "      <td>0</td>\n",
              "      <td>0</td>\n",
              "      <td>0</td>\n",
              "      <td>0</td>\n",
              "      <td>0</td>\n",
              "      <td>1</td>\n",
              "      <td>8</td>\n",
              "      <td>0.0</td>\n",
              "      <td>0.12</td>\n",
              "      <td>1.0</td>\n",
              "      <td>0.5</td>\n",
              "      <td>1.00</td>\n",
              "      <td>0.00</td>\n",
              "      <td>0.75</td>\n",
              "      <td>29</td>\n",
              "      <td>86</td>\n",
              "      <td>0.31</td>\n",
              "      <td>0.17</td>\n",
              "      <td>0.03</td>\n",
              "      <td>0.02</td>\n",
              "      <td>0.0</td>\n",
              "      <td>0.0</td>\n",
              "      <td>0.83</td>\n",
              "      <td>0.71</td>\n",
              "      <td>2</td>\n",
              "    </tr>\n",
              "  </tbody>\n",
              "</table>\n",
              "</div>"
            ],
            "text/plain": [
              "   Unnamed: 0  duration  ...  dst_host_srv_rerror_rate  attack\n",
              "0           0         0  ...                      1.00       1\n",
              "1           1         0  ...                      1.00       1\n",
              "2           2         2  ...                      0.00       0\n",
              "3           3         0  ...                      0.00       2\n",
              "4           4         1  ...                      0.71       2\n",
              "\n",
              "[5 rows x 42 columns]"
            ]
          },
          "metadata": {
            "tags": []
          },
          "execution_count": 5
        }
      ]
    },
    {
      "cell_type": "code",
      "metadata": {
        "id": "dH-9U4pvY5v3"
      },
      "source": [
        "train = train.drop(columns=\"Unnamed: 0\")\n",
        "test = test.drop(columns='Unnamed: 0')"
      ],
      "execution_count": 6,
      "outputs": []
    },
    {
      "cell_type": "code",
      "metadata": {
        "id": "xGwGzMq1Y7lB"
      },
      "source": [
        "X_train=train[train.columns.difference(['attack'])]\n",
        "y_train=train['attack']"
      ],
      "execution_count": 7,
      "outputs": []
    },
    {
      "cell_type": "code",
      "metadata": {
        "id": "syuQKRftY9yf"
      },
      "source": [
        "X_test=test[test.columns.difference(['attack'])]\n",
        "y_test=test['attack']"
      ],
      "execution_count": 8,
      "outputs": []
    },
    {
      "cell_type": "code",
      "metadata": {
        "id": "jT7DUfLFhoPe",
        "outputId": "18c08f79-897e-4133-b59b-72caf77471b4",
        "colab": {
          "base_uri": "https://localhost:8080/",
          "height": 34
        }
      },
      "source": [
        "y_test.shape"
      ],
      "execution_count": 9,
      "outputs": [
        {
          "output_type": "execute_result",
          "data": {
            "text/plain": [
              "(22544,)"
            ]
          },
          "metadata": {
            "tags": []
          },
          "execution_count": 9
        }
      ]
    },
    {
      "cell_type": "code",
      "metadata": {
        "id": "p4FdvvKgY_8L"
      },
      "source": [
        "from sklearn.preprocessing import label_binarize"
      ],
      "execution_count": 10,
      "outputs": []
    },
    {
      "cell_type": "code",
      "metadata": {
        "id": "p5znqnESZa4J"
      },
      "source": [
        "y_train = label_binarize(y_train, classes=[0, 1, 2, 3, 4])\n",
        "y_test = label_binarize(y_test, classes=[0, 1, 2, 3, 4])"
      ],
      "execution_count": 36,
      "outputs": []
    },
    {
      "cell_type": "code",
      "metadata": {
        "id": "m6HKHGtjZecI"
      },
      "source": [
        "n_classes = y_train.shape[1]"
      ],
      "execution_count": 37,
      "outputs": []
    },
    {
      "cell_type": "code",
      "metadata": {
        "id": "SdygVYWXZgby",
        "outputId": "42e693dc-dd89-4bc4-9b6d-7d29f4d21436",
        "colab": {
          "base_uri": "https://localhost:8080/",
          "height": 34
        }
      },
      "source": [
        "n_classes"
      ],
      "execution_count": 38,
      "outputs": [
        {
          "output_type": "execute_result",
          "data": {
            "text/plain": [
              "5"
            ]
          },
          "metadata": {
            "tags": []
          },
          "execution_count": 38
        }
      ]
    },
    {
      "cell_type": "code",
      "metadata": {
        "id": "2d4HE_K3ZiWx"
      },
      "source": [
        "from sklearn.preprocessing import StandardScaler\n",
        "from sklearn.pipeline import Pipeline\n",
        "from sklearn.linear_model import LogisticRegression\n",
        "from sklearn.model_selection import cross_val_score\n",
        "import matplotlib.pyplot as plt\n",
        "from sklearn.model_selection import learning_curve\n",
        "import numpy as np\n",
        "from sklearn.multiclass import OneVsRestClassifier\n",
        "from sklearn.metrics import roc_curve, auc\n",
        "from scipy import interp\n",
        "from itertools import cycle"
      ],
      "execution_count": 17,
      "outputs": []
    },
    {
      "cell_type": "code",
      "metadata": {
        "id": "3x-1X_OmZkyw"
      },
      "source": [
        "pipe_lr = Pipeline([('scl', StandardScaler()),('clf', OneVsRestClassifier(LogisticRegression(penalty='l2', random_state=0)))])"
      ],
      "execution_count": 18,
      "outputs": []
    },
    {
      "cell_type": "code",
      "metadata": {
        "id": "rv1iVjq4ZoPp"
      },
      "source": [
        "from sklearn.svm import LinearSVC"
      ],
      "execution_count": 19,
      "outputs": []
    },
    {
      "cell_type": "code",
      "metadata": {
        "id": "w1eoETyLZpyQ"
      },
      "source": [
        "pipe_svc = Pipeline([('scl', StandardScaler()),('clf', OneVsRestClassifier(LinearSVC()))])"
      ],
      "execution_count": 20,
      "outputs": []
    },
    {
      "cell_type": "code",
      "metadata": {
        "id": "r8XevnltZraI"
      },
      "source": [
        "from sklearn import tree"
      ],
      "execution_count": 21,
      "outputs": []
    },
    {
      "cell_type": "code",
      "metadata": {
        "id": "U3FV8OMcZth9"
      },
      "source": [
        "pipe_tree = Pipeline([('scl', StandardScaler()),('clf', OneVsRestClassifier(tree.DecisionTreeClassifier()))])"
      ],
      "execution_count": 22,
      "outputs": []
    },
    {
      "cell_type": "code",
      "metadata": {
        "id": "5nFbhaMAZvTx"
      },
      "source": [
        "from sklearn.ensemble import RandomForestClassifier"
      ],
      "execution_count": 23,
      "outputs": []
    },
    {
      "cell_type": "code",
      "metadata": {
        "id": "2QpYy4QoZw1B"
      },
      "source": [
        "pipe_rnd = Pipeline([('scl', StandardScaler()),('clf', OneVsRestClassifier(RandomForestClassifier(warm_start=True,n_estimators=10)))])"
      ],
      "execution_count": 24,
      "outputs": []
    },
    {
      "cell_type": "code",
      "metadata": {
        "id": "Gh9XmcIzZygh"
      },
      "source": [
        "from sklearn.neural_network import MLPClassifier\n",
        "mlp = MLPClassifier(hidden_layer_sizes=(50,), alpha=1e-4, solver='sgd', verbose=10, tol=1e-4, random_state=1, learning_rate_init=.1)"
      ],
      "execution_count": 25,
      "outputs": []
    },
    {
      "cell_type": "code",
      "metadata": {
        "id": "Tgq3UXlWZz18"
      },
      "source": [
        "pipe_mlp = Pipeline([('scl', StandardScaler()),('clf', OneVsRestClassifier(mlp))])"
      ],
      "execution_count": 26,
      "outputs": []
    },
    {
      "cell_type": "markdown",
      "metadata": {
        "id": "igP6KFQ7Z2vw"
      },
      "source": [
        "## Logistic Regression"
      ]
    },
    {
      "cell_type": "code",
      "metadata": {
        "id": "6FF5a6L9Z8qp"
      },
      "source": [
        "pipe_lr = pipe_lr.fit(X_train, y_train)"
      ],
      "execution_count": null,
      "outputs": []
    },
    {
      "cell_type": "code",
      "metadata": {
        "id": "RpD6iWBUaDeC"
      },
      "source": [
        "y_score_lr = pipe_lr.decision_function(X_test)"
      ],
      "execution_count": 41,
      "outputs": []
    },
    {
      "cell_type": "code",
      "metadata": {
        "id": "NkJe2FtpaE8S",
        "outputId": "ebb99981-dea3-42a8-d28b-6ef344aac8a1",
        "colab": {
          "base_uri": "https://localhost:8080/",
          "height": 238
        }
      },
      "source": [
        "y_score_lr"
      ],
      "execution_count": 42,
      "outputs": [
        {
          "output_type": "execute_result",
          "data": {
            "text/plain": [
              "array([[ -5.75289266,   5.13725231,  -2.94914387, -16.98918116,\n",
              "        -11.88793287],\n",
              "       [ -4.42625932,   3.96076813,  -3.05086785, -14.38285324,\n",
              "        -11.84623781],\n",
              "       [  1.65458762, -10.64860098,  -2.96426251,  -6.25771983,\n",
              "         -9.10847506],\n",
              "       ...,\n",
              "       [  2.63510668,   1.99746706,  -9.93221241,  -6.45595446,\n",
              "        -12.61612673],\n",
              "       [  5.18102935, -15.47359743,  -5.51992738,  -9.16758298,\n",
              "        -15.13048488],\n",
              "       [ -0.12682058, -10.12159249,   1.09798299, -13.17725629,\n",
              "        -14.71330545]])"
            ]
          },
          "metadata": {
            "tags": []
          },
          "execution_count": 42
        }
      ]
    },
    {
      "cell_type": "code",
      "metadata": {
        "id": "Pp-kjq2eaHBR"
      },
      "source": [
        "fpr_lr = dict()\n",
        "tpr_lr = dict()\n",
        "roc_auc_lr = dict()\n",
        "for i in range(n_classes):\n",
        "  fpr_lr[i], tpr_lr[i], _ = roc_curve(y_test[:,i], y_score_lr[:,i])\n",
        "  roc_auc_lr[i] = auc(fpr_lr[i], tpr_lr[i])"
      ],
      "execution_count": 43,
      "outputs": []
    },
    {
      "cell_type": "code",
      "metadata": {
        "id": "Knt_8eSyaHhR",
        "outputId": "906652d9-48cb-4ba2-e808-a74cfad28d75",
        "colab": {
          "base_uri": "https://localhost:8080/",
          "height": 395
        }
      },
      "source": [
        "lw = 2\n",
        "classes = [\"NL\", \"DoS\", \"D.P\", \"R2L\", \"U2R\"]\n",
        "plt.figure(figsize=(7,6))\n",
        "ax=plt.subplot(111)\n",
        "colors = cycle(['red','maroon','navy','aqua', 'darkorange'])\n",
        "for i, color in zip(range(n_classes), colors):\n",
        "    plt.plot(fpr_lr[i], tpr_lr[i], color=color, lw=lw,\n",
        "             label='{0} (area = {1:0.2f})'\n",
        "             ''.format(classes[i], roc_auc_lr[i]))\n",
        "\n",
        "plt.plot([0, 1], [0, 1], 'k--', lw=lw)\n",
        "plt.xlim([0.0, 1.0])\n",
        "plt.ylim([0.0, 1.0])\n",
        "plt.xticks(fontsize=11,weight='bold')\n",
        "plt.yticks(fontsize=11,weight='bold')\n",
        "plt.setp(ax.spines.values(), linewidth=2)\n",
        "ax.xaxis.set_tick_params(width=2)\n",
        "ax.yaxis.set_tick_params(width=2)\n",
        "plt.xlabel('False Positive Rate',fontsize=12,weight='bold')\n",
        "plt.ylabel('True Positive Rate',fontsize=12,weight='bold')\n",
        "plt.legend(loc=\"lower right\")\n",
        "plt.savefig(\"ROC_of_Logistic_Regression\")"
      ],
      "execution_count": 44,
      "outputs": [
        {
          "output_type": "display_data",
          "data": {
            "image/png": "[encoded data removed]",
            "text/plain": [
              "<Figure size 504x432 with 1 Axes>"
            ]
          },
          "metadata": {
            "tags": [],
            "needs_background": "light"
          }
        }
      ]
    },
    {
      "cell_type": "code",
      "metadata": {
        "id": "zKOQCj_slvMQ"
      },
      "source": [
        ""
      ],
      "execution_count": null,
      "outputs": []
    },
    {
      "cell_type": "markdown",
      "metadata": {
        "id": "pwgYiq2blwp0"
      },
      "source": [
        "## Decision tree"
      ]
    },
    {
      "cell_type": "code",
      "metadata": {
        "id": "Mu5RViMJzCYe"
      },
      "source": [
        "pipe_tree = pipe_tree.fit(X_train, y_train)"
      ],
      "execution_count": 45,
      "outputs": []
    },
    {
      "cell_type": "code",
      "metadata": {
        "id": "5s09vMBfzHGP"
      },
      "source": [
        "y_score_tree = pipe_tree.predict_proba(X_test)\n",
        "fpr_tree = dict()\n",
        "tpr_tree = dict()\n",
        "roc_auc_tree = dict()\n",
        "for i in range(n_classes):\n",
        "    fpr_tree[i], tpr_tree[i], _ = roc_curve(y_test[:, i], y_score_tree[:, i])\n",
        "    roc_auc_tree[i] = auc(fpr_tree[i], tpr_tree[i])"
      ],
      "execution_count": 46,
      "outputs": []
    },
    {
      "cell_type": "code",
      "metadata": {
        "id": "Bug1d0Edl06O",
        "outputId": "7cd85d8b-57d8-438e-b4e7-adf8567e54f8",
        "colab": {
          "base_uri": "https://localhost:8080/",
          "height": 395
        }
      },
      "source": [
        "lw = 2\n",
        "classes = [\"NL\", \"DoS\", \"D.P\", \"R2L\", \"U2R\"]\n",
        "plt.figure(figsize=(7,6))\n",
        "ax=plt.subplot(111)\n",
        "colors = cycle(['red','maroon','navy','aqua', 'darkorange'])\n",
        "for i, color in zip(range(n_classes), colors):\n",
        "    plt.plot(fpr_tree[i], tpr_tree[i], color=color, lw=lw,\n",
        "             label='{0} (area = {1:0.2f})'\n",
        "             ''.format(classes[i], roc_auc_tree[i]))\n",
        "\n",
        "plt.plot([0, 1], [0, 1], 'k--', lw=lw)\n",
        "plt.xlim([0.0, 1.0])\n",
        "plt.ylim([0.0, 1.0])\n",
        "plt.xticks(fontsize=11,weight='bold')\n",
        "plt.yticks(fontsize=11,weight='bold')\n",
        "plt.setp(ax.spines.values(), linewidth=2)\n",
        "ax.xaxis.set_tick_params(width=2)\n",
        "ax.yaxis.set_tick_params(width=2)\n",
        "plt.xlabel('False Positive Rate',fontsize=12,weight='bold')\n",
        "plt.ylabel('True Positive Rate',fontsize=12,weight='bold')\n",
        "plt.legend(loc=\"lower right\")\n",
        "plt.savefig(\"ROC_of_Decision_Tree\")"
      ],
      "execution_count": 47,
      "outputs": [
        {
          "output_type": "display_data",
          "data": {
            "image/png": "[encoded data removed]",
            "text/plain": [
              "<Figure size 504x432 with 1 Axes>"
            ]
          },
          "metadata": {
            "tags": [],
            "needs_background": "light"
          }
        }
      ]
    },
    {
      "cell_type": "markdown",
      "metadata": {
        "id": "Qp4rL-x8mSld"
      },
      "source": [
        "## SVM"
      ]
    },
    {
      "cell_type": "code",
      "metadata": {
        "id": "3BEbs9O4mUko",
        "outputId": "4da18e4e-1f58-4ee4-ebe4-80a206710ee0",
        "colab": {
          "base_uri": "https://localhost:8080/",
          "height": 207
        }
      },
      "source": [
        "pipe_svc = pipe_svc.fit(X_train, y_train)\n",
        "y_pred_train = pipe_svc.predict(X_train)\n",
        "y_pred_test = pipe_svc.predict(X_test)"
      ],
      "execution_count": 48,
      "outputs": [
        {
          "output_type": "stream",
          "text": [
            "/usr/local/lib/python3.6/dist-packages/sklearn/svm/_base.py:947: ConvergenceWarning: Liblinear failed to converge, increase the number of iterations.\n",
            "  \"the number of iterations.\", ConvergenceWarning)\n",
            "/usr/local/lib/python3.6/dist-packages/sklearn/svm/_base.py:947: ConvergenceWarning: Liblinear failed to converge, increase the number of iterations.\n",
            "  \"the number of iterations.\", ConvergenceWarning)\n",
            "/usr/local/lib/python3.6/dist-packages/sklearn/svm/_base.py:947: ConvergenceWarning: Liblinear failed to converge, increase the number of iterations.\n",
            "  \"the number of iterations.\", ConvergenceWarning)\n",
            "/usr/local/lib/python3.6/dist-packages/sklearn/svm/_base.py:947: ConvergenceWarning: Liblinear failed to converge, increase the number of iterations.\n",
            "  \"the number of iterations.\", ConvergenceWarning)\n",
            "/usr/local/lib/python3.6/dist-packages/sklearn/svm/_base.py:947: ConvergenceWarning: Liblinear failed to converge, increase the number of iterations.\n",
            "  \"the number of iterations.\", ConvergenceWarning)\n"
          ],
          "name": "stderr"
        }
      ]
    },
    {
      "cell_type": "code",
      "metadata": {
        "id": "i5nYDUm2mYu2"
      },
      "source": [
        "y_score_svc = pipe_svc.decision_function(X_test)"
      ],
      "execution_count": 49,
      "outputs": []
    },
    {
      "cell_type": "code",
      "metadata": {
        "id": "PdpJyYLjmb-1"
      },
      "source": [
        "fpr_svc = dict()\n",
        "tpr_svc = dict()\n",
        "roc_auc_svc = dict()\n",
        "for i in range(n_classes):\n",
        "    fpr_svc[i], tpr_svc[i], _ = roc_curve(y_test[:, i], y_score_svc[:, i])\n",
        "    roc_auc_svc[i] = auc(fpr_svc[i], tpr_svc[i])"
      ],
      "execution_count": 50,
      "outputs": []
    },
    {
      "cell_type": "code",
      "metadata": {
        "id": "NJv1xpJEmfPm",
        "outputId": "45134ebf-4ec7-42d5-aa35-1fa02d100942",
        "colab": {
          "base_uri": "https://localhost:8080/",
          "height": 395
        }
      },
      "source": [
        "lw = 2\n",
        "classes = [\"NL\", \"DoS\", \"D.P\", \"R2L\", \"U2R\"]\n",
        "plt.figure(figsize=(7,6))\n",
        "ax=plt.subplot(111)\n",
        "colors = cycle(['red','maroon','navy','aqua', 'darkorange'])\n",
        "for i, color in zip(range(n_classes), colors):\n",
        "    plt.plot(fpr_svc[i], tpr_svc[i], color=color, lw=lw,\n",
        "             label='{0} (area = {1:0.2f})'\n",
        "             ''.format(classes[i], roc_auc_svc[i]))\n",
        "\n",
        "plt.plot([0, 1], [0, 1], 'k--', lw=lw)\n",
        "plt.xlim([0.0, 1.0])\n",
        "plt.ylim([0.0, 1.0])\n",
        "plt.xticks(fontsize=11,weight='bold')\n",
        "plt.yticks(fontsize=11,weight='bold')\n",
        "plt.setp(ax.spines.values(), linewidth=2)\n",
        "ax.xaxis.set_tick_params(width=2)\n",
        "ax.yaxis.set_tick_params(width=2)\n",
        "plt.xlabel('False Positive Rate',fontsize=12,weight='bold')\n",
        "plt.ylabel('True Positive Rate',fontsize=12,weight='bold')\n",
        "plt.legend(loc=\"lower right\")\n",
        "plt.savefig(\"ROC_of_SVM\")"
      ],
      "execution_count": 51,
      "outputs": [
        {
          "output_type": "display_data",
          "data": {
            "image/png": "[encoded data removed]",
            "text/plain": [
              "<Figure size 504x432 with 1 Axes>"
            ]
          },
          "metadata": {
            "tags": [],
            "needs_background": "light"
          }
        }
      ]
    },
    {
      "cell_type": "markdown",
      "metadata": {
        "id": "i_RedISqm0Q9"
      },
      "source": [
        "## Random forest"
      ]
    },
    {
      "cell_type": "code",
      "metadata": {
        "id": "2YEig0HUm267"
      },
      "source": [
        "pipe_rnd = pipe_rnd.fit(X_train, y_train)"
      ],
      "execution_count": 52,
      "outputs": []
    },
    {
      "cell_type": "code",
      "metadata": {
        "id": "JpuEh49Lm6tO"
      },
      "source": [
        "y_score_rnd = pipe_rnd.predict_proba(X_test)\n",
        "fpr_rnd = dict()\n",
        "tpr_rnd = dict()\n",
        "roc_auc_rnd = dict()\n",
        "for i in range(n_classes):\n",
        "    fpr_rnd[i], tpr_rnd[i], _ = roc_curve(y_test[:, i], y_score_rnd[:, i])\n",
        "    roc_auc_rnd[i] = auc(fpr_rnd[i], tpr_rnd[i])"
      ],
      "execution_count": 53,
      "outputs": []
    },
    {
      "cell_type": "code",
      "metadata": {
        "id": "6CqAvk3Zm856",
        "outputId": "8d29c145-a34b-43a9-e69c-ecd0bbbec374",
        "colab": {
          "base_uri": "https://localhost:8080/",
          "height": 395
        }
      },
      "source": [
        "lw = 2\n",
        "classes = [\"NL\", \"DoS\", \"D.P\", \"R2L\", \"U2R\"]\n",
        "plt.figure(figsize=(7,6))\n",
        "ax=plt.subplot(111)\n",
        "colors = cycle(['red','maroon','navy','aqua', 'darkorange'])\n",
        "for i, color in zip(range(n_classes), colors):\n",
        "    plt.plot(fpr_rnd[i], tpr_rnd[i], color=color, lw=lw,\n",
        "             label='{0} (area = {1:0.2f})'\n",
        "             ''.format(classes[i], roc_auc_rnd[i]))\n",
        "\n",
        "plt.plot([0, 1], [0, 1], 'k--', lw=lw)\n",
        "plt.xlim([0.0, 1.0])\n",
        "plt.ylim([0.0, 1.0])\n",
        "plt.xticks(fontsize=11,weight='bold')\n",
        "plt.yticks(fontsize=11,weight='bold')\n",
        "plt.setp(ax.spines.values(), linewidth=2)\n",
        "ax.xaxis.set_tick_params(width=2)\n",
        "ax.yaxis.set_tick_params(width=2)\n",
        "plt.xlabel('False Positive Rate',fontsize=12,weight='bold')\n",
        "plt.ylabel('True Positive Rate',fontsize=12,weight='bold')\n",
        "plt.legend(loc=\"lower right\")\n",
        "plt.savefig(\"ROC_of_Random_Forrest\")"
      ],
      "execution_count": 54,
      "outputs": [
        {
          "output_type": "display_data",
          "data": {
            "image/png": "[encoded data removed]",
            "text/plain": [
              "<Figure size 504x432 with 1 Axes>"
            ]
          },
          "metadata": {
            "tags": [],
            "needs_background": "light"
          }
        }
      ]
    },
    {
      "cell_type": "markdown",
      "metadata": {
        "id": "bQ8jw1yNnEFt"
      },
      "source": [
        "## ANN"
      ]
    },
    {
      "cell_type": "code",
      "metadata": {
        "id": "xVCEPgIJnFju",
        "outputId": "bf42e46a-6d37-477e-d2b1-16cd3e1bae95",
        "colab": {
          "base_uri": "https://localhost:8080/",
          "height": 1000
        }
      },
      "source": [
        "pipe_mlp = pipe_mlp.fit(X_train, y_train)"
      ],
      "execution_count": 55,
      "outputs": [
        {
          "output_type": "stream",
          "text": [
            "Iteration 1, loss = inf\n",
            "Iteration 2, loss = 0.03083209\n",
            "Iteration 3, loss = 0.02636944\n",
            "Iteration 4, loss = inf\n",
            "Iteration 5, loss = 0.02194548\n",
            "Iteration 6, loss = inf\n",
            "Iteration 7, loss = 0.01978538\n",
            "Iteration 8, loss = 0.01902382\n",
            "Iteration 9, loss = 0.01823784\n",
            "Iteration 10, loss = 0.01727762\n",
            "Iteration 11, loss = 0.01661842\n",
            "Iteration 12, loss = 0.01720314\n",
            "Iteration 13, loss = 0.01657169\n",
            "Iteration 14, loss = 0.01630580\n",
            "Iteration 15, loss = 0.01589579\n",
            "Iteration 16, loss = 0.01526633\n",
            "Iteration 17, loss = 0.01506302\n",
            "Iteration 18, loss = 0.01436422\n",
            "Iteration 19, loss = 0.01461977\n",
            "Iteration 20, loss = 0.01422325\n",
            "Iteration 21, loss = 0.01412750\n",
            "Iteration 22, loss = 0.01344242\n",
            "Iteration 23, loss = inf\n",
            "Iteration 24, loss = 0.01355534\n",
            "Iteration 25, loss = 0.01321496\n",
            "Iteration 26, loss = 0.01281289\n",
            "Iteration 27, loss = 0.01262887\n",
            "Iteration 28, loss = 0.01296486\n",
            "Iteration 29, loss = 0.01233335\n",
            "Iteration 30, loss = 0.01237599\n",
            "Iteration 31, loss = inf\n",
            "Iteration 32, loss = 0.01248235\n",
            "Iteration 33, loss = 0.01194826\n",
            "Iteration 34, loss = 0.01196214\n",
            "Iteration 35, loss = 0.01214021\n",
            "Iteration 36, loss = 0.01194660\n",
            "Iteration 37, loss = 0.01159102\n",
            "Iteration 38, loss = 0.01171704\n",
            "Iteration 39, loss = 0.01160354\n",
            "Iteration 40, loss = 0.01241503\n",
            "Iteration 41, loss = 0.01143428\n",
            "Iteration 42, loss = 0.01107234\n",
            "Iteration 43, loss = 0.01086956\n",
            "Iteration 44, loss = 0.01070510\n",
            "Iteration 45, loss = 0.01085211\n",
            "Iteration 46, loss = 0.01112768\n",
            "Iteration 47, loss = 0.01114574\n",
            "Iteration 48, loss = 0.01143298\n",
            "Iteration 49, loss = 0.01094725\n",
            "Iteration 50, loss = inf\n",
            "Iteration 51, loss = inf\n",
            "Iteration 52, loss = 0.01131908\n",
            "Iteration 53, loss = 0.01067759\n",
            "Iteration 54, loss = 0.01039614\n",
            "Iteration 55, loss = 0.01021806\n",
            "Iteration 56, loss = 0.00992260\n",
            "Iteration 57, loss = 0.01024043\n",
            "Iteration 58, loss = 0.00993685\n",
            "Iteration 59, loss = 0.01064775\n",
            "Iteration 60, loss = 0.01050024\n",
            "Iteration 61, loss = 0.00990105\n",
            "Iteration 62, loss = 0.00994098\n",
            "Iteration 63, loss = 0.00964693\n",
            "Iteration 64, loss = 0.00991327\n",
            "Iteration 65, loss = 0.00974055\n",
            "Iteration 66, loss = 0.00962335\n",
            "Iteration 67, loss = 0.00925379\n",
            "Iteration 68, loss = 0.00960137\n",
            "Iteration 69, loss = 0.00944990\n",
            "Iteration 70, loss = 0.00931951\n",
            "Iteration 71, loss = 0.00937671\n",
            "Iteration 72, loss = 0.00936202\n",
            "Iteration 73, loss = inf\n",
            "Iteration 74, loss = 0.00963288\n",
            "Iteration 75, loss = 0.00980301\n",
            "Iteration 76, loss = 0.00899057\n",
            "Iteration 77, loss = 0.00935011\n",
            "Iteration 78, loss = 0.00952829\n",
            "Iteration 79, loss = 0.00940555\n",
            "Iteration 80, loss = 0.00939237\n",
            "Iteration 81, loss = 0.00937545\n",
            "Iteration 82, loss = 0.00894971\n",
            "Iteration 83, loss = 0.00933885\n",
            "Iteration 84, loss = 0.00926036\n",
            "Iteration 85, loss = 0.00913364\n",
            "Iteration 86, loss = 0.00906533\n",
            "Iteration 87, loss = inf\n",
            "Training loss did not improve more than tol=0.000100 for 10 consecutive epochs. Stopping.\n",
            "Iteration 1, loss = inf\n",
            "Iteration 2, loss = 0.00534293\n",
            "Iteration 3, loss = 0.00414791\n",
            "Iteration 4, loss = 0.00354215\n",
            "Iteration 5, loss = 0.00318168\n",
            "Iteration 6, loss = 0.00294475\n",
            "Iteration 7, loss = 0.00272712\n",
            "Iteration 8, loss = 0.00264721\n",
            "Iteration 9, loss = 0.00245088\n",
            "Iteration 10, loss = 0.00241288\n",
            "Iteration 11, loss = 0.00226146\n",
            "Iteration 12, loss = 0.00225315\n",
            "Iteration 13, loss = 0.00217310\n",
            "Iteration 14, loss = 0.00216456\n",
            "Iteration 15, loss = 0.00201316\n",
            "Iteration 16, loss = 0.00205046\n",
            "Iteration 17, loss = 0.00198659\n",
            "Iteration 18, loss = 0.00201981\n",
            "Iteration 19, loss = 0.00192336\n",
            "Iteration 20, loss = 0.00189627\n",
            "Iteration 21, loss = 0.00190795\n",
            "Iteration 22, loss = 0.00180877\n",
            "Iteration 23, loss = 0.00187417\n",
            "Iteration 24, loss = 0.00190977\n",
            "Iteration 25, loss = 0.00172793\n",
            "Iteration 26, loss = 0.00178215\n",
            "Training loss did not improve more than tol=0.000100 for 10 consecutive epochs. Stopping.\n",
            "Iteration 1, loss = 0.03080997\n",
            "Iteration 2, loss = 0.01504925\n",
            "Iteration 3, loss = 0.01236711\n",
            "Iteration 4, loss = 0.01100019\n",
            "Iteration 5, loss = 0.01047550\n",
            "Iteration 6, loss = 0.00971667\n",
            "Iteration 7, loss = 0.00890393\n",
            "Iteration 8, loss = 0.00915097\n",
            "Iteration 9, loss = inf\n",
            "Iteration 10, loss = inf\n",
            "Iteration 11, loss = inf\n",
            "Iteration 12, loss = 0.00745940\n",
            "Iteration 13, loss = 0.00705402\n",
            "Iteration 14, loss = 0.00679518\n",
            "Iteration 15, loss = 0.00648355\n",
            "Iteration 16, loss = 0.00624111\n",
            "Iteration 17, loss = 0.00617009\n",
            "Iteration 18, loss = 0.00585540\n",
            "Iteration 19, loss = 0.00578242\n",
            "Iteration 20, loss = 0.00550833\n",
            "Iteration 21, loss = 0.00552367\n",
            "Iteration 22, loss = 0.00551911\n",
            "Iteration 23, loss = 0.00543682\n",
            "Iteration 24, loss = 0.00566292\n",
            "Iteration 25, loss = 0.00536012\n",
            "Iteration 26, loss = 0.00521173\n",
            "Iteration 27, loss = 0.00509315\n",
            "Iteration 28, loss = 0.00493579\n",
            "Iteration 29, loss = 0.00483410\n",
            "Iteration 30, loss = 0.00484194\n",
            "Iteration 31, loss = 0.00465967\n",
            "Iteration 32, loss = 0.00460016\n",
            "Iteration 33, loss = 0.00453162\n",
            "Iteration 34, loss = 0.00446700\n",
            "Iteration 35, loss = 0.00444771\n",
            "Iteration 36, loss = 0.00433979\n",
            "Iteration 37, loss = 0.00414082\n",
            "Iteration 38, loss = 0.00427315\n",
            "Iteration 39, loss = 0.00428821\n",
            "Iteration 40, loss = 0.00424304\n",
            "Iteration 41, loss = 0.00423440\n",
            "Iteration 42, loss = 0.00405475\n",
            "Iteration 43, loss = 0.00396112\n",
            "Iteration 44, loss = 0.00421467\n",
            "Iteration 45, loss = 0.00417314\n",
            "Iteration 46, loss = 0.00432858\n",
            "Iteration 47, loss = 0.00389326\n",
            "Iteration 48, loss = 0.00408115\n",
            "Training loss did not improve more than tol=0.000100 for 10 consecutive epochs. Stopping.\n",
            "Iteration 1, loss = 0.01866818\n",
            "Iteration 2, loss = 0.01123774\n",
            "Iteration 3, loss = 0.00994558\n",
            "Iteration 4, loss = 0.00920386\n",
            "Iteration 5, loss = 0.00890733\n",
            "Iteration 6, loss = 0.00821249\n",
            "Iteration 7, loss = 0.00800585\n",
            "Iteration 8, loss = 0.00762197\n",
            "Iteration 9, loss = 0.00771348\n",
            "Iteration 10, loss = 0.00718243\n",
            "Iteration 11, loss = 0.00714355\n",
            "Iteration 12, loss = 0.00737325\n",
            "Iteration 13, loss = 0.00676128\n",
            "Iteration 14, loss = 0.00682491\n",
            "Iteration 15, loss = 0.00655075\n",
            "Iteration 16, loss = 0.00662048\n",
            "Iteration 17, loss = 0.00615013\n",
            "Iteration 18, loss = 0.00610364\n",
            "Iteration 19, loss = 0.00603660\n",
            "Iteration 20, loss = 0.00595474\n",
            "Iteration 21, loss = 0.00572607\n",
            "Iteration 22, loss = 0.00556043\n",
            "Iteration 23, loss = 0.00546914\n",
            "Iteration 24, loss = 0.00535971\n",
            "Iteration 25, loss = 0.00537458\n",
            "Iteration 26, loss = 0.00508101\n",
            "Iteration 27, loss = 0.00504781\n",
            "Iteration 28, loss = 0.00524277\n",
            "Iteration 29, loss = 0.00497651\n",
            "Iteration 30, loss = 0.00484191\n",
            "Iteration 31, loss = 0.00480175\n",
            "Iteration 32, loss = 0.00485960\n",
            "Iteration 33, loss = 0.00468400\n",
            "Iteration 34, loss = 0.00451131\n",
            "Iteration 35, loss = 0.00467476\n",
            "Iteration 36, loss = 0.00451815\n",
            "Iteration 37, loss = 0.00445355\n",
            "Iteration 38, loss = 0.00437261\n",
            "Iteration 39, loss = 0.00414928\n",
            "Iteration 40, loss = 0.00435311\n",
            "Iteration 41, loss = 0.00419602\n",
            "Iteration 42, loss = 0.00404417\n",
            "Iteration 43, loss = 0.00396206\n",
            "Iteration 44, loss = 0.00443250\n",
            "Iteration 45, loss = 0.00419631\n",
            "Iteration 46, loss = 0.00384633\n",
            "Iteration 47, loss = 0.00405227\n",
            "Iteration 48, loss = 0.00395298\n",
            "Iteration 49, loss = 0.00372335\n",
            "Iteration 50, loss = 0.00369701\n",
            "Iteration 51, loss = 0.00377026\n",
            "Iteration 52, loss = 0.00403343\n",
            "Iteration 53, loss = 0.00375983\n",
            "Iteration 54, loss = 0.00360442\n",
            "Iteration 55, loss = 0.00344697\n",
            "Iteration 56, loss = 0.00341729\n",
            "Iteration 57, loss = 0.00355755\n",
            "Iteration 58, loss = 0.00357035\n",
            "Iteration 59, loss = 0.00338793\n",
            "Iteration 60, loss = 0.00328918\n",
            "Iteration 61, loss = 0.00356868\n",
            "Iteration 62, loss = 0.00340166\n",
            "Iteration 63, loss = 0.00356943\n",
            "Iteration 64, loss = 0.00342606\n",
            "Iteration 65, loss = 0.00314179\n",
            "Iteration 66, loss = 0.00328314\n",
            "Iteration 67, loss = 0.00320018\n",
            "Iteration 68, loss = 0.00350797\n",
            "Iteration 69, loss = 0.00316298\n",
            "Iteration 70, loss = 0.00297265\n",
            "Iteration 71, loss = 0.00309522\n",
            "Iteration 72, loss = 0.00307759\n",
            "Iteration 73, loss = 0.00303093\n",
            "Iteration 74, loss = 0.00305748\n",
            "Iteration 75, loss = 0.00300883\n",
            "Iteration 76, loss = 0.00301793\n",
            "Iteration 77, loss = 0.00339327\n",
            "Iteration 78, loss = 0.00297546\n",
            "Iteration 79, loss = 0.00309832\n",
            "Iteration 80, loss = 0.00288937\n",
            "Iteration 81, loss = 0.00326859\n",
            "Training loss did not improve more than tol=0.000100 for 10 consecutive epochs. Stopping.\n",
            "Iteration 1, loss = 0.00541480\n",
            "Iteration 2, loss = 0.00195702\n",
            "Iteration 3, loss = 0.00162190\n",
            "Iteration 4, loss = 0.00159083\n",
            "Iteration 5, loss = 0.00157899\n",
            "Iteration 6, loss = 0.00143291\n",
            "Iteration 7, loss = 0.00132728\n",
            "Iteration 8, loss = 0.00133294\n",
            "Iteration 9, loss = 0.00126842\n",
            "Iteration 10, loss = 0.00119382\n",
            "Iteration 11, loss = 0.00120438\n",
            "Iteration 12, loss = 0.00118225\n",
            "Iteration 13, loss = 0.00113985\n",
            "Iteration 14, loss = 0.00112274\n",
            "Iteration 15, loss = 0.00109759\n",
            "Iteration 16, loss = 0.00110867\n",
            "Iteration 17, loss = 0.00108439\n",
            "Iteration 18, loss = 0.00103082\n",
            "Training loss did not improve more than tol=0.000100 for 10 consecutive epochs. Stopping.\n"
          ],
          "name": "stdout"
        }
      ]
    },
    {
      "cell_type": "code",
      "metadata": {
        "id": "ccNsQFMPnLqW"
      },
      "source": [
        "y_score_mlp = pipe_mlp.predict_proba(X_test)\n",
        "fpr_mlp = dict()\n",
        "tpr_mlp = dict()\n",
        "roc_auc_mlp = dict()\n",
        "for i in range(n_classes):\n",
        "    fpr_mlp[i], tpr_mlp[i], _ = roc_curve(y_test[:, i], y_score_mlp[:, i])\n",
        "    roc_auc_mlp[i] = auc(fpr_mlp[i], tpr_mlp[i])"
      ],
      "execution_count": 56,
      "outputs": []
    },
    {
      "cell_type": "code",
      "metadata": {
        "id": "eih-aFJFnOB2",
        "outputId": "3b242f85-2e2a-453b-a612-6d7c3a3f1504",
        "colab": {
          "base_uri": "https://localhost:8080/",
          "height": 395
        }
      },
      "source": [
        "lw = 2\n",
        "classes = [\"NL\", \"DoS\", \"D.P\", \"R2L\", \"U2R\"]\n",
        "plt.figure(figsize=(7,6))\n",
        "ax=plt.subplot(111)\n",
        "colors = cycle(['red','maroon','navy','aqua', 'darkorange'])\n",
        "for i, color in zip(range(n_classes), colors):\n",
        "    plt.plot(fpr_mlp[i], tpr_mlp[i], color=color, lw=lw,\n",
        "             label='{0} (area = {1:0.2f})'\n",
        "             ''.format(classes[i], roc_auc_mlp[i]))\n",
        "\n",
        "plt.plot([0, 1], [0, 1], 'k--', lw=lw)\n",
        "plt.xlim([0.0, 1.0])\n",
        "plt.ylim([0.0, 1.0])\n",
        "plt.xticks(fontsize=11,weight='bold')\n",
        "plt.yticks(fontsize=11,weight='bold')\n",
        "plt.setp(ax.spines.values(), linewidth=2)\n",
        "ax.xaxis.set_tick_params(width=2)\n",
        "ax.yaxis.set_tick_params(width=2)\n",
        "plt.xlabel('False Positive Rate',fontsize=12,weight='bold')\n",
        "plt.ylabel('True Positive Rate',fontsize=12,weight='bold')\n",
        "plt.legend(loc=\"lower right\")\n",
        "plt.savefig(\"ROC_of_MLP\")"
      ],
      "execution_count": 57,
      "outputs": [
        {
          "output_type": "display_data",
          "data": {
            "image/png": "[encoded data removed]",
            "text/plain": [
              "<Figure size 504x432 with 1 Axes>"
            ]
          },
          "metadata": {
            "tags": [],
            "needs_background": "light"
          }
        }
      ]
    }
  ]
}