{
  "nbformat": 4,
  "nbformat_minor": 0,
  "metadata": {
    "kernelspec": {
      "display_name": "Python 3",
      "language": "python",
      "name": "python3"
    },
    "language_info": {
      "codemirror_mode": {
        "name": "ipython",
        "version": 3
      },
      "file_extension": ".py",
      "mimetype": "text/x-python",
      "name": "python",
      "nbconvert_exporter": "python",
      "pygments_lexer": "ipython3",
      "version": "3.6.8"
    },
    "colab": {
      "name": "Copy of Result Analysis on Preprocessed Data (Accuracy, Precision, Recall, F1, Confusion Matrix).ipynb",
      "provenance": []
    }
  },
  "cells": [
    {
      "cell_type": "markdown",
      "metadata": {
        "id": "tzJax8YHdHBG",
        "colab_type": "text"
      },
      "source": [
        "# This Notebook starts from Preprocessed Dataframework. \"df_spark.csv\" is the dataframe"
      ]
    },
    {
      "cell_type": "code",
      "metadata": {
        "id": "_hQw4IQkdHBI",
        "colab_type": "code",
        "colab": {}
      },
      "source": [
        "import pandas as pd"
      ],
      "execution_count": null,
      "outputs": []
    },
    {
      "cell_type": "code",
      "metadata": {
        "id": "egF-OhKddHBN",
        "colab_type": "code",
        "colab": {
          "base_uri": "https://localhost:8080/",
          "height": 34
        },
        "outputId": "b620a7c5-4c96-442a-e0af-651b920349ec"
      },
      "source": [
        "from google.colab import drive\n",
        "drive.mount('/content/drive')"
      ],
      "execution_count": null,
      "outputs": [
        {
          "output_type": "stream",
          "text": [
            "Mounted at /content/drive\n"
          ],
          "name": "stdout"
        }
      ]
    },
    {
      "cell_type": "code",
      "metadata": {
        "id": "o86TwOfrdNBj",
        "colab_type": "code",
        "colab": {}
      },
      "source": [
        "Path = '/content/drive/My Drive/Data/DF_Spark.csv'\n",
        "df_spark = pd.read_csv(Path)"
      ],
      "execution_count": null,
      "outputs": []
    },
    {
      "cell_type": "code",
      "metadata": {
        "id": "7flF-dVjdHBQ",
        "colab_type": "code",
        "colab": {
          "base_uri": "https://localhost:8080/",
          "height": 204
        },
        "outputId": "4d4b96e6-1ae8-4bb7-bc9e-b2b7063837dc"
      },
      "source": [
        "df_spark.head()"
      ],
      "execution_count": null,
      "outputs": [
        {
          "output_type": "execute_result",
          "data": {
            "text/html": [
              "<div>\n",
              "<style scoped>\n",
              "    .dataframe tbody tr th:only-of-type {\n",
              "        vertical-align: middle;\n",
              "    }\n",
              "\n",
              "    .dataframe tbody tr th {\n",
              "        vertical-align: top;\n",
              "    }\n",
              "\n",
              "    .dataframe thead th {\n",
              "        text-align: right;\n",
              "    }\n",
              "</style>\n",
              "<table border=\"1\" class=\"dataframe\">\n",
              "  <thead>\n",
              "    <tr style=\"text-align: right;\">\n",
              "      <th></th>\n",
              "      <th>Unnamed: 0</th>\n",
              "      <th>0</th>\n",
              "      <th>1</th>\n",
              "      <th>2</th>\n",
              "      <th>3</th>\n",
              "      <th>4</th>\n",
              "      <th>5</th>\n",
              "      <th>6</th>\n",
              "      <th>7</th>\n",
              "      <th>8</th>\n",
              "      <th>9</th>\n",
              "      <th>10</th>\n",
              "      <th>11</th>\n",
              "    </tr>\n",
              "  </thead>\n",
              "  <tbody>\n",
              "    <tr>\n",
              "      <th>0</th>\n",
              "      <td>0</td>\n",
              "      <td>7.0</td>\n",
              "      <td>21.0</td>\n",
              "      <td>30.0</td>\n",
              "      <td>2.0</td>\n",
              "      <td>3.0</td>\n",
              "      <td>30.0</td>\n",
              "      <td>2.0</td>\n",
              "      <td>3.0</td>\n",
              "      <td>59.0</td>\n",
              "      <td>7.0</td>\n",
              "      <td>2.0</td>\n",
              "      <td>0.0</td>\n",
              "    </tr>\n",
              "    <tr>\n",
              "      <th>1</th>\n",
              "      <td>1</td>\n",
              "      <td>7.0</td>\n",
              "      <td>32.0</td>\n",
              "      <td>70.0</td>\n",
              "      <td>2.0</td>\n",
              "      <td>4.0</td>\n",
              "      <td>68.0</td>\n",
              "      <td>2.0</td>\n",
              "      <td>4.0</td>\n",
              "      <td>134.0</td>\n",
              "      <td>7.0</td>\n",
              "      <td>2.0</td>\n",
              "      <td>0.0</td>\n",
              "    </tr>\n",
              "    <tr>\n",
              "      <th>2</th>\n",
              "      <td>2</td>\n",
              "      <td>7.0</td>\n",
              "      <td>15.0</td>\n",
              "      <td>1.0</td>\n",
              "      <td>2.0</td>\n",
              "      <td>2.0</td>\n",
              "      <td>0.0</td>\n",
              "      <td>2.0</td>\n",
              "      <td>2.0</td>\n",
              "      <td>0.0</td>\n",
              "      <td>7.0</td>\n",
              "      <td>2.0</td>\n",
              "      <td>0.0</td>\n",
              "    </tr>\n",
              "    <tr>\n",
              "      <th>3</th>\n",
              "      <td>3</td>\n",
              "      <td>7.0</td>\n",
              "      <td>33.0</td>\n",
              "      <td>77.0</td>\n",
              "      <td>2.0</td>\n",
              "      <td>7.0</td>\n",
              "      <td>73.0</td>\n",
              "      <td>2.0</td>\n",
              "      <td>7.0</td>\n",
              "      <td>144.0</td>\n",
              "      <td>7.0</td>\n",
              "      <td>2.0</td>\n",
              "      <td>0.0</td>\n",
              "    </tr>\n",
              "    <tr>\n",
              "      <th>4</th>\n",
              "      <td>4</td>\n",
              "      <td>7.0</td>\n",
              "      <td>55.0</td>\n",
              "      <td>78.0</td>\n",
              "      <td>3.0</td>\n",
              "      <td>7.0</td>\n",
              "      <td>74.0</td>\n",
              "      <td>3.0</td>\n",
              "      <td>7.0</td>\n",
              "      <td>146.0</td>\n",
              "      <td>8.0</td>\n",
              "      <td>2.0</td>\n",
              "      <td>0.0</td>\n",
              "    </tr>\n",
              "  </tbody>\n",
              "</table>\n",
              "</div>"
            ],
            "text/plain": [
              "   Unnamed: 0    0     1     2    3    4     5    6    7      8    9   10   11\n",
              "0           0  7.0  21.0  30.0  2.0  3.0  30.0  2.0  3.0   59.0  7.0  2.0  0.0\n",
              "1           1  7.0  32.0  70.0  2.0  4.0  68.0  2.0  4.0  134.0  7.0  2.0  0.0\n",
              "2           2  7.0  15.0   1.0  2.0  2.0   0.0  2.0  2.0    0.0  7.0  2.0  0.0\n",
              "3           3  7.0  33.0  77.0  2.0  7.0  73.0  2.0  7.0  144.0  7.0  2.0  0.0\n",
              "4           4  7.0  55.0  78.0  3.0  7.0  74.0  3.0  7.0  146.0  8.0  2.0  0.0"
            ]
          },
          "metadata": {
            "tags": []
          },
          "execution_count": 4
        }
      ]
    },
    {
      "cell_type": "code",
      "metadata": {
        "id": "DcEg8KKjdHBU",
        "colab_type": "code",
        "colab": {}
      },
      "source": [
        "df_spark = df_spark.drop(columns=\"Unnamed: 0\")"
      ],
      "execution_count": null,
      "outputs": []
    },
    {
      "cell_type": "code",
      "metadata": {
        "id": "pl4XzqhedHBY",
        "colab_type": "code",
        "colab": {
          "base_uri": "https://localhost:8080/",
          "height": 204
        },
        "outputId": "44c8e6b1-7ed6-4296-a531-e22068410cf6"
      },
      "source": [
        "df_spark.head()"
      ],
      "execution_count": null,
      "outputs": [
        {
          "output_type": "execute_result",
          "data": {
            "text/html": [
              "<div>\n",
              "<style scoped>\n",
              "    .dataframe tbody tr th:only-of-type {\n",
              "        vertical-align: middle;\n",
              "    }\n",
              "\n",
              "    .dataframe tbody tr th {\n",
              "        vertical-align: top;\n",
              "    }\n",
              "\n",
              "    .dataframe thead th {\n",
              "        text-align: right;\n",
              "    }\n",
              "</style>\n",
              "<table border=\"1\" class=\"dataframe\">\n",
              "  <thead>\n",
              "    <tr style=\"text-align: right;\">\n",
              "      <th></th>\n",
              "      <th>0</th>\n",
              "      <th>1</th>\n",
              "      <th>2</th>\n",
              "      <th>3</th>\n",
              "      <th>4</th>\n",
              "      <th>5</th>\n",
              "      <th>6</th>\n",
              "      <th>7</th>\n",
              "      <th>8</th>\n",
              "      <th>9</th>\n",
              "      <th>10</th>\n",
              "      <th>11</th>\n",
              "    </tr>\n",
              "  </thead>\n",
              "  <tbody>\n",
              "    <tr>\n",
              "      <th>0</th>\n",
              "      <td>7.0</td>\n",
              "      <td>21.0</td>\n",
              "      <td>30.0</td>\n",
              "      <td>2.0</td>\n",
              "      <td>3.0</td>\n",
              "      <td>30.0</td>\n",
              "      <td>2.0</td>\n",
              "      <td>3.0</td>\n",
              "      <td>59.0</td>\n",
              "      <td>7.0</td>\n",
              "      <td>2.0</td>\n",
              "      <td>0.0</td>\n",
              "    </tr>\n",
              "    <tr>\n",
              "      <th>1</th>\n",
              "      <td>7.0</td>\n",
              "      <td>32.0</td>\n",
              "      <td>70.0</td>\n",
              "      <td>2.0</td>\n",
              "      <td>4.0</td>\n",
              "      <td>68.0</td>\n",
              "      <td>2.0</td>\n",
              "      <td>4.0</td>\n",
              "      <td>134.0</td>\n",
              "      <td>7.0</td>\n",
              "      <td>2.0</td>\n",
              "      <td>0.0</td>\n",
              "    </tr>\n",
              "    <tr>\n",
              "      <th>2</th>\n",
              "      <td>7.0</td>\n",
              "      <td>15.0</td>\n",
              "      <td>1.0</td>\n",
              "      <td>2.0</td>\n",
              "      <td>2.0</td>\n",
              "      <td>0.0</td>\n",
              "      <td>2.0</td>\n",
              "      <td>2.0</td>\n",
              "      <td>0.0</td>\n",
              "      <td>7.0</td>\n",
              "      <td>2.0</td>\n",
              "      <td>0.0</td>\n",
              "    </tr>\n",
              "    <tr>\n",
              "      <th>3</th>\n",
              "      <td>7.0</td>\n",
              "      <td>33.0</td>\n",
              "      <td>77.0</td>\n",
              "      <td>2.0</td>\n",
              "      <td>7.0</td>\n",
              "      <td>73.0</td>\n",
              "      <td>2.0</td>\n",
              "      <td>7.0</td>\n",
              "      <td>144.0</td>\n",
              "      <td>7.0</td>\n",
              "      <td>2.0</td>\n",
              "      <td>0.0</td>\n",
              "    </tr>\n",
              "    <tr>\n",
              "      <th>4</th>\n",
              "      <td>7.0</td>\n",
              "      <td>55.0</td>\n",
              "      <td>78.0</td>\n",
              "      <td>3.0</td>\n",
              "      <td>7.0</td>\n",
              "      <td>74.0</td>\n",
              "      <td>3.0</td>\n",
              "      <td>7.0</td>\n",
              "      <td>146.0</td>\n",
              "      <td>8.0</td>\n",
              "      <td>2.0</td>\n",
              "      <td>0.0</td>\n",
              "    </tr>\n",
              "  </tbody>\n",
              "</table>\n",
              "</div>"
            ],
            "text/plain": [
              "     0     1     2    3    4     5    6    7      8    9   10   11\n",
              "0  7.0  21.0  30.0  2.0  3.0  30.0  2.0  3.0   59.0  7.0  2.0  0.0\n",
              "1  7.0  32.0  70.0  2.0  4.0  68.0  2.0  4.0  134.0  7.0  2.0  0.0\n",
              "2  7.0  15.0   1.0  2.0  2.0   0.0  2.0  2.0    0.0  7.0  2.0  0.0\n",
              "3  7.0  33.0  77.0  2.0  7.0  73.0  2.0  7.0  144.0  7.0  2.0  0.0\n",
              "4  7.0  55.0  78.0  3.0  7.0  74.0  3.0  7.0  146.0  8.0  2.0  0.0"
            ]
          },
          "metadata": {
            "tags": []
          },
          "execution_count": 6
        }
      ]
    },
    {
      "cell_type": "markdown",
      "metadata": {
        "id": "-wkLSqAOdHBa",
        "colab_type": "text"
      },
      "source": [
        "# In the following code X contains features and y contains label"
      ]
    },
    {
      "cell_type": "code",
      "metadata": {
        "id": "lSthGZvedHBb",
        "colab_type": "code",
        "colab": {}
      },
      "source": [
        "y = df_spark.iloc[:,0].values\n",
        "X = df_spark.iloc[:,1:].values"
      ],
      "execution_count": null,
      "outputs": []
    },
    {
      "cell_type": "markdown",
      "metadata": {
        "id": "9SJ48OVcdHBd",
        "colab_type": "text"
      },
      "source": [
        "# The whole dataset is split into 80:20 ratio. X_train contains 80% of the features, X_test contains 20% of the features and y_train contains 80% corresponding label of X_train and y_test contains 20% corresponding label of X_test"
      ]
    },
    {
      "cell_type": "code",
      "metadata": {
        "id": "1avuIsNPdHBe",
        "colab_type": "code",
        "colab": {}
      },
      "source": [
        "from sklearn.model_selection import train_test_split\n",
        "X_train, X_test, y_train, y_test = train_test_split(X,y, test_size=0.20, random_state = 1)"
      ],
      "execution_count": null,
      "outputs": []
    },
    {
      "cell_type": "code",
      "metadata": {
        "id": "euG3CiwpdHBi",
        "colab_type": "code",
        "colab": {}
      },
      "source": [
        "from sklearn.preprocessing import StandardScaler\n",
        "from sklearn.pipeline import Pipeline\n",
        "from sklearn.linear_model import LogisticRegression\n",
        "from sklearn.model_selection import cross_val_score\n",
        "import matplotlib.pyplot as plt\n",
        "from sklearn.model_selection import learning_curve\n",
        "import numpy as np"
      ],
      "execution_count": null,
      "outputs": []
    },
    {
      "cell_type": "markdown",
      "metadata": {
        "id": "UF2R-LXudHBk",
        "colab_type": "text"
      },
      "source": [
        "# 5-Fold Cross validation Estimation for Logistic Regression"
      ]
    },
    {
      "cell_type": "code",
      "metadata": {
        "id": "ZtWlwtkydHBl",
        "colab_type": "code",
        "colab": {}
      },
      "source": [
        "pipe_lr = Pipeline([('scl', StandardScaler()),('clf', LogisticRegression(penalty='l2', random_state=0))])\n",
        "train_sizes, train_scores, test_scores = learning_curve(estimator=pipe_lr,X=X, y=y, train_sizes=np.linspace(0.2,1.0,5), cv=5, n_jobs=-1)\n",
        "train_mean = np.mean(train_scores, axis=1)\n",
        "train_std = np.std(train_scores, axis=1)\n",
        "test_mean = np.mean(test_scores, axis=1)\n",
        "test_std = np.std(test_scores, axis=1)"
      ],
      "execution_count": null,
      "outputs": []
    },
    {
      "cell_type": "code",
      "metadata": {
        "id": "IzDEHRaudHBq",
        "colab_type": "code",
        "colab": {
          "base_uri": "https://localhost:8080/",
          "height": 102
        },
        "outputId": "c023e59e-f7ad-4274-a1cd-16705626b3fb"
      },
      "source": [
        "for i in train_sizes:\n",
        "    print(i)"
      ],
      "execution_count": null,
      "outputs": [
        {
          "output_type": "stream",
          "text": [
            "57270\n",
            "114540\n",
            "171811\n",
            "229081\n",
            "286352\n"
          ],
          "name": "stdout"
        }
      ]
    },
    {
      "cell_type": "code",
      "metadata": {
        "id": "D_c6dJQddHBs",
        "colab_type": "code",
        "colab": {
          "base_uri": "https://localhost:8080/",
          "height": 102
        },
        "outputId": "0141b730-5212-461c-ffbd-cb2980f07fb4"
      },
      "source": [
        "for i in train_mean:\n",
        "    print(i)"
      ],
      "execution_count": null,
      "outputs": [
        {
          "output_type": "stream",
          "text": [
            "0.9864361795006111\n",
            "0.986911122751877\n",
            "0.9868308781160694\n",
            "0.9865846578284538\n",
            "0.9883136838576296\n"
          ],
          "name": "stdout"
        }
      ]
    },
    {
      "cell_type": "code",
      "metadata": {
        "id": "yOF3N-E3dHBw",
        "colab_type": "code",
        "colab": {
          "base_uri": "https://localhost:8080/",
          "height": 102
        },
        "outputId": "46e1fb53-9be6-4fe9-f127-54251a9f0597"
      },
      "source": [
        "for i in test_mean:\n",
        "    print(i)"
      ],
      "execution_count": null,
      "outputs": [
        {
          "output_type": "stream",
          "text": [
            "0.8969772041405518\n",
            "0.8779824156058529\n",
            "0.9781109282961822\n",
            "0.9846064215159688\n",
            "0.9880902458937426\n"
          ],
          "name": "stdout"
        }
      ]
    },
    {
      "cell_type": "markdown",
      "metadata": {
        "id": "rTWpJs-pdHB1",
        "colab_type": "text"
      },
      "source": [
        "# 5-Fold Cross validation Estimation for SVM"
      ]
    },
    {
      "cell_type": "code",
      "metadata": {
        "id": "4xfl5C0pdHB1",
        "colab_type": "code",
        "colab": {}
      },
      "source": [
        "from sklearn.svm import LinearSVC"
      ],
      "execution_count": null,
      "outputs": []
    },
    {
      "cell_type": "code",
      "metadata": {
        "id": "NHzZqgjTdHB4",
        "colab_type": "code",
        "colab": {}
      },
      "source": [
        "pipe_svc = Pipeline([('scl', StandardScaler()),('clf', LinearSVC())])\n",
        "train_sizes_svc, train_scores_svc, test_scores_svc = learning_curve(estimator=pipe_svc,X=X, y=y, train_sizes=np.linspace(0.2,1.0,5), cv=5, n_jobs=-1)\n",
        "train_mean_svc = np.mean(train_scores_svc, axis=1)\n",
        "train_std_svc = np.std(train_scores_svc, axis=1)\n",
        "test_mean_svc = np.mean(test_scores_svc, axis=1)\n",
        "test_std_svc = np.std(test_scores_svc, axis=1)"
      ],
      "execution_count": null,
      "outputs": []
    },
    {
      "cell_type": "code",
      "metadata": {
        "id": "AhzGQrHidHB7",
        "colab_type": "code",
        "colab": {
          "base_uri": "https://localhost:8080/",
          "height": 102
        },
        "outputId": "9273e07f-5b8b-42cd-8da9-77b0c8ddddba"
      },
      "source": [
        "for i in train_mean_svc:\n",
        "    print(i)"
      ],
      "execution_count": null,
      "outputs": [
        {
          "output_type": "stream",
          "text": [
            "0.9826540946394273\n",
            "0.981639601885804\n",
            "0.9856668082951614\n",
            "0.9823267752454372\n",
            "0.9829803877744873\n"
          ],
          "name": "stdout"
        }
      ]
    },
    {
      "cell_type": "code",
      "metadata": {
        "id": "EtSBNPKjdHB9",
        "colab_type": "code",
        "colab": {
          "base_uri": "https://localhost:8080/",
          "height": 102
        },
        "outputId": "fda16bcf-0d89-4468-ca19-aa28970f0920"
      },
      "source": [
        "for i in test_mean_svc:\n",
        "    print(i)"
      ],
      "execution_count": null,
      "outputs": [
        {
          "output_type": "stream",
          "text": [
            "0.9603062688826753\n",
            "0.9711907748218677\n",
            "0.9774767477765417\n",
            "0.9796111876180309\n",
            "0.9825781652457415\n"
          ],
          "name": "stdout"
        }
      ]
    },
    {
      "cell_type": "markdown",
      "metadata": {
        "id": "GeDGgYKMdHCA",
        "colab_type": "text"
      },
      "source": [
        "# 5-Fold Cross validation Estimation for Decision Tree"
      ]
    },
    {
      "cell_type": "code",
      "metadata": {
        "id": "zCYdTtqjdHCA",
        "colab_type": "code",
        "colab": {}
      },
      "source": [
        "from sklearn import tree"
      ],
      "execution_count": null,
      "outputs": []
    },
    {
      "cell_type": "code",
      "metadata": {
        "id": "YcKCTIuSdHCD",
        "colab_type": "code",
        "colab": {}
      },
      "source": [
        "pipe_tree = Pipeline([('scl', StandardScaler()),('clf', tree.DecisionTreeClassifier())])\n",
        "train_sizes_tree, train_scores_tree, test_scores_tree = learning_curve(estimator=pipe_tree,X=X, y=y, train_sizes=np.linspace(0.2,1.0,5), cv=5, n_jobs=-1)\n",
        "train_mean_tree = np.mean(train_scores_tree, axis=1)\n",
        "train_std_tree = np.std(train_scores_tree, axis=1)\n",
        "test_mean_tree = np.mean(test_scores_tree, axis=1)\n",
        "test_std_tree = np.std(test_scores_tree, axis=1)"
      ],
      "execution_count": null,
      "outputs": []
    },
    {
      "cell_type": "code",
      "metadata": {
        "id": "qsSi5mCjdHCF",
        "colab_type": "code",
        "colab": {}
      },
      "source": [
        "for i in train_mean_tree:\n",
        "    print(i)"
      ],
      "execution_count": null,
      "outputs": []
    },
    {
      "cell_type": "code",
      "metadata": {
        "id": "PCFCwhM9dHCI",
        "colab_type": "code",
        "colab": {}
      },
      "source": [
        "for i in test_mean_tree:\n",
        "    print(i)"
      ],
      "execution_count": null,
      "outputs": []
    },
    {
      "cell_type": "markdown",
      "metadata": {
        "id": "J7g_r8k0dHCK",
        "colab_type": "text"
      },
      "source": [
        "# 5-Fold Cross validation Estimation for Random Forest"
      ]
    },
    {
      "cell_type": "code",
      "metadata": {
        "id": "hfMOHSZ-dHCL",
        "colab_type": "code",
        "colab": {}
      },
      "source": [
        "from sklearn.ensemble import RandomForestClassifier"
      ],
      "execution_count": null,
      "outputs": []
    },
    {
      "cell_type": "code",
      "metadata": {
        "id": "i8et1wNMdHCN",
        "colab_type": "code",
        "colab": {}
      },
      "source": [
        "pipe_rnd = Pipeline([('scl', StandardScaler()),('clf', RandomForestClassifier(n_estimators=10))])\n",
        "train_sizes_rnd, train_scores_rnd, test_scores_rnd = learning_curve(estimator=pipe_rnd,X=X, y=y, train_sizes=np.linspace(0.2,1.0,5), cv=5, n_jobs=-1)\n",
        "train_mean_rnd = np.mean(train_scores_rnd, axis=1)\n",
        "train_std_rnd = np.std(train_scores_rnd, axis=1)\n",
        "test_mean_rnd = np.mean(test_scores_rnd, axis=1)\n",
        "test_std_rnd = np.std(test_scores_rnd, axis=1)"
      ],
      "execution_count": null,
      "outputs": []
    },
    {
      "cell_type": "code",
      "metadata": {
        "id": "5K9EECK_dHCP",
        "colab_type": "code",
        "colab": {},
        "outputId": "7faeb5d6-25db-46af-9d13-076265814af7"
      },
      "source": [
        "for i in train_mean_rnd:\n",
        "    print(i)"
      ],
      "execution_count": null,
      "outputs": [
        {
          "output_type": "stream",
          "text": [
            "0.9866876200453991\n",
            "0.9884634188929631\n",
            "0.9906862231534834\n",
            "0.992856643967173\n",
            "0.9942168674698795\n"
          ],
          "name": "stdout"
        }
      ]
    },
    {
      "cell_type": "code",
      "metadata": {
        "id": "KjTO5Zk3dHCR",
        "colab_type": "code",
        "colab": {},
        "outputId": "0ae303de-c07d-49d0-b0c5-7310b246014d"
      },
      "source": [
        "for i in test_mean_rnd:\n",
        "    print(i)"
      ],
      "execution_count": null,
      "outputs": [
        {
          "output_type": "stream",
          "text": [
            "0.9439088829638763\n",
            "0.9685588432554251\n",
            "0.9801726981234566\n",
            "0.9884841598922233\n",
            "0.9932225637013902\n"
          ],
          "name": "stdout"
        }
      ]
    },
    {
      "cell_type": "markdown",
      "metadata": {
        "id": "K4g-5FtAdHCT",
        "colab_type": "text"
      },
      "source": [
        "# 5-Fold Cross validation Estimation for ANN"
      ]
    },
    {
      "cell_type": "code",
      "metadata": {
        "id": "y_n2LWRDdHCT",
        "colab_type": "code",
        "colab": {}
      },
      "source": [
        "from sklearn.neural_network import MLPClassifier\n",
        "mlp = MLPClassifier(hidden_layer_sizes=(50,), max_iter=10, alpha=1e-4, solver='sgd', verbose=10, tol=1e-4, random_state=1, learning_rate_init=.1)"
      ],
      "execution_count": null,
      "outputs": []
    },
    {
      "cell_type": "code",
      "metadata": {
        "id": "dMrDkUQ0dHCW",
        "colab_type": "code",
        "colab": {}
      },
      "source": [
        "pipe_mlp = Pipeline([('scl', StandardScaler()),('clf', mlp)])\n",
        "train_sizes_mlp, train_scores_mlp, test_scores_mlp = learning_curve(estimator=pipe_mlp,X=X, y=y, train_sizes=np.linspace(0.2,1.0,5), cv=5, n_jobs=-1)\n",
        "train_mean_mlp = np.mean(train_scores_mlp, axis=1)\n",
        "train_std_mlp = np.std(train_scores_mlp, axis=1)\n",
        "test_mean_mlp = np.mean(test_scores_mlp, axis=1)\n",
        "test_std_mlp = np.std(test_scores_mlp, axis=1)"
      ],
      "execution_count": null,
      "outputs": []
    },
    {
      "cell_type": "code",
      "metadata": {
        "id": "vdyfRkzMdHCY",
        "colab_type": "code",
        "colab": {},
        "outputId": "f9036770-7dca-44e6-d046-764d1dab149b"
      },
      "source": [
        "for i in train_mean_mlp:\n",
        "    print(i)"
      ],
      "execution_count": null,
      "outputs": [
        {
          "output_type": "stream",
          "text": [
            "0.985339619346953\n",
            "0.9879745067225423\n",
            "0.990625691170479\n",
            "0.9928016413480008\n",
            "0.9941484197660205\n"
          ],
          "name": "stdout"
        }
      ]
    },
    {
      "cell_type": "code",
      "metadata": {
        "id": "g45rveLDdHCa",
        "colab_type": "code",
        "colab": {},
        "outputId": "24195fe3-29e5-4424-cec6-80e227d70a06"
      },
      "source": [
        "for i in test_mean_mlp:\n",
        "    print(i)"
      ],
      "execution_count": null,
      "outputs": [
        {
          "output_type": "stream",
          "text": [
            "0.9150290340041607\n",
            "0.9029206196671373\n",
            "0.9803263726837024\n",
            "0.9884702046127953\n",
            "0.9930130422658466\n"
          ],
          "name": "stdout"
        }
      ]
    },
    {
      "cell_type": "markdown",
      "metadata": {
        "id": "rcId37yQdHCc",
        "colab_type": "text"
      },
      "source": [
        "# Mean values of Training and Testing accuracies and Standard Deviation of Training and Testing accuracies are given below"
      ]
    },
    {
      "cell_type": "code",
      "metadata": {
        "id": "aIEn-heXdHCc",
        "colab_type": "code",
        "colab": {},
        "outputId": "6f869c75-946f-47d4-a91f-21380a0997f3"
      },
      "source": [
        "np.mean(train_mean) , np.mean(train_mean_svc), np.mean(train_mean_tree), np.mean(train_mean_rnd), np.mean(train_mean_mlp)"
      ],
      "execution_count": null,
      "outputs": [
        {
          "output_type": "execute_result",
          "data": {
            "text/plain": [
              "(0.9825350341636725,\n",
              " 0.9827354393092291,\n",
              " 0.9899853295348444,\n",
              " 0.9899843194255066,\n",
              " 0.988992106220478)"
            ]
          },
          "metadata": {
            "tags": []
          },
          "execution_count": 58
        }
      ]
    },
    {
      "cell_type": "code",
      "metadata": {
        "id": "7UMXbYHMdHCf",
        "colab_type": "code",
        "colab": {},
        "outputId": "7aaada04-c6c2-4a4c-fb46-7ac435f03fc5"
      },
      "source": [
        "np.mean(train_std) , np.mean(train_std_svc), np.mean(train_std_tree), np.mean(train_std_rnd), np.mean(train_std_mlp)"
      ],
      "execution_count": null,
      "outputs": [
        {
          "output_type": "execute_result",
          "data": {
            "text/plain": [
              "(0.0012669016539291768,\n",
              " 0.0015004132547957309,\n",
              " 0.000812529982066585,\n",
              " 0.0008124067495914715,\n",
              " 0.0013105445891091817)"
            ]
          },
          "metadata": {
            "tags": []
          },
          "execution_count": 60
        }
      ]
    },
    {
      "cell_type": "code",
      "metadata": {
        "id": "1APMI8CqdHCh",
        "colab_type": "code",
        "colab": {},
        "outputId": "7599b51d-91fb-4d09-f1e7-c42131eb9ffc"
      },
      "source": [
        "np.mean(test_mean) , np.mean(test_mean_svc), np.mean(test_mean_tree), np.mean(test_mean_rnd), np.mean(test_mean_mlp)"
      ],
      "execution_count": null,
      "outputs": [
        {
          "output_type": "execute_result",
          "data": {
            "text/plain": [
              "(0.9745988472667129,\n",
              " 0.9762471837085901,\n",
              " 0.9707884454993927,\n",
              " 0.9725458663799749,\n",
              " 0.9611862286384287)"
            ]
          },
          "metadata": {
            "tags": []
          },
          "execution_count": 61
        }
      ]
    },
    {
      "cell_type": "code",
      "metadata": {
        "id": "yHTSguqMdHCj",
        "colab_type": "code",
        "colab": {},
        "outputId": "59afb04b-d0a8-46ef-f94d-9b185b9188e5"
      },
      "source": [
        "np.mean(test_std) , np.mean(test_std_svc), np.mean(test_std_tree), np.mean(test_std_rnd), np.mean(test_std_mlp)"
      ],
      "execution_count": null,
      "outputs": [
        {
          "output_type": "execute_result",
          "data": {
            "text/plain": [
              "(0.005597696152259861,\n",
              " 0.006471826851518314,\n",
              " 0.016850233251830146,\n",
              " 0.014866038573080196,\n",
              " 0.021343692164590724)"
            ]
          },
          "metadata": {
            "tags": []
          },
          "execution_count": 62
        }
      ]
    },
    {
      "cell_type": "markdown",
      "metadata": {
        "id": "6sm635vNdHCl",
        "colab_type": "text"
      },
      "source": [
        "# Evaluation Metrics Calculations for Logisitic Regression"
      ]
    },
    {
      "cell_type": "code",
      "metadata": {
        "id": "6TQbdoZMdHCl",
        "colab_type": "code",
        "colab": {}
      },
      "source": [
        "pipe_lr = pipe_lr.fit(X_train, y_train)"
      ],
      "execution_count": null,
      "outputs": []
    },
    {
      "cell_type": "code",
      "metadata": {
        "id": "NCN8WtfRdHCn",
        "colab_type": "code",
        "colab": {}
      },
      "source": [
        "y_pred_train = pipe_lr.predict(X_train)"
      ],
      "execution_count": null,
      "outputs": []
    },
    {
      "cell_type": "code",
      "metadata": {
        "id": "euVwYkoidHCr",
        "colab_type": "code",
        "colab": {}
      },
      "source": [
        "y_pred_test = pipe_lr.predict(X_test)"
      ],
      "execution_count": null,
      "outputs": []
    },
    {
      "cell_type": "code",
      "metadata": {
        "id": "pt1Gt745dHCt",
        "colab_type": "code",
        "colab": {}
      },
      "source": [
        "from sklearn.metrics import accuracy_score"
      ],
      "execution_count": null,
      "outputs": []
    },
    {
      "cell_type": "code",
      "metadata": {
        "id": "uoswhZHodHCv",
        "colab_type": "code",
        "colab": {},
        "outputId": "c2a0febc-287f-4575-d733-19d76fea65ed"
      },
      "source": [
        "accuracy_score(y_train, y_pred_train)"
      ],
      "execution_count": null,
      "outputs": [
        {
          "output_type": "execute_result",
          "data": {
            "text/plain": [
              "0.983129155724423"
            ]
          },
          "metadata": {
            "tags": []
          },
          "execution_count": 24
        }
      ]
    },
    {
      "cell_type": "code",
      "metadata": {
        "id": "qLkdFZ0rdHCx",
        "colab_type": "code",
        "colab": {},
        "outputId": "1d962b1f-1704-43af-bc07-969f2dfa7865"
      },
      "source": [
        "accuracy_score(y_test, y_pred_test)"
      ],
      "execution_count": null,
      "outputs": [
        {
          "output_type": "execute_result",
          "data": {
            "text/plain": [
              "0.9832655854949783"
            ]
          },
          "metadata": {
            "tags": []
          },
          "execution_count": 25
        }
      ]
    },
    {
      "cell_type": "code",
      "metadata": {
        "id": "3P4_xkk8dHC1",
        "colab_type": "code",
        "colab": {}
      },
      "source": [
        "from sklearn.metrics import classification_report"
      ],
      "execution_count": null,
      "outputs": []
    },
    {
      "cell_type": "code",
      "metadata": {
        "id": "AaUPqrkKdHC5",
        "colab_type": "code",
        "colab": {}
      },
      "source": [
        "target_names = ['Normal', 'DoSattack', 'scan', 'malitiousControl', 'malitiousOperation', 'spying', 'dataProbing', 'wrongSetUp']"
      ],
      "execution_count": null,
      "outputs": []
    },
    {
      "cell_type": "code",
      "metadata": {
        "id": "Ms2DYYr7dHC8",
        "colab_type": "code",
        "colab": {},
        "outputId": "ce2ffc81-8fdf-4df4-ee60-1bfd118d1d5b"
      },
      "source": [
        "print(classification_report(y_train, y_pred_train, target_names=target_names))"
      ],
      "execution_count": null,
      "outputs": [
        {
          "output_type": "stream",
          "text": [
            "                    precision    recall  f1-score   support\n",
            "\n",
            "            Normal       0.96      0.65      0.78      4602\n",
            "         DoSattack       0.00      0.00      0.00       279\n",
            "              scan       0.78      0.04      0.07       720\n",
            "  malitiousControl       0.84      0.48      0.61       650\n",
            "malitiousOperation       0.00      0.00      0.00      1242\n",
            "            spying       0.00      0.00      0.00       412\n",
            "       dataProbing       0.00      0.00      0.00        94\n",
            "        wrongSetUp       0.98      1.00      0.99    278353\n",
            "\n",
            "       avg / total       0.98      0.98      0.98    286352\n",
            "\n"
          ],
          "name": "stdout"
        },
        {
          "output_type": "stream",
          "text": [
            "C:\\Users\\HP\\Anaconda3\\lib\\site-packages\\sklearn\\metrics\\classification.py:1135: UndefinedMetricWarning: Precision and F-score are ill-defined and being set to 0.0 in labels with no predicted samples.\n",
            "  'precision', 'predicted', average, warn_for)\n"
          ],
          "name": "stderr"
        }
      ]
    },
    {
      "cell_type": "code",
      "metadata": {
        "id": "phfoepQwdHC-",
        "colab_type": "code",
        "colab": {},
        "outputId": "994b0110-fd92-434a-e019-bc6933ab0170"
      },
      "source": [
        "print(classification_report(y_test, y_pred_test, target_names=target_names))"
      ],
      "execution_count": null,
      "outputs": [
        {
          "output_type": "stream",
          "text": [
            "                    precision    recall  f1-score   support\n",
            "\n",
            "            Normal       0.95      0.66      0.78      1178\n",
            "         DoSattack       0.00      0.00      0.00        63\n",
            "              scan       0.83      0.06      0.11       169\n",
            "  malitiousControl       0.90      0.50      0.64       155\n",
            "malitiousOperation       0.00      0.00      0.00       305\n",
            "            spying       0.00      0.00      0.00       120\n",
            "       dataProbing       0.00      0.00      0.00        28\n",
            "        wrongSetUp       0.98      1.00      0.99     69571\n",
            "\n",
            "       avg / total       0.98      0.98      0.98     71589\n",
            "\n"
          ],
          "name": "stdout"
        },
        {
          "output_type": "stream",
          "text": [
            "C:\\Users\\HP\\Anaconda3\\lib\\site-packages\\sklearn\\metrics\\classification.py:1135: UndefinedMetricWarning: Precision and F-score are ill-defined and being set to 0.0 in labels with no predicted samples.\n",
            "  'precision', 'predicted', average, warn_for)\n"
          ],
          "name": "stderr"
        }
      ]
    },
    {
      "cell_type": "code",
      "metadata": {
        "id": "aqCTPP0odHDB",
        "colab_type": "code",
        "colab": {}
      },
      "source": [
        "from sklearn.metrics import confusion_matrix\n",
        "import itertools"
      ],
      "execution_count": null,
      "outputs": []
    },
    {
      "cell_type": "code",
      "metadata": {
        "id": "88ck9Gq4dHDD",
        "colab_type": "code",
        "colab": {}
      },
      "source": [
        "cnf_matrix = confusion_matrix(y_test, y_pred_test)"
      ],
      "execution_count": null,
      "outputs": []
    },
    {
      "cell_type": "code",
      "metadata": {
        "id": "A885O1zudHDF",
        "colab_type": "code",
        "colab": {},
        "outputId": "537bad8e-3c13-46c8-a7be-3853ec0eb121"
      },
      "source": [
        "for i in cnf_matrix:\n",
        "    for j in i:\n",
        "        print(j, end='&')\n",
        "    print()"
      ],
      "execution_count": null,
      "outputs": [
        {
          "output_type": "stream",
          "text": [
            "775&0&0&0&0&0&0&403&\n",
            "0&0&0&0&0&0&0&63&\n",
            "0&0&10&0&0&0&0&159&\n",
            "0&0&0&78&0&0&0&77&\n",
            "5&0&2&0&0&0&0&298&\n",
            "0&0&0&0&0&0&0&120&\n",
            "0&0&0&0&0&0&0&28&\n",
            "34&0&0&9&0&0&0&69528&\n"
          ],
          "name": "stdout"
        }
      ]
    },
    {
      "cell_type": "markdown",
      "metadata": {
        "id": "56ZR3ZWHdHDI",
        "colab_type": "text"
      },
      "source": [
        "# Evaluation Metrics Calculations for SVM"
      ]
    },
    {
      "cell_type": "code",
      "metadata": {
        "id": "B35ROnSvdHDJ",
        "colab_type": "code",
        "colab": {}
      },
      "source": [
        "pipe_svc = pipe_svc.fit(X_train, y_train)\n",
        "y_pred_train = pipe_svc.predict(X_train)\n",
        "y_pred_test = pipe_svc.predict(X_test)"
      ],
      "execution_count": null,
      "outputs": []
    },
    {
      "cell_type": "code",
      "metadata": {
        "id": "Kf1yoe4cdHDK",
        "colab_type": "code",
        "colab": {},
        "outputId": "ce3ace52-13a0-43e0-8216-72c8149d137c"
      },
      "source": [
        "accuracy_score(y_train, y_pred_train), accuracy_score(y_test, y_pred_test)"
      ],
      "execution_count": null,
      "outputs": [
        {
          "output_type": "execute_result",
          "data": {
            "text/plain": [
              "(0.9826332625579706, 0.9827627149422398)"
            ]
          },
          "metadata": {
            "tags": []
          },
          "execution_count": 38
        }
      ]
    },
    {
      "cell_type": "code",
      "metadata": {
        "id": "Kw5nuuh3dHDN",
        "colab_type": "code",
        "colab": {},
        "outputId": "270343c0-0f8d-400f-cc2f-8f7fa0bdd76d"
      },
      "source": [
        "print(classification_report(y_train, y_pred_train, target_names=target_names))"
      ],
      "execution_count": null,
      "outputs": [
        {
          "output_type": "stream",
          "text": [
            "                    precision    recall  f1-score   support\n",
            "\n",
            "            Normal       0.97      0.65      0.78      4602\n",
            "         DoSattack       0.00      0.00      0.00       279\n",
            "              scan       0.78      0.04      0.07       720\n",
            "  malitiousControl       1.00      0.16      0.27       650\n",
            "malitiousOperation       0.00      0.00      0.00      1242\n",
            "            spying       0.00      0.00      0.00       412\n",
            "       dataProbing       0.00      0.00      0.00        94\n",
            "        wrongSetUp       0.98      1.00      0.99    278353\n",
            "\n",
            "       avg / total       0.98      0.98      0.98    286352\n",
            "\n"
          ],
          "name": "stdout"
        },
        {
          "output_type": "stream",
          "text": [
            "C:\\Users\\HP\\Anaconda3\\lib\\site-packages\\sklearn\\metrics\\classification.py:1135: UndefinedMetricWarning: Precision and F-score are ill-defined and being set to 0.0 in labels with no predicted samples.\n",
            "  'precision', 'predicted', average, warn_for)\n"
          ],
          "name": "stderr"
        }
      ]
    },
    {
      "cell_type": "code",
      "metadata": {
        "id": "Cv1hZ2KidHDQ",
        "colab_type": "code",
        "colab": {},
        "outputId": "e4fe2a3b-84b1-4fc5-e672-f9abd00f67f7"
      },
      "source": [
        "print(classification_report(y_test, y_pred_test, target_names=target_names))"
      ],
      "execution_count": null,
      "outputs": [
        {
          "output_type": "stream",
          "text": [
            "                    precision    recall  f1-score   support\n",
            "\n",
            "            Normal       0.96      0.66      0.78      1178\n",
            "         DoSattack       0.00      0.00      0.00        63\n",
            "              scan       0.83      0.06      0.11       169\n",
            "  malitiousControl       1.00      0.21      0.35       155\n",
            "malitiousOperation       0.00      0.00      0.00       305\n",
            "            spying       0.00      0.00      0.00       120\n",
            "       dataProbing       0.00      0.00      0.00        28\n",
            "        wrongSetUp       0.98      1.00      0.99     69571\n",
            "\n",
            "       avg / total       0.98      0.98      0.98     71589\n",
            "\n"
          ],
          "name": "stdout"
        },
        {
          "output_type": "stream",
          "text": [
            "C:\\Users\\HP\\Anaconda3\\lib\\site-packages\\sklearn\\metrics\\classification.py:1135: UndefinedMetricWarning: Precision and F-score are ill-defined and being set to 0.0 in labels with no predicted samples.\n",
            "  'precision', 'predicted', average, warn_for)\n"
          ],
          "name": "stderr"
        }
      ]
    },
    {
      "cell_type": "code",
      "metadata": {
        "id": "Jdq-5bUJdHDR",
        "colab_type": "code",
        "colab": {},
        "outputId": "0cb0bfca-368e-43fa-d58f-ad93f8dea879"
      },
      "source": [
        "cnf_matrix = confusion_matrix(y_test, y_pred_test)\n",
        "for i in cnf_matrix:\n",
        "    for j in i:\n",
        "        print(j, end='&')\n",
        "    print()"
      ],
      "execution_count": null,
      "outputs": [
        {
          "output_type": "stream",
          "text": [
            "775&0&0&0&0&0&0&403&\n",
            "0&0&0&0&0&0&0&63&\n",
            "0&0&10&0&0&0&0&159&\n",
            "0&0&0&33&0&0&0&122&\n",
            "0&0&2&0&0&0&0&303&\n",
            "0&0&0&0&0&0&0&120&\n",
            "0&0&0&0&0&0&0&28&\n",
            "34&0&0&0&0&0&0&69537&\n"
          ],
          "name": "stdout"
        }
      ]
    },
    {
      "cell_type": "markdown",
      "metadata": {
        "id": "f3HpVLKYdHDW",
        "colab_type": "text"
      },
      "source": [
        "# Evaluation Metrics Calculations for Decision Tree"
      ]
    },
    {
      "cell_type": "code",
      "metadata": {
        "id": "O_cg5EwTdHDW",
        "colab_type": "code",
        "colab": {}
      },
      "source": [
        "pipe_tree = pipe_tree.fit(X_train, y_train)\n",
        "y_pred_train = pipe_tree.predict(X_train)\n",
        "y_pred_test = pipe_tree.predict(X_test)"
      ],
      "execution_count": null,
      "outputs": []
    },
    {
      "cell_type": "code",
      "metadata": {
        "id": "NDRzoDxhdHDY",
        "colab_type": "code",
        "colab": {},
        "outputId": "8e401c93-19f5-4691-9658-a88e45fadacc"
      },
      "source": [
        "accuracy_score(y_train, y_pred_train), accuracy_score(y_test, y_pred_test)"
      ],
      "execution_count": null,
      "outputs": [
        {
          "output_type": "execute_result",
          "data": {
            "text/plain": [
              "(0.9942413532994356, 0.994091271005322)"
            ]
          },
          "metadata": {
            "tags": []
          },
          "execution_count": 43
        }
      ]
    },
    {
      "cell_type": "code",
      "metadata": {
        "id": "cgtuWxZedHDa",
        "colab_type": "code",
        "colab": {},
        "outputId": "2198edf9-90bc-4c3f-ccde-ab8cd583ba74"
      },
      "source": [
        "print(classification_report(y_train, y_pred_train, target_names=target_names))"
      ],
      "execution_count": null,
      "outputs": [
        {
          "output_type": "stream",
          "text": [
            "                    precision    recall  f1-score   support\n",
            "\n",
            "            Normal       0.98      0.65      0.78      4602\n",
            "         DoSattack       1.00      1.00      1.00       279\n",
            "              scan       1.00      1.00      1.00       720\n",
            "  malitiousControl       1.00      1.00      1.00       650\n",
            "malitiousOperation       1.00      1.00      1.00      1242\n",
            "            spying       1.00      1.00      1.00       412\n",
            "       dataProbing       1.00      1.00      1.00        94\n",
            "        wrongSetUp       0.99      1.00      1.00    278353\n",
            "\n",
            "       avg / total       0.99      0.99      0.99    286352\n",
            "\n"
          ],
          "name": "stdout"
        }
      ]
    },
    {
      "cell_type": "code",
      "metadata": {
        "id": "6kf-pij0dHDc",
        "colab_type": "code",
        "colab": {},
        "outputId": "f743ee73-6537-4251-bcb9-31c5da970485"
      },
      "source": [
        "print(classification_report(y_test, y_pred_test, target_names=target_names))"
      ],
      "execution_count": null,
      "outputs": [
        {
          "output_type": "stream",
          "text": [
            "                    precision    recall  f1-score   support\n",
            "\n",
            "            Normal       0.98      0.66      0.79      1178\n",
            "         DoSattack       1.00      1.00      1.00        63\n",
            "              scan       1.00      1.00      1.00       169\n",
            "  malitiousControl       1.00      1.00      1.00       155\n",
            "malitiousOperation       1.00      1.00      1.00       305\n",
            "            spying       0.98      1.00      0.99       120\n",
            "       dataProbing       1.00      1.00      1.00        28\n",
            "        wrongSetUp       0.99      1.00      1.00     69571\n",
            "\n",
            "       avg / total       0.99      0.99      0.99     71589\n",
            "\n"
          ],
          "name": "stdout"
        }
      ]
    },
    {
      "cell_type": "code",
      "metadata": {
        "id": "jv9QNmlPdHDe",
        "colab_type": "code",
        "colab": {},
        "outputId": "0fab7abe-3e4d-489a-ad52-9e69185710aa"
      },
      "source": [
        "cnf_matrix = confusion_matrix(y_test, y_pred_test)\n",
        "for i in cnf_matrix:\n",
        "    for j in i:\n",
        "        print(j, end='&')\n",
        "    print()"
      ],
      "execution_count": null,
      "outputs": [
        {
          "output_type": "stream",
          "text": [
            "775&0&0&0&0&0&0&403&\n",
            "0&63&0&0&0&0&0&0&\n",
            "0&0&169&0&0&0&0&0&\n",
            "0&0&0&155&0&0&0&0&\n",
            "0&0&0&0&305&0&0&0&\n",
            "0&0&0&0&0&120&0&0&\n",
            "0&0&0&0&0&0&28&0&\n",
            "18&0&0&0&0&2&0&69551&\n"
          ],
          "name": "stdout"
        }
      ]
    },
    {
      "cell_type": "markdown",
      "metadata": {
        "id": "JhJtgNxDdHDg",
        "colab_type": "text"
      },
      "source": [
        "# Evaluation Metrics Calculations for Random Forest"
      ]
    },
    {
      "cell_type": "code",
      "metadata": {
        "id": "y9yem2PBdHDg",
        "colab_type": "code",
        "colab": {}
      },
      "source": [
        "pipe_rnd = pipe_rnd.fit(X_train, y_train)\n",
        "y_pred_train = pipe_rnd.predict(X_train)\n",
        "y_pred_test = pipe_rnd.predict(X_test)"
      ],
      "execution_count": null,
      "outputs": []
    },
    {
      "cell_type": "code",
      "metadata": {
        "id": "BoWa38ibdHDi",
        "colab_type": "code",
        "colab": {}
      },
      "source": [
        "y_pred_train = pipe_rnd.predict(X_train)\n",
        "y_pred_test = pipe_rnd.predict(X_test)"
      ],
      "execution_count": null,
      "outputs": []
    },
    {
      "cell_type": "code",
      "metadata": {
        "id": "ZS0tcE0idHDk",
        "colab_type": "code",
        "colab": {},
        "outputId": "b47fe968-0617-4063-8358-37592ff81ac4"
      },
      "source": [
        "accuracy_score(y_train, y_pred_train), accuracy_score(y_test, y_pred_test)"
      ],
      "execution_count": null,
      "outputs": [
        {
          "output_type": "execute_result",
          "data": {
            "text/plain": [
              "(0.9942413532994356, 0.994119208258252)"
            ]
          },
          "metadata": {
            "tags": []
          },
          "execution_count": 49
        }
      ]
    },
    {
      "cell_type": "code",
      "metadata": {
        "id": "R9IzshPWdHDm",
        "colab_type": "code",
        "colab": {},
        "outputId": "df0ecff3-5185-4b0b-e91e-ee53942113a7"
      },
      "source": [
        "print(classification_report(y_train, y_pred_train, target_names=target_names))"
      ],
      "execution_count": null,
      "outputs": [
        {
          "output_type": "stream",
          "text": [
            "                    precision    recall  f1-score   support\n",
            "\n",
            "            Normal       0.98      0.65      0.78      4602\n",
            "         DoSattack       1.00      1.00      1.00       279\n",
            "              scan       1.00      1.00      1.00       720\n",
            "  malitiousControl       1.00      1.00      1.00       650\n",
            "malitiousOperation       1.00      1.00      1.00      1242\n",
            "            spying       1.00      1.00      1.00       412\n",
            "       dataProbing       1.00      1.00      1.00        94\n",
            "        wrongSetUp       0.99      1.00      1.00    278353\n",
            "\n",
            "       avg / total       0.99      0.99      0.99    286352\n",
            "\n"
          ],
          "name": "stdout"
        }
      ]
    },
    {
      "cell_type": "code",
      "metadata": {
        "id": "IhGvvUqVdHDo",
        "colab_type": "code",
        "colab": {},
        "outputId": "c104a219-081b-4391-8908-c8c29578f6c8"
      },
      "source": [
        "print(classification_report(y_test, y_pred_test, target_names=target_names))"
      ],
      "execution_count": null,
      "outputs": [
        {
          "output_type": "stream",
          "text": [
            "                    precision    recall  f1-score   support\n",
            "\n",
            "            Normal       0.98      0.66      0.79      1178\n",
            "         DoSattack       1.00      1.00      1.00        63\n",
            "              scan       1.00      1.00      1.00       169\n",
            "  malitiousControl       1.00      1.00      1.00       155\n",
            "malitiousOperation       1.00      1.00      1.00       305\n",
            "            spying       1.00      1.00      1.00       120\n",
            "       dataProbing       1.00      1.00      1.00        28\n",
            "        wrongSetUp       0.99      1.00      1.00     69571\n",
            "\n",
            "       avg / total       0.99      0.99      0.99     71589\n",
            "\n"
          ],
          "name": "stdout"
        }
      ]
    },
    {
      "cell_type": "code",
      "metadata": {
        "id": "57CHTtYCdHDq",
        "colab_type": "code",
        "colab": {},
        "outputId": "569bb458-a257-483f-c396-2b60209875d3"
      },
      "source": [
        "cnf_matrix = confusion_matrix(y_test, y_pred_test)\n",
        "for i in cnf_matrix:\n",
        "    for j in i:\n",
        "        print(j, end='&')\n",
        "    print()"
      ],
      "execution_count": null,
      "outputs": [
        {
          "output_type": "stream",
          "text": [
            "775&0&0&0&0&0&0&403&\n",
            "0&63&0&0&0&0&0&0&\n",
            "0&0&169&0&0&0&0&0&\n",
            "0&0&0&155&0&0&0&0&\n",
            "0&0&0&0&305&0&0&0&\n",
            "0&0&0&0&0&120&0&0&\n",
            "0&0&0&0&0&0&28&0&\n",
            "18&0&0&0&0&0&0&69553&\n"
          ],
          "name": "stdout"
        }
      ]
    },
    {
      "cell_type": "markdown",
      "metadata": {
        "id": "WfuIUs_mdHDs",
        "colab_type": "text"
      },
      "source": [
        "# Evaluation Metrics Calculations for ANN"
      ]
    },
    {
      "cell_type": "code",
      "metadata": {
        "id": "zGA0yL_0dHDs",
        "colab_type": "code",
        "colab": {},
        "outputId": "36dba082-0e7a-4703-a5b5-0b6ac9a490a2"
      },
      "source": [
        "pipe_mlp = pipe_mlp.fit(X_train, y_train)\n",
        "y_pred_train = pipe_mlp.predict(X_train)\n",
        "y_pred_test = pipe_mlp.predict(X_test)"
      ],
      "execution_count": null,
      "outputs": [
        {
          "output_type": "stream",
          "text": [
            "Iteration 1, loss = 0.05584959\n",
            "Iteration 2, loss = 0.02541104\n",
            "Iteration 3, loss = 0.01882284\n",
            "Iteration 4, loss = 0.01670067\n",
            "Iteration 5, loss = 0.01501241\n",
            "Iteration 6, loss = 0.01462482\n",
            "Iteration 7, loss = 0.01410045\n",
            "Iteration 8, loss = 0.01378341\n",
            "Iteration 9, loss = 0.01346050\n",
            "Iteration 10, loss = 0.01328968\n"
          ],
          "name": "stdout"
        },
        {
          "output_type": "stream",
          "text": [
            "C:\\Users\\HP\\Anaconda3\\lib\\site-packages\\sklearn\\neural_network\\multilayer_perceptron.py:564: ConvergenceWarning: Stochastic Optimizer: Maximum iterations (10) reached and the optimization hasn't converged yet.\n",
            "  % self.max_iter, ConvergenceWarning)\n"
          ],
          "name": "stderr"
        }
      ]
    },
    {
      "cell_type": "code",
      "metadata": {
        "id": "uZOzOnaWdHDv",
        "colab_type": "code",
        "colab": {},
        "outputId": "2b71194b-23f4-49fd-c081-03549be9979b"
      },
      "source": [
        "accuracy_score(y_train, y_pred_train), accuracy_score(y_test, y_pred_test)"
      ],
      "execution_count": null,
      "outputs": [
        {
          "output_type": "execute_result",
          "data": {
            "text/plain": [
              "(0.9942273844778454, 0.994077302378857)"
            ]
          },
          "metadata": {
            "tags": []
          },
          "execution_count": 104
        }
      ]
    },
    {
      "cell_type": "code",
      "metadata": {
        "id": "zGPydvhHdHDx",
        "colab_type": "code",
        "colab": {},
        "outputId": "be6a0986-f2f1-4b2f-eb02-1fb425683f6e"
      },
      "source": [
        "print(classification_report(y_train, y_pred_train, target_names=target_names))"
      ],
      "execution_count": null,
      "outputs": [
        {
          "output_type": "stream",
          "text": [
            "                    precision    recall  f1-score   support\n",
            "\n",
            "            Normal       0.98      0.65      0.78      4602\n",
            "         DoSattack       1.00      1.00      1.00       279\n",
            "              scan       1.00      1.00      1.00       720\n",
            "  malitiousControl       1.00      1.00      1.00       650\n",
            "malitiousOperation       1.00      1.00      1.00      1242\n",
            "            spying       1.00      1.00      1.00       412\n",
            "       dataProbing       1.00      1.00      1.00        94\n",
            "        wrongSetUp       0.99      1.00      1.00    278353\n",
            "\n",
            "       avg / total       0.99      0.99      0.99    286352\n",
            "\n"
          ],
          "name": "stdout"
        }
      ]
    },
    {
      "cell_type": "code",
      "metadata": {
        "id": "KwMtkMMRdHDy",
        "colab_type": "code",
        "colab": {}
      },
      "source": [
        "pickle.dump(pipe_mlp,open('MLP.sav', 'wb'))"
      ],
      "execution_count": null,
      "outputs": []
    },
    {
      "cell_type": "code",
      "metadata": {
        "id": "oQQ0cqBkdHD0",
        "colab_type": "code",
        "colab": {},
        "outputId": "f612d615-c8ef-46c2-8c94-638ed7e2d209"
      },
      "source": [
        "print(classification_report(y_test, y_pred_test, target_names=target_names))"
      ],
      "execution_count": null,
      "outputs": [
        {
          "output_type": "stream",
          "text": [
            "                    precision    recall  f1-score   support\n",
            "\n",
            "            Normal       0.98      0.66      0.79      1178\n",
            "         DoSattack       1.00      1.00      1.00        63\n",
            "              scan       0.99      1.00      1.00       169\n",
            "  malitiousControl       1.00      1.00      1.00       155\n",
            "malitiousOperation       1.00      1.00      1.00       305\n",
            "            spying       0.98      1.00      0.99       120\n",
            "       dataProbing       1.00      1.00      1.00        28\n",
            "        wrongSetUp       0.99      1.00      1.00     69571\n",
            "\n",
            "       avg / total       0.99      0.99      0.99     71589\n",
            "\n"
          ],
          "name": "stdout"
        }
      ]
    },
    {
      "cell_type": "code",
      "metadata": {
        "id": "xRHAyHyBdHD1",
        "colab_type": "code",
        "colab": {}
      },
      "source": [
        "from sklearn.metrics import confusion_matrix\n",
        "import itertools"
      ],
      "execution_count": null,
      "outputs": []
    },
    {
      "cell_type": "code",
      "metadata": {
        "id": "ej3aL2JOdHD3",
        "colab_type": "code",
        "colab": {}
      },
      "source": [
        "cnf_matrix = confusion_matrix(y_test, y_pred_test)"
      ],
      "execution_count": null,
      "outputs": []
    },
    {
      "cell_type": "code",
      "metadata": {
        "id": "gMbydjRmdHD6",
        "colab_type": "code",
        "colab": {},
        "outputId": "4d0fc99c-60e3-4e79-e303-5239f441066a"
      },
      "source": [
        "cnf_matrix"
      ],
      "execution_count": null,
      "outputs": [
        {
          "output_type": "execute_result",
          "data": {
            "text/plain": [
              "array([[  775,     0,     0,     0,     0,     0,     0,   403],\n",
              "       [    0,    63,     0,     0,     0,     0,     0,     0],\n",
              "       [    0,     0,   169,     0,     0,     0,     0,     0],\n",
              "       [    0,     0,     0,   155,     0,     0,     0,     0],\n",
              "       [    0,     0,     0,     0,   305,     0,     0,     0],\n",
              "       [    0,     0,     0,     0,     0,   120,     0,     0],\n",
              "       [    0,     0,     0,     0,     0,     0,    28,     0],\n",
              "       [   18,     0,     1,     0,     0,     2,     0, 69550]],\n",
              "      dtype=int64)"
            ]
          },
          "metadata": {
            "tags": []
          },
          "execution_count": 110
        }
      ]
    },
    {
      "cell_type": "code",
      "metadata": {
        "id": "OB_OPOwsdHD8",
        "colab_type": "code",
        "colab": {},
        "outputId": "45efe367-2421-4604-d629-8630f23872a7"
      },
      "source": [
        "for i in cnf_matrix:\n",
        "    for j in i:\n",
        "        print(j, end=' ')\n",
        "    print()"
      ],
      "execution_count": null,
      "outputs": [
        {
          "output_type": "stream",
          "text": [
            "775 0 0 0 0 0 0 403 \n",
            "0 63 0 0 0 0 0 0 \n",
            "0 0 169 0 0 0 0 0 \n",
            "0 0 0 155 0 0 0 0 \n",
            "0 0 0 0 305 0 0 0 \n",
            "0 0 0 0 0 120 0 0 \n",
            "0 0 0 0 0 0 28 0 \n",
            "18 0 1 0 0 2 0 69550 \n"
          ],
          "name": "stdout"
        }
      ]
    },
    {
      "cell_type": "code",
      "metadata": {
        "id": "oiJ8_75JdHD_",
        "colab_type": "code",
        "colab": {}
      },
      "source": [
        ""
      ],
      "execution_count": null,
      "outputs": []
    }
  ]
}