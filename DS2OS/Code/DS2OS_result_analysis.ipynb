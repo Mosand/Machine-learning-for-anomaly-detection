{
  "nbformat": 4,
  "nbformat_minor": 0,
  "metadata": {
    "kernelspec": {
      "display_name": "Python 3",
      "language": "python",
      "name": "python3"
    },
    "language_info": {
      "codemirror_mode": {
        "name": "ipython",
        "version": 3
      },
      "file_extension": ".py",
      "mimetype": "text/x-python",
      "name": "python",
      "nbconvert_exporter": "python",
      "pygments_lexer": "ipython3",
      "version": "3.6.8"
    },
    "colab": {
      "name": "DS2OS_result_analysis.ipynb",
      "provenance": [],
      "collapsed_sections": []
    }
  },
  "cells": [
    {
      "cell_type": "markdown",
      "metadata": {
        "id": "tzJax8YHdHBG"
      },
      "source": [
        "# This Notebook starts from Preprocessed Dataframework. \"df_spark.csv\" is the dataframe"
      ]
    },
    {
      "cell_type": "code",
      "metadata": {
        "id": "_hQw4IQkdHBI"
      },
      "source": [
        "import pandas as pd"
      ],
      "execution_count": 1,
      "outputs": []
    },
    {
      "cell_type": "code",
      "metadata": {
        "id": "egF-OhKddHBN",
        "outputId": "cfa1ab75-daee-4d61-df24-0e4b3bd52ff4",
        "colab": {
          "base_uri": "https://localhost:8080/",
          "height": 34
        }
      },
      "source": [
        "from google.colab import drive\n",
        "drive.mount('/content/drive')"
      ],
      "execution_count": 2,
      "outputs": [
        {
          "output_type": "stream",
          "text": [
            "Mounted at /content/drive\n"
          ],
          "name": "stdout"
        }
      ]
    },
    {
      "cell_type": "code",
      "metadata": {
        "id": "o86TwOfrdNBj"
      },
      "source": [
        "Path = '/content/drive/My Drive/Data/DF_Spark.csv'\n",
        "df_spark = pd.read_csv(Path)"
      ],
      "execution_count": 3,
      "outputs": []
    },
    {
      "cell_type": "code",
      "metadata": {
        "id": "7flF-dVjdHBQ",
        "outputId": "31327527-0528-4fe0-bbde-db1aac7f6bdd",
        "colab": {
          "base_uri": "https://localhost:8080/",
          "height": 204
        }
      },
      "source": [
        "df_spark.head()"
      ],
      "execution_count": 4,
      "outputs": [
        {
          "output_type": "execute_result",
          "data": {
            "text/html": [
              "<div>\n",
              "<style scoped>\n",
              "    .dataframe tbody tr th:only-of-type {\n",
              "        vertical-align: middle;\n",
              "    }\n",
              "\n",
              "    .dataframe tbody tr th {\n",
              "        vertical-align: top;\n",
              "    }\n",
              "\n",
              "    .dataframe thead th {\n",
              "        text-align: right;\n",
              "    }\n",
              "</style>\n",
              "<table border=\"1\" class=\"dataframe\">\n",
              "  <thead>\n",
              "    <tr style=\"text-align: right;\">\n",
              "      <th></th>\n",
              "      <th>Unnamed: 0</th>\n",
              "      <th>0</th>\n",
              "      <th>1</th>\n",
              "      <th>2</th>\n",
              "      <th>3</th>\n",
              "      <th>4</th>\n",
              "      <th>5</th>\n",
              "      <th>6</th>\n",
              "      <th>7</th>\n",
              "      <th>8</th>\n",
              "      <th>9</th>\n",
              "      <th>10</th>\n",
              "      <th>11</th>\n",
              "    </tr>\n",
              "  </thead>\n",
              "  <tbody>\n",
              "    <tr>\n",
              "      <th>0</th>\n",
              "      <td>0</td>\n",
              "      <td>7.0</td>\n",
              "      <td>21.0</td>\n",
              "      <td>30.0</td>\n",
              "      <td>2.0</td>\n",
              "      <td>3.0</td>\n",
              "      <td>30.0</td>\n",
              "      <td>2.0</td>\n",
              "      <td>3.0</td>\n",
              "      <td>59.0</td>\n",
              "      <td>7.0</td>\n",
              "      <td>2.0</td>\n",
              "      <td>0.0</td>\n",
              "    </tr>\n",
              "    <tr>\n",
              "      <th>1</th>\n",
              "      <td>1</td>\n",
              "      <td>7.0</td>\n",
              "      <td>32.0</td>\n",
              "      <td>70.0</td>\n",
              "      <td>2.0</td>\n",
              "      <td>4.0</td>\n",
              "      <td>68.0</td>\n",
              "      <td>2.0</td>\n",
              "      <td>4.0</td>\n",
              "      <td>134.0</td>\n",
              "      <td>7.0</td>\n",
              "      <td>2.0</td>\n",
              "      <td>0.0</td>\n",
              "    </tr>\n",
              "    <tr>\n",
              "      <th>2</th>\n",
              "      <td>2</td>\n",
              "      <td>7.0</td>\n",
              "      <td>15.0</td>\n",
              "      <td>1.0</td>\n",
              "      <td>2.0</td>\n",
              "      <td>2.0</td>\n",
              "      <td>0.0</td>\n",
              "      <td>2.0</td>\n",
              "      <td>2.0</td>\n",
              "      <td>0.0</td>\n",
              "      <td>7.0</td>\n",
              "      <td>2.0</td>\n",
              "      <td>0.0</td>\n",
              "    </tr>\n",
              "    <tr>\n",
              "      <th>3</th>\n",
              "      <td>3</td>\n",
              "      <td>7.0</td>\n",
              "      <td>33.0</td>\n",
              "      <td>77.0</td>\n",
              "      <td>2.0</td>\n",
              "      <td>7.0</td>\n",
              "      <td>73.0</td>\n",
              "      <td>2.0</td>\n",
              "      <td>7.0</td>\n",
              "      <td>144.0</td>\n",
              "      <td>7.0</td>\n",
              "      <td>2.0</td>\n",
              "      <td>0.0</td>\n",
              "    </tr>\n",
              "    <tr>\n",
              "      <th>4</th>\n",
              "      <td>4</td>\n",
              "      <td>7.0</td>\n",
              "      <td>55.0</td>\n",
              "      <td>78.0</td>\n",
              "      <td>3.0</td>\n",
              "      <td>7.0</td>\n",
              "      <td>74.0</td>\n",
              "      <td>3.0</td>\n",
              "      <td>7.0</td>\n",
              "      <td>146.0</td>\n",
              "      <td>8.0</td>\n",
              "      <td>2.0</td>\n",
              "      <td>0.0</td>\n",
              "    </tr>\n",
              "  </tbody>\n",
              "</table>\n",
              "</div>"
            ],
            "text/plain": [
              "   Unnamed: 0    0     1     2    3    4     5    6    7      8    9   10   11\n",
              "0           0  7.0  21.0  30.0  2.0  3.0  30.0  2.0  3.0   59.0  7.0  2.0  0.0\n",
              "1           1  7.0  32.0  70.0  2.0  4.0  68.0  2.0  4.0  134.0  7.0  2.0  0.0\n",
              "2           2  7.0  15.0   1.0  2.0  2.0   0.0  2.0  2.0    0.0  7.0  2.0  0.0\n",
              "3           3  7.0  33.0  77.0  2.0  7.0  73.0  2.0  7.0  144.0  7.0  2.0  0.0\n",
              "4           4  7.0  55.0  78.0  3.0  7.0  74.0  3.0  7.0  146.0  8.0  2.0  0.0"
            ]
          },
          "metadata": {
            "tags": []
          },
          "execution_count": 4
        }
      ]
    },
    {
      "cell_type": "code",
      "metadata": {
        "id": "DcEg8KKjdHBU"
      },
      "source": [
        "df_spark = df_spark.drop(columns=\"Unnamed: 0\")"
      ],
      "execution_count": 5,
      "outputs": []
    },
    {
      "cell_type": "code",
      "metadata": {
        "id": "pl4XzqhedHBY",
        "outputId": "cea410ef-bcf7-4fbe-f1c5-446f4b3bbd58",
        "colab": {
          "base_uri": "https://localhost:8080/",
          "height": 204
        }
      },
      "source": [
        "df_spark.head()"
      ],
      "execution_count": 6,
      "outputs": [
        {
          "output_type": "execute_result",
          "data": {
            "text/html": [
              "<div>\n",
              "<style scoped>\n",
              "    .dataframe tbody tr th:only-of-type {\n",
              "        vertical-align: middle;\n",
              "    }\n",
              "\n",
              "    .dataframe tbody tr th {\n",
              "        vertical-align: top;\n",
              "    }\n",
              "\n",
              "    .dataframe thead th {\n",
              "        text-align: right;\n",
              "    }\n",
              "</style>\n",
              "<table border=\"1\" class=\"dataframe\">\n",
              "  <thead>\n",
              "    <tr style=\"text-align: right;\">\n",
              "      <th></th>\n",
              "      <th>0</th>\n",
              "      <th>1</th>\n",
              "      <th>2</th>\n",
              "      <th>3</th>\n",
              "      <th>4</th>\n",
              "      <th>5</th>\n",
              "      <th>6</th>\n",
              "      <th>7</th>\n",
              "      <th>8</th>\n",
              "      <th>9</th>\n",
              "      <th>10</th>\n",
              "      <th>11</th>\n",
              "    </tr>\n",
              "  </thead>\n",
              "  <tbody>\n",
              "    <tr>\n",
              "      <th>0</th>\n",
              "      <td>7.0</td>\n",
              "      <td>21.0</td>\n",
              "      <td>30.0</td>\n",
              "      <td>2.0</td>\n",
              "      <td>3.0</td>\n",
              "      <td>30.0</td>\n",
              "      <td>2.0</td>\n",
              "      <td>3.0</td>\n",
              "      <td>59.0</td>\n",
              "      <td>7.0</td>\n",
              "      <td>2.0</td>\n",
              "      <td>0.0</td>\n",
              "    </tr>\n",
              "    <tr>\n",
              "      <th>1</th>\n",
              "      <td>7.0</td>\n",
              "      <td>32.0</td>\n",
              "      <td>70.0</td>\n",
              "      <td>2.0</td>\n",
              "      <td>4.0</td>\n",
              "      <td>68.0</td>\n",
              "      <td>2.0</td>\n",
              "      <td>4.0</td>\n",
              "      <td>134.0</td>\n",
              "      <td>7.0</td>\n",
              "      <td>2.0</td>\n",
              "      <td>0.0</td>\n",
              "    </tr>\n",
              "    <tr>\n",
              "      <th>2</th>\n",
              "      <td>7.0</td>\n",
              "      <td>15.0</td>\n",
              "      <td>1.0</td>\n",
              "      <td>2.0</td>\n",
              "      <td>2.0</td>\n",
              "      <td>0.0</td>\n",
              "      <td>2.0</td>\n",
              "      <td>2.0</td>\n",
              "      <td>0.0</td>\n",
              "      <td>7.0</td>\n",
              "      <td>2.0</td>\n",
              "      <td>0.0</td>\n",
              "    </tr>\n",
              "    <tr>\n",
              "      <th>3</th>\n",
              "      <td>7.0</td>\n",
              "      <td>33.0</td>\n",
              "      <td>77.0</td>\n",
              "      <td>2.0</td>\n",
              "      <td>7.0</td>\n",
              "      <td>73.0</td>\n",
              "      <td>2.0</td>\n",
              "      <td>7.0</td>\n",
              "      <td>144.0</td>\n",
              "      <td>7.0</td>\n",
              "      <td>2.0</td>\n",
              "      <td>0.0</td>\n",
              "    </tr>\n",
              "    <tr>\n",
              "      <th>4</th>\n",
              "      <td>7.0</td>\n",
              "      <td>55.0</td>\n",
              "      <td>78.0</td>\n",
              "      <td>3.0</td>\n",
              "      <td>7.0</td>\n",
              "      <td>74.0</td>\n",
              "      <td>3.0</td>\n",
              "      <td>7.0</td>\n",
              "      <td>146.0</td>\n",
              "      <td>8.0</td>\n",
              "      <td>2.0</td>\n",
              "      <td>0.0</td>\n",
              "    </tr>\n",
              "  </tbody>\n",
              "</table>\n",
              "</div>"
            ],
            "text/plain": [
              "     0     1     2    3    4     5    6    7      8    9   10   11\n",
              "0  7.0  21.0  30.0  2.0  3.0  30.0  2.0  3.0   59.0  7.0  2.0  0.0\n",
              "1  7.0  32.0  70.0  2.0  4.0  68.0  2.0  4.0  134.0  7.0  2.0  0.0\n",
              "2  7.0  15.0   1.0  2.0  2.0   0.0  2.0  2.0    0.0  7.0  2.0  0.0\n",
              "3  7.0  33.0  77.0  2.0  7.0  73.0  2.0  7.0  144.0  7.0  2.0  0.0\n",
              "4  7.0  55.0  78.0  3.0  7.0  74.0  3.0  7.0  146.0  8.0  2.0  0.0"
            ]
          },
          "metadata": {
            "tags": []
          },
          "execution_count": 6
        }
      ]
    },
    {
      "cell_type": "markdown",
      "metadata": {
        "id": "-wkLSqAOdHBa"
      },
      "source": [
        "# In the following code X contains features and y contains label"
      ]
    },
    {
      "cell_type": "code",
      "metadata": {
        "id": "lSthGZvedHBb"
      },
      "source": [
        "y = df_spark.iloc[:,0].values\n",
        "X = df_spark.iloc[:,1:].values"
      ],
      "execution_count": 7,
      "outputs": []
    },
    {
      "cell_type": "markdown",
      "metadata": {
        "id": "9SJ48OVcdHBd"
      },
      "source": [
        "# The whole dataset is split into 80:20 ratio. X_train contains 80% of the features, X_test contains 20% of the features and y_train contains 80% corresponding label of X_train and y_test contains 20% corresponding label of X_test"
      ]
    },
    {
      "cell_type": "code",
      "metadata": {
        "id": "1avuIsNPdHBe"
      },
      "source": [
        "from sklearn.model_selection import train_test_split\n",
        "X_train, X_test, y_train, y_test = train_test_split(X,y, test_size=0.20, random_state = 1)"
      ],
      "execution_count": 8,
      "outputs": []
    },
    {
      "cell_type": "code",
      "metadata": {
        "id": "euG3CiwpdHBi"
      },
      "source": [
        "from sklearn.preprocessing import StandardScaler\n",
        "from sklearn.pipeline import Pipeline\n",
        "from sklearn.linear_model import LogisticRegression\n",
        "from sklearn.model_selection import cross_val_score\n",
        "import matplotlib.pyplot as plt\n",
        "from sklearn.model_selection import learning_curve\n",
        "import numpy as np"
      ],
      "execution_count": 9,
      "outputs": []
    },
    {
      "cell_type": "markdown",
      "metadata": {
        "id": "UF2R-LXudHBk"
      },
      "source": [
        "# 5-Fold Cross validation Estimation for Logistic Regression"
      ]
    },
    {
      "cell_type": "code",
      "metadata": {
        "id": "ZtWlwtkydHBl"
      },
      "source": [
        "pipe_lr = Pipeline([('scl', StandardScaler()),('clf', LogisticRegression(penalty='l2', random_state=0))])\n",
        "train_sizes, train_scores, test_scores = learning_curve(estimator=pipe_lr,X=X, y=y, train_sizes=np.linspace(0.2,1.0,5), cv=5, n_jobs=-1)\n",
        "train_mean = np.mean(train_scores, axis=1)\n",
        "train_std = np.std(train_scores, axis=1)\n",
        "test_mean = np.mean(test_scores, axis=1)\n",
        "test_std = np.std(test_scores, axis=1)"
      ],
      "execution_count": 10,
      "outputs": []
    },
    {
      "cell_type": "code",
      "metadata": {
        "id": "IzDEHRaudHBq",
        "outputId": "c023e59e-f7ad-4274-a1cd-16705626b3fb",
        "colab": {
          "base_uri": "https://localhost:8080/",
          "height": 102
        }
      },
      "source": [
        "for i in train_sizes:\n",
        "    print(i)"
      ],
      "execution_count": null,
      "outputs": [
        {
          "output_type": "stream",
          "text": [
            "57270\n",
            "114540\n",
            "171811\n",
            "229081\n",
            "286352\n"
          ],
          "name": "stdout"
        }
      ]
    },
    {
      "cell_type": "code",
      "metadata": {
        "id": "D_c6dJQddHBs",
        "outputId": "0141b730-5212-461c-ffbd-cb2980f07fb4",
        "colab": {
          "base_uri": "https://localhost:8080/",
          "height": 102
        }
      },
      "source": [
        "for i in train_mean:\n",
        "    print(i)"
      ],
      "execution_count": null,
      "outputs": [
        {
          "output_type": "stream",
          "text": [
            "0.9864361795006111\n",
            "0.986911122751877\n",
            "0.9868308781160694\n",
            "0.9865846578284538\n",
            "0.9883136838576296\n"
          ],
          "name": "stdout"
        }
      ]
    },
    {
      "cell_type": "code",
      "metadata": {
        "id": "yOF3N-E3dHBw",
        "outputId": "46e1fb53-9be6-4fe9-f127-54251a9f0597",
        "colab": {
          "base_uri": "https://localhost:8080/",
          "height": 102
        }
      },
      "source": [
        "for i in test_mean:\n",
        "    print(i)"
      ],
      "execution_count": null,
      "outputs": [
        {
          "output_type": "stream",
          "text": [
            "0.8969772041405518\n",
            "0.8779824156058529\n",
            "0.9781109282961822\n",
            "0.9846064215159688\n",
            "0.9880902458937426\n"
          ],
          "name": "stdout"
        }
      ]
    },
    {
      "cell_type": "markdown",
      "metadata": {
        "id": "rTWpJs-pdHB1"
      },
      "source": [
        "# 5-Fold Cross validation Estimation for SVM"
      ]
    },
    {
      "cell_type": "code",
      "metadata": {
        "id": "4xfl5C0pdHB1"
      },
      "source": [
        "from sklearn.svm import LinearSVC"
      ],
      "execution_count": 11,
      "outputs": []
    },
    {
      "cell_type": "code",
      "metadata": {
        "id": "NHzZqgjTdHB4"
      },
      "source": [
        "pipe_svc = Pipeline([('scl', StandardScaler()),('clf', LinearSVC())])\n",
        "train_sizes_svc, train_scores_svc, test_scores_svc = learning_curve(estimator=pipe_svc,X=X, y=y, train_sizes=np.linspace(0.2,1.0,5), cv=5, n_jobs=-1)\n",
        "train_mean_svc = np.mean(train_scores_svc, axis=1)\n",
        "train_std_svc = np.std(train_scores_svc, axis=1)\n",
        "test_mean_svc = np.mean(test_scores_svc, axis=1)\n",
        "test_std_svc = np.std(test_scores_svc, axis=1)"
      ],
      "execution_count": 12,
      "outputs": []
    },
    {
      "cell_type": "code",
      "metadata": {
        "id": "AhzGQrHidHB7",
        "outputId": "9273e07f-5b8b-42cd-8da9-77b0c8ddddba",
        "colab": {
          "base_uri": "https://localhost:8080/",
          "height": 102
        }
      },
      "source": [
        "for i in train_mean_svc:\n",
        "    print(i)"
      ],
      "execution_count": null,
      "outputs": [
        {
          "output_type": "stream",
          "text": [
            "0.9826540946394273\n",
            "0.981639601885804\n",
            "0.9856668082951614\n",
            "0.9823267752454372\n",
            "0.9829803877744873\n"
          ],
          "name": "stdout"
        }
      ]
    },
    {
      "cell_type": "code",
      "metadata": {
        "id": "EtSBNPKjdHB9",
        "outputId": "fda16bcf-0d89-4468-ca19-aa28970f0920",
        "colab": {
          "base_uri": "https://localhost:8080/",
          "height": 102
        }
      },
      "source": [
        "for i in test_mean_svc:\n",
        "    print(i)"
      ],
      "execution_count": null,
      "outputs": [
        {
          "output_type": "stream",
          "text": [
            "0.9603062688826753\n",
            "0.9711907748218677\n",
            "0.9774767477765417\n",
            "0.9796111876180309\n",
            "0.9825781652457415\n"
          ],
          "name": "stdout"
        }
      ]
    },
    {
      "cell_type": "markdown",
      "metadata": {
        "id": "GeDGgYKMdHCA"
      },
      "source": [
        "# 5-Fold Cross validation Estimation for Decision Tree"
      ]
    },
    {
      "cell_type": "code",
      "metadata": {
        "id": "zCYdTtqjdHCA"
      },
      "source": [
        "from sklearn import tree"
      ],
      "execution_count": 13,
      "outputs": []
    },
    {
      "cell_type": "code",
      "metadata": {
        "id": "YcKCTIuSdHCD"
      },
      "source": [
        "pipe_tree = Pipeline([('scl', StandardScaler()),('clf', tree.DecisionTreeClassifier())])\n",
        "train_sizes_tree, train_scores_tree, test_scores_tree = learning_curve(estimator=pipe_tree,X=X, y=y, train_sizes=np.linspace(0.2,1.0,5), cv=5, n_jobs=-1)\n",
        "train_mean_tree = np.mean(train_scores_tree, axis=1)\n",
        "train_std_tree = np.std(train_scores_tree, axis=1)\n",
        "test_mean_tree = np.mean(test_scores_tree, axis=1)\n",
        "test_std_tree = np.std(test_scores_tree, axis=1)"
      ],
      "execution_count": 14,
      "outputs": []
    },
    {
      "cell_type": "code",
      "metadata": {
        "id": "qsSi5mCjdHCF"
      },
      "source": [
        "for i in train_mean_tree:\n",
        "    print(i)"
      ],
      "execution_count": null,
      "outputs": []
    },
    {
      "cell_type": "code",
      "metadata": {
        "id": "PCFCwhM9dHCI"
      },
      "source": [
        "for i in test_mean_tree:\n",
        "    print(i)"
      ],
      "execution_count": null,
      "outputs": []
    },
    {
      "cell_type": "markdown",
      "metadata": {
        "id": "J7g_r8k0dHCK"
      },
      "source": [
        "# 5-Fold Cross validation Estimation for Random Forest"
      ]
    },
    {
      "cell_type": "code",
      "metadata": {
        "id": "hfMOHSZ-dHCL"
      },
      "source": [
        "from sklearn.ensemble import RandomForestClassifier"
      ],
      "execution_count": 15,
      "outputs": []
    },
    {
      "cell_type": "code",
      "metadata": {
        "id": "i8et1wNMdHCN"
      },
      "source": [
        "pipe_rnd = Pipeline([('scl', StandardScaler()),('clf', RandomForestClassifier(n_estimators=10))])\n",
        "train_sizes_rnd, train_scores_rnd, test_scores_rnd = learning_curve(estimator=pipe_rnd,X=X, y=y, train_sizes=np.linspace(0.2,1.0,5), cv=5, n_jobs=-1)\n",
        "train_mean_rnd = np.mean(train_scores_rnd, axis=1)\n",
        "train_std_rnd = np.std(train_scores_rnd, axis=1)\n",
        "test_mean_rnd = np.mean(test_scores_rnd, axis=1)\n",
        "test_std_rnd = np.std(test_scores_rnd, axis=1)"
      ],
      "execution_count": 16,
      "outputs": []
    },
    {
      "cell_type": "code",
      "metadata": {
        "id": "5K9EECK_dHCP",
        "outputId": "7faeb5d6-25db-46af-9d13-076265814af7"
      },
      "source": [
        "for i in train_mean_rnd:\n",
        "    print(i)"
      ],
      "execution_count": null,
      "outputs": [
        {
          "output_type": "stream",
          "text": [
            "0.9866876200453991\n",
            "0.9884634188929631\n",
            "0.9906862231534834\n",
            "0.992856643967173\n",
            "0.9942168674698795\n"
          ],
          "name": "stdout"
        }
      ]
    },
    {
      "cell_type": "code",
      "metadata": {
        "id": "KjTO5Zk3dHCR",
        "outputId": "0ae303de-c07d-49d0-b0c5-7310b246014d"
      },
      "source": [
        "for i in test_mean_rnd:\n",
        "    print(i)"
      ],
      "execution_count": null,
      "outputs": [
        {
          "output_type": "stream",
          "text": [
            "0.9439088829638763\n",
            "0.9685588432554251\n",
            "0.9801726981234566\n",
            "0.9884841598922233\n",
            "0.9932225637013902\n"
          ],
          "name": "stdout"
        }
      ]
    },
    {
      "cell_type": "markdown",
      "metadata": {
        "id": "K4g-5FtAdHCT"
      },
      "source": [
        "# 5-Fold Cross validation Estimation for ANN"
      ]
    },
    {
      "cell_type": "code",
      "metadata": {
        "id": "y_n2LWRDdHCT"
      },
      "source": [
        "from sklearn.neural_network import MLPClassifier\n",
        "mlp = MLPClassifier(hidden_layer_sizes=(50,), max_iter=10, alpha=1e-4, solver='sgd', verbose=10, tol=1e-4, random_state=1, learning_rate_init=.1)"
      ],
      "execution_count": 17,
      "outputs": []
    },
    {
      "cell_type": "code",
      "metadata": {
        "id": "dMrDkUQ0dHCW"
      },
      "source": [
        "pipe_mlp = Pipeline([('scl', StandardScaler()),('clf', mlp)])\n",
        "train_sizes_mlp, train_scores_mlp, test_scores_mlp = learning_curve(estimator=pipe_mlp,X=X, y=y, train_sizes=np.linspace(0.2,1.0,5), cv=5, n_jobs=-1)\n",
        "train_mean_mlp = np.mean(train_scores_mlp, axis=1)\n",
        "train_std_mlp = np.std(train_scores_mlp, axis=1)\n",
        "test_mean_mlp = np.mean(test_scores_mlp, axis=1)\n",
        "test_std_mlp = np.std(test_scores_mlp, axis=1)"
      ],
      "execution_count": null,
      "outputs": []
    },
    {
      "cell_type": "code",
      "metadata": {
        "id": "vdyfRkzMdHCY",
        "outputId": "f9036770-7dca-44e6-d046-764d1dab149b"
      },
      "source": [
        "for i in train_mean_mlp:\n",
        "    print(i)"
      ],
      "execution_count": null,
      "outputs": [
        {
          "output_type": "stream",
          "text": [
            "0.985339619346953\n",
            "0.9879745067225423\n",
            "0.990625691170479\n",
            "0.9928016413480008\n",
            "0.9941484197660205\n"
          ],
          "name": "stdout"
        }
      ]
    },
    {
      "cell_type": "code",
      "metadata": {
        "id": "g45rveLDdHCa",
        "outputId": "24195fe3-29e5-4424-cec6-80e227d70a06"
      },
      "source": [
        "for i in test_mean_mlp:\n",
        "    print(i)"
      ],
      "execution_count": null,
      "outputs": [
        {
          "output_type": "stream",
          "text": [
            "0.9150290340041607\n",
            "0.9029206196671373\n",
            "0.9803263726837024\n",
            "0.9884702046127953\n",
            "0.9930130422658466\n"
          ],
          "name": "stdout"
        }
      ]
    },
    {
      "cell_type": "markdown",
      "metadata": {
        "id": "rcId37yQdHCc"
      },
      "source": [
        "# Mean values of Training and Testing accuracies and Standard Deviation of Training and Testing accuracies are given below"
      ]
    },
    {
      "cell_type": "code",
      "metadata": {
        "id": "aIEn-heXdHCc",
        "outputId": "6f869c75-946f-47d4-a91f-21380a0997f3"
      },
      "source": [
        "np.mean(train_mean) , np.mean(train_mean_svc), np.mean(train_mean_tree), np.mean(train_mean_rnd), np.mean(train_mean_mlp)"
      ],
      "execution_count": null,
      "outputs": [
        {
          "output_type": "execute_result",
          "data": {
            "text/plain": [
              "(0.9825350341636725,\n",
              " 0.9827354393092291,\n",
              " 0.9899853295348444,\n",
              " 0.9899843194255066,\n",
              " 0.988992106220478)"
            ]
          },
          "metadata": {
            "tags": []
          },
          "execution_count": 58
        }
      ]
    },
    {
      "cell_type": "code",
      "metadata": {
        "id": "7UMXbYHMdHCf",
        "outputId": "7aaada04-c6c2-4a4c-fb46-7ac435f03fc5"
      },
      "source": [
        "np.mean(train_std) , np.mean(train_std_svc), np.mean(train_std_tree), np.mean(train_std_rnd), np.mean(train_std_mlp)"
      ],
      "execution_count": null,
      "outputs": [
        {
          "output_type": "execute_result",
          "data": {
            "text/plain": [
              "(0.0012669016539291768,\n",
              " 0.0015004132547957309,\n",
              " 0.000812529982066585,\n",
              " 0.0008124067495914715,\n",
              " 0.0013105445891091817)"
            ]
          },
          "metadata": {
            "tags": []
          },
          "execution_count": 60
        }
      ]
    },
    {
      "cell_type": "code",
      "metadata": {
        "id": "1APMI8CqdHCh",
        "outputId": "7599b51d-91fb-4d09-f1e7-c42131eb9ffc"
      },
      "source": [
        "np.mean(test_mean) , np.mean(test_mean_svc), np.mean(test_mean_tree), np.mean(test_mean_rnd), np.mean(test_mean_mlp)"
      ],
      "execution_count": null,
      "outputs": [
        {
          "output_type": "execute_result",
          "data": {
            "text/plain": [
              "(0.9745988472667129,\n",
              " 0.9762471837085901,\n",
              " 0.9707884454993927,\n",
              " 0.9725458663799749,\n",
              " 0.9611862286384287)"
            ]
          },
          "metadata": {
            "tags": []
          },
          "execution_count": 61
        }
      ]
    },
    {
      "cell_type": "code",
      "metadata": {
        "id": "yHTSguqMdHCj",
        "outputId": "59afb04b-d0a8-46ef-f94d-9b185b9188e5"
      },
      "source": [
        "np.mean(test_std) , np.mean(test_std_svc), np.mean(test_std_tree), np.mean(test_std_rnd), np.mean(test_std_mlp)"
      ],
      "execution_count": null,
      "outputs": [
        {
          "output_type": "execute_result",
          "data": {
            "text/plain": [
              "(0.005597696152259861,\n",
              " 0.006471826851518314,\n",
              " 0.016850233251830146,\n",
              " 0.014866038573080196,\n",
              " 0.021343692164590724)"
            ]
          },
          "metadata": {
            "tags": []
          },
          "execution_count": 62
        }
      ]
    },
    {
      "cell_type": "markdown",
      "metadata": {
        "id": "6sm635vNdHCl"
      },
      "source": [
        "# Evaluation Metrics Calculations for Logisitic Regression"
      ]
    },
    {
      "cell_type": "code",
      "metadata": {
        "id": "6TQbdoZMdHCl"
      },
      "source": [
        "pipe_lr = pipe_lr.fit(X_train, y_train)"
      ],
      "execution_count": null,
      "outputs": []
    },
    {
      "cell_type": "code",
      "metadata": {
        "id": "NCN8WtfRdHCn"
      },
      "source": [
        "y_pred_train = pipe_lr.predict(X_train)"
      ],
      "execution_count": 20,
      "outputs": []
    },
    {
      "cell_type": "code",
      "metadata": {
        "id": "euVwYkoidHCr"
      },
      "source": [
        "y_pred_test = pipe_lr.predict(X_test)"
      ],
      "execution_count": 21,
      "outputs": []
    },
    {
      "cell_type": "code",
      "metadata": {
        "id": "pt1Gt745dHCt"
      },
      "source": [
        "from sklearn.metrics import accuracy_score"
      ],
      "execution_count": 22,
      "outputs": []
    },
    {
      "cell_type": "code",
      "metadata": {
        "id": "uoswhZHodHCv",
        "outputId": "5895717a-8913-4453-9b60-ea043db682f8",
        "colab": {
          "base_uri": "https://localhost:8080/",
          "height": 34
        }
      },
      "source": [
        "accuracy_score(y_train, y_pred_train)"
      ],
      "execution_count": 23,
      "outputs": [
        {
          "output_type": "execute_result",
          "data": {
            "text/plain": [
              "0.9885455662960273"
            ]
          },
          "metadata": {
            "tags": []
          },
          "execution_count": 23
        }
      ]
    },
    {
      "cell_type": "code",
      "metadata": {
        "id": "qLkdFZ0rdHCx",
        "outputId": "b939f59c-6b10-4ee9-bf89-beaee2233ec0",
        "colab": {
          "base_uri": "https://localhost:8080/",
          "height": 34
        }
      },
      "source": [
        "accuracy_score(y_test, y_pred_test)"
      ],
      "execution_count": 24,
      "outputs": [
        {
          "output_type": "execute_result",
          "data": {
            "text/plain": [
              "0.9881406361312493"
            ]
          },
          "metadata": {
            "tags": []
          },
          "execution_count": 24
        }
      ]
    },
    {
      "cell_type": "code",
      "metadata": {
        "id": "3P4_xkk8dHC1"
      },
      "source": [
        "from sklearn.metrics import classification_report"
      ],
      "execution_count": 25,
      "outputs": []
    },
    {
      "cell_type": "code",
      "metadata": {
        "id": "AaUPqrkKdHC5"
      },
      "source": [
        "target_names = ['DoSattack','dataProbing','malitiousControl', 'malitiousOperation','scan','spying', 'wrongSetUp', 'Normal']"
      ],
      "execution_count": 26,
      "outputs": []
    },
    {
      "cell_type": "code",
      "metadata": {
        "id": "Ms2DYYr7dHC8",
        "outputId": "d23bb59d-959c-4ad2-f009-0fd7c1bc6902",
        "colab": {
          "base_uri": "https://localhost:8080/",
          "height": 326
        }
      },
      "source": [
        "print(classification_report(y_train, y_pred_train, target_names=target_names))"
      ],
      "execution_count": 27,
      "outputs": [
        {
          "output_type": "stream",
          "text": [
            "/usr/local/lib/python3.6/dist-packages/sklearn/metrics/_classification.py:1272: UndefinedMetricWarning: Precision and F-score are ill-defined and being set to 0.0 in labels with no predicted samples. Use `zero_division` parameter to control this behavior.\n",
            "  _warn_prf(average, modifier, msg_start, len(result))\n"
          ],
          "name": "stderr"
        },
        {
          "output_type": "stream",
          "text": [
            "                    precision    recall  f1-score   support\n",
            "\n",
            "         DoSattack       0.96      0.65      0.78      4602\n",
            "       dataProbing       1.00      0.59      0.74       279\n",
            "  malitiousControl       0.98      0.96      0.97       720\n",
            "malitiousOperation       0.97      0.48      0.64       650\n",
            "              scan       0.90      0.47      0.62      1242\n",
            "            spying       0.00      0.00      0.00       412\n",
            "        wrongSetUp       0.90      1.00      0.95        94\n",
            "            Normal       0.99      1.00      0.99    278353\n",
            "\n",
            "          accuracy                           0.99    286352\n",
            "         macro avg       0.84      0.64      0.71    286352\n",
            "      weighted avg       0.99      0.99      0.99    286352\n",
            "\n"
          ],
          "name": "stdout"
        }
      ]
    },
    {
      "cell_type": "code",
      "metadata": {
        "id": "phfoepQwdHC-",
        "outputId": "ac6cc649-118d-4a91-bede-b6495b6e2d42",
        "colab": {
          "base_uri": "https://localhost:8080/",
          "height": 326
        }
      },
      "source": [
        "print(classification_report(y_test, y_pred_test, target_names=target_names))"
      ],
      "execution_count": 28,
      "outputs": [
        {
          "output_type": "stream",
          "text": [
            "                    precision    recall  f1-score   support\n",
            "\n",
            "         DoSattack       0.95      0.66      0.78      1178\n",
            "       dataProbing       1.00      0.57      0.73        63\n",
            "  malitiousControl       0.98      0.97      0.98       169\n",
            "malitiousOperation       0.99      0.50      0.67       155\n",
            "              scan       0.88      0.41      0.56       305\n",
            "            spying       0.00      0.00      0.00       120\n",
            "        wrongSetUp       0.93      1.00      0.97        28\n",
            "            Normal       0.99      1.00      0.99     69571\n",
            "\n",
            "          accuracy                           0.99     71589\n",
            "         macro avg       0.84      0.64      0.71     71589\n",
            "      weighted avg       0.99      0.99      0.99     71589\n",
            "\n"
          ],
          "name": "stdout"
        },
        {
          "output_type": "stream",
          "text": [
            "/usr/local/lib/python3.6/dist-packages/sklearn/metrics/_classification.py:1272: UndefinedMetricWarning: Precision and F-score are ill-defined and being set to 0.0 in labels with no predicted samples. Use `zero_division` parameter to control this behavior.\n",
            "  _warn_prf(average, modifier, msg_start, len(result))\n"
          ],
          "name": "stderr"
        }
      ]
    },
    {
      "cell_type": "code",
      "metadata": {
        "id": "aqCTPP0odHDB"
      },
      "source": [
        "from sklearn.metrics import confusion_matrix\n",
        "import itertools"
      ],
      "execution_count": 34,
      "outputs": []
    },
    {
      "cell_type": "code",
      "metadata": {
        "id": "88ck9Gq4dHDD"
      },
      "source": [
        "cnf_matrix = confusion_matrix(y_test, y_pred_test)"
      ],
      "execution_count": null,
      "outputs": []
    },
    {
      "cell_type": "code",
      "metadata": {
        "id": "A885O1zudHDF",
        "outputId": "537bad8e-3c13-46c8-a7be-3853ec0eb121"
      },
      "source": [
        "for i in cnf_matrix:\n",
        "    for j in i:\n",
        "        print(j, end='&')\n",
        "    print()"
      ],
      "execution_count": null,
      "outputs": [
        {
          "output_type": "stream",
          "text": [
            "775&0&0&0&0&0&0&403&\n",
            "0&0&0&0&0&0&0&63&\n",
            "0&0&10&0&0&0&0&159&\n",
            "0&0&0&78&0&0&0&77&\n",
            "5&0&2&0&0&0&0&298&\n",
            "0&0&0&0&0&0&0&120&\n",
            "0&0&0&0&0&0&0&28&\n",
            "34&0&0&9&0&0&0&69528&\n"
          ],
          "name": "stdout"
        }
      ]
    },
    {
      "cell_type": "markdown",
      "metadata": {
        "id": "56ZR3ZWHdHDI"
      },
      "source": [
        "# Evaluation Metrics Calculations for SVM"
      ]
    },
    {
      "cell_type": "code",
      "metadata": {
        "id": "B35ROnSvdHDJ",
        "outputId": "2e86f5f8-dc38-4820-f45b-00c66ff70691",
        "colab": {
          "base_uri": "https://localhost:8080/",
          "height": 51
        }
      },
      "source": [
        "pipe_svc = pipe_svc.fit(X_train, y_train)\n",
        "y_pred_train = pipe_svc.predict(X_train)\n",
        "y_pred_test = pipe_svc.predict(X_test)"
      ],
      "execution_count": 29,
      "outputs": [
        {
          "output_type": "stream",
          "text": [
            "/usr/local/lib/python3.6/dist-packages/sklearn/svm/_base.py:947: ConvergenceWarning: Liblinear failed to converge, increase the number of iterations.\n",
            "  \"the number of iterations.\", ConvergenceWarning)\n"
          ],
          "name": "stderr"
        }
      ]
    },
    {
      "cell_type": "code",
      "metadata": {
        "id": "Kf1yoe4cdHDK",
        "outputId": "4fcb8fa0-1e1b-4fa6-c2c8-9debc68bfe4b",
        "colab": {
          "base_uri": "https://localhost:8080/",
          "height": 34
        }
      },
      "source": [
        "accuracy_score(y_train, y_pred_train), accuracy_score(y_test, y_pred_test)"
      ],
      "execution_count": 30,
      "outputs": [
        {
          "output_type": "execute_result",
          "data": {
            "text/plain": [
              "(0.9826332625579706, 0.9827627149422398)"
            ]
          },
          "metadata": {
            "tags": []
          },
          "execution_count": 30
        }
      ]
    },
    {
      "cell_type": "code",
      "metadata": {
        "id": "Kw5nuuh3dHDN",
        "outputId": "872a8e89-df45-4303-c768-fff86fdca616",
        "colab": {
          "base_uri": "https://localhost:8080/",
          "height": 326
        }
      },
      "source": [
        "print(classification_report(y_train, y_pred_train, target_names=target_names))"
      ],
      "execution_count": 31,
      "outputs": [
        {
          "output_type": "stream",
          "text": [
            "/usr/local/lib/python3.6/dist-packages/sklearn/metrics/_classification.py:1272: UndefinedMetricWarning: Precision and F-score are ill-defined and being set to 0.0 in labels with no predicted samples. Use `zero_division` parameter to control this behavior.\n",
            "  _warn_prf(average, modifier, msg_start, len(result))\n"
          ],
          "name": "stderr"
        },
        {
          "output_type": "stream",
          "text": [
            "                    precision    recall  f1-score   support\n",
            "\n",
            "         DoSattack       0.97      0.65      0.78      4602\n",
            "       dataProbing       0.00      0.00      0.00       279\n",
            "  malitiousControl       0.78      0.04      0.07       720\n",
            "malitiousOperation       1.00      0.16      0.27       650\n",
            "              scan       0.00      0.00      0.00      1242\n",
            "            spying       0.00      0.00      0.00       412\n",
            "        wrongSetUp       0.00      0.00      0.00        94\n",
            "            Normal       0.98      1.00      0.99    278353\n",
            "\n",
            "          accuracy                           0.98    286352\n",
            "         macro avg       0.47      0.23      0.26    286352\n",
            "      weighted avg       0.98      0.98      0.98    286352\n",
            "\n"
          ],
          "name": "stdout"
        }
      ]
    },
    {
      "cell_type": "code",
      "metadata": {
        "id": "Cv1hZ2KidHDQ",
        "outputId": "b00cd559-0cde-4bef-9ca8-03ec9c0b980b",
        "colab": {
          "base_uri": "https://localhost:8080/",
          "height": 326
        }
      },
      "source": [
        "print(classification_report(y_test, y_pred_test, target_names=target_names))"
      ],
      "execution_count": 32,
      "outputs": [
        {
          "output_type": "stream",
          "text": [
            "                    precision    recall  f1-score   support\n",
            "\n",
            "         DoSattack       0.96      0.66      0.78      1178\n",
            "       dataProbing       0.00      0.00      0.00        63\n",
            "  malitiousControl       0.83      0.06      0.11       169\n",
            "malitiousOperation       1.00      0.21      0.35       155\n",
            "              scan       0.00      0.00      0.00       305\n",
            "            spying       0.00      0.00      0.00       120\n",
            "        wrongSetUp       0.00      0.00      0.00        28\n",
            "            Normal       0.98      1.00      0.99     69571\n",
            "\n",
            "          accuracy                           0.98     71589\n",
            "         macro avg       0.47      0.24      0.28     71589\n",
            "      weighted avg       0.98      0.98      0.98     71589\n",
            "\n"
          ],
          "name": "stdout"
        },
        {
          "output_type": "stream",
          "text": [
            "/usr/local/lib/python3.6/dist-packages/sklearn/metrics/_classification.py:1272: UndefinedMetricWarning: Precision and F-score are ill-defined and being set to 0.0 in labels with no predicted samples. Use `zero_division` parameter to control this behavior.\n",
            "  _warn_prf(average, modifier, msg_start, len(result))\n"
          ],
          "name": "stderr"
        }
      ]
    },
    {
      "cell_type": "code",
      "metadata": {
        "id": "Jdq-5bUJdHDR",
        "outputId": "54442acd-f3f1-45a9-d39e-a0b63b3f0c9a",
        "colab": {
          "base_uri": "https://localhost:8080/",
          "height": 153
        }
      },
      "source": [
        "cnf_matrix = confusion_matrix(y_test, y_pred_test)\n",
        "for i in cnf_matrix:\n",
        "    for j in i:\n",
        "        print(j, end='&')\n",
        "    print()"
      ],
      "execution_count": 35,
      "outputs": [
        {
          "output_type": "stream",
          "text": [
            "775&0&0&0&0&0&0&403&\n",
            "0&0&0&0&0&0&0&63&\n",
            "0&0&10&0&0&0&0&159&\n",
            "0&0&0&33&0&0&0&122&\n",
            "0&0&2&0&0&0&0&303&\n",
            "0&0&0&0&0&0&0&120&\n",
            "0&0&0&0&0&0&0&28&\n",
            "34&0&0&0&0&0&0&69537&\n"
          ],
          "name": "stdout"
        }
      ]
    },
    {
      "cell_type": "markdown",
      "metadata": {
        "id": "f3HpVLKYdHDW"
      },
      "source": [
        "# Evaluation Metrics Calculations for Decision Tree"
      ]
    },
    {
      "cell_type": "code",
      "metadata": {
        "id": "O_cg5EwTdHDW"
      },
      "source": [
        "pipe_tree = pipe_tree.fit(X_train, y_train)\n",
        "y_pred_train = pipe_tree.predict(X_train)\n",
        "y_pred_test = pipe_tree.predict(X_test)"
      ],
      "execution_count": 36,
      "outputs": []
    },
    {
      "cell_type": "code",
      "metadata": {
        "id": "NDRzoDxhdHDY",
        "outputId": "07aa04f6-3ce1-41d1-9929-d3dc61c6dd8d",
        "colab": {
          "base_uri": "https://localhost:8080/",
          "height": 34
        }
      },
      "source": [
        "accuracy_score(y_train, y_pred_train), accuracy_score(y_test, y_pred_test)"
      ],
      "execution_count": 37,
      "outputs": [
        {
          "output_type": "execute_result",
          "data": {
            "text/plain": [
              "(0.9942413532994356, 0.994091271005322)"
            ]
          },
          "metadata": {
            "tags": []
          },
          "execution_count": 37
        }
      ]
    },
    {
      "cell_type": "code",
      "metadata": {
        "id": "cgtuWxZedHDa",
        "outputId": "11576650-066c-4f07-ba34-9052ca52679f",
        "colab": {
          "base_uri": "https://localhost:8080/",
          "height": 272
        }
      },
      "source": [
        "print(classification_report(y_train, y_pred_train, target_names=target_names))"
      ],
      "execution_count": 38,
      "outputs": [
        {
          "output_type": "stream",
          "text": [
            "                    precision    recall  f1-score   support\n",
            "\n",
            "         DoSattack       0.98      0.65      0.78      4602\n",
            "       dataProbing       1.00      1.00      1.00       279\n",
            "  malitiousControl       1.00      1.00      1.00       720\n",
            "malitiousOperation       1.00      1.00      1.00       650\n",
            "              scan       1.00      1.00      1.00      1242\n",
            "            spying       1.00      1.00      1.00       412\n",
            "        wrongSetUp       1.00      1.00      1.00        94\n",
            "            Normal       0.99      1.00      1.00    278353\n",
            "\n",
            "          accuracy                           0.99    286352\n",
            "         macro avg       1.00      0.96      0.97    286352\n",
            "      weighted avg       0.99      0.99      0.99    286352\n",
            "\n"
          ],
          "name": "stdout"
        }
      ]
    },
    {
      "cell_type": "code",
      "metadata": {
        "id": "6kf-pij0dHDc",
        "outputId": "ee153e57-1621-4f84-a145-2665bb0f4dd9",
        "colab": {
          "base_uri": "https://localhost:8080/",
          "height": 272
        }
      },
      "source": [
        "print(classification_report(y_test, y_pred_test, target_names=target_names))"
      ],
      "execution_count": 39,
      "outputs": [
        {
          "output_type": "stream",
          "text": [
            "                    precision    recall  f1-score   support\n",
            "\n",
            "         DoSattack       0.98      0.66      0.79      1178\n",
            "       dataProbing       1.00      1.00      1.00        63\n",
            "  malitiousControl       1.00      1.00      1.00       169\n",
            "malitiousOperation       1.00      1.00      1.00       155\n",
            "              scan       1.00      1.00      1.00       305\n",
            "            spying       0.98      1.00      0.99       120\n",
            "        wrongSetUp       1.00      1.00      1.00        28\n",
            "            Normal       0.99      1.00      1.00     69571\n",
            "\n",
            "          accuracy                           0.99     71589\n",
            "         macro avg       0.99      0.96      0.97     71589\n",
            "      weighted avg       0.99      0.99      0.99     71589\n",
            "\n"
          ],
          "name": "stdout"
        }
      ]
    },
    {
      "cell_type": "code",
      "metadata": {
        "id": "jv9QNmlPdHDe",
        "outputId": "d8170c44-717b-4b50-c54c-9f7ea987e9b9",
        "colab": {
          "base_uri": "https://localhost:8080/",
          "height": 153
        }
      },
      "source": [
        "cnf_matrix = confusion_matrix(y_test, y_pred_test)\n",
        "for i in cnf_matrix:\n",
        "    for j in i:\n",
        "        print(j, end='&')\n",
        "    print()"
      ],
      "execution_count": 40,
      "outputs": [
        {
          "output_type": "stream",
          "text": [
            "775&0&0&0&0&0&0&403&\n",
            "0&63&0&0&0&0&0&0&\n",
            "0&0&169&0&0&0&0&0&\n",
            "0&0&0&155&0&0&0&0&\n",
            "0&0&0&0&305&0&0&0&\n",
            "0&0&0&0&0&120&0&0&\n",
            "0&0&0&0&0&0&28&0&\n",
            "18&0&0&0&0&2&0&69551&\n"
          ],
          "name": "stdout"
        }
      ]
    },
    {
      "cell_type": "markdown",
      "metadata": {
        "id": "JhJtgNxDdHDg"
      },
      "source": [
        "# Evaluation Metrics Calculations for Random Forest"
      ]
    },
    {
      "cell_type": "code",
      "metadata": {
        "id": "y9yem2PBdHDg"
      },
      "source": [
        "pipe_rnd = pipe_rnd.fit(X_train, y_train)\n",
        "y_pred_train = pipe_rnd.predict(X_train)\n",
        "y_pred_test = pipe_rnd.predict(X_test)"
      ],
      "execution_count": 58,
      "outputs": []
    },
    {
      "cell_type": "code",
      "metadata": {
        "id": "BoWa38ibdHDi"
      },
      "source": [
        "y_pred_train = pipe_rnd.predict(X_train)\n",
        "y_pred_test = pipe_rnd.predict(X_test)"
      ],
      "execution_count": 59,
      "outputs": []
    },
    {
      "cell_type": "code",
      "metadata": {
        "id": "ZS0tcE0idHDk",
        "outputId": "ba4a87d6-b28d-457f-d757-fd37f1c8e305",
        "colab": {
          "base_uri": "https://localhost:8080/",
          "height": 34
        }
      },
      "source": [
        "accuracy_score(y_train, y_pred_train), accuracy_score(y_test, y_pred_test)"
      ],
      "execution_count": 60,
      "outputs": [
        {
          "output_type": "execute_result",
          "data": {
            "text/plain": [
              "(0.9942413532994356, 0.994105239631787)"
            ]
          },
          "metadata": {
            "tags": []
          },
          "execution_count": 60
        }
      ]
    },
    {
      "cell_type": "code",
      "metadata": {
        "id": "R9IzshPWdHDm",
        "outputId": "3a7976e4-97de-4d61-8922-255e8183a70a",
        "colab": {
          "base_uri": "https://localhost:8080/",
          "height": 272
        }
      },
      "source": [
        "print(classification_report(y_train, y_pred_train, target_names=target_names))"
      ],
      "execution_count": 61,
      "outputs": [
        {
          "output_type": "stream",
          "text": [
            "                    precision    recall  f1-score   support\n",
            "\n",
            "         DoSattack       0.98      0.65      0.78      4602\n",
            "       dataProbing       1.00      1.00      1.00       279\n",
            "  malitiousControl       1.00      1.00      1.00       720\n",
            "malitiousOperation       1.00      1.00      1.00       650\n",
            "              scan       1.00      1.00      1.00      1242\n",
            "            spying       1.00      1.00      1.00       412\n",
            "        wrongSetUp       1.00      1.00      1.00        94\n",
            "            Normal       0.99      1.00      1.00    278353\n",
            "\n",
            "          accuracy                           0.99    286352\n",
            "         macro avg       1.00      0.96      0.97    286352\n",
            "      weighted avg       0.99      0.99      0.99    286352\n",
            "\n"
          ],
          "name": "stdout"
        }
      ]
    },
    {
      "cell_type": "code",
      "metadata": {
        "id": "IhGvvUqVdHDo",
        "outputId": "7380cfcd-662c-4262-8312-c3ed5c6f7067",
        "colab": {
          "base_uri": "https://localhost:8080/",
          "height": 272
        }
      },
      "source": [
        "print(classification_report(y_test, y_pred_test, target_names=target_names))\n"
      ],
      "execution_count": 62,
      "outputs": [
        {
          "output_type": "stream",
          "text": [
            "                    precision    recall  f1-score   support\n",
            "\n",
            "         DoSattack       0.98      0.66      0.79      1178\n",
            "       dataProbing       1.00      1.00      1.00        63\n",
            "  malitiousControl       1.00      1.00      1.00       169\n",
            "malitiousOperation       1.00      1.00      1.00       155\n",
            "              scan       1.00      1.00      1.00       305\n",
            "            spying       1.00      1.00      1.00       120\n",
            "        wrongSetUp       1.00      1.00      1.00        28\n",
            "            Normal       0.99      1.00      1.00     69571\n",
            "\n",
            "          accuracy                           0.99     71589\n",
            "         macro avg       1.00      0.96      0.97     71589\n",
            "      weighted avg       0.99      0.99      0.99     71589\n",
            "\n"
          ],
          "name": "stdout"
        }
      ]
    },
    {
      "cell_type": "code",
      "metadata": {
        "id": "57CHTtYCdHDq",
        "outputId": "786d94a2-b6d9-440a-e12e-7a0b07c03b37",
        "colab": {
          "base_uri": "https://localhost:8080/",
          "height": 153
        }
      },
      "source": [
        "cnf_matrix = confusion_matrix(y_test, y_pred_test)\n",
        "for i in cnf_matrix:\n",
        "    for j in i:\n",
        "        print(j, end='&')\n",
        "    print()"
      ],
      "execution_count": 46,
      "outputs": [
        {
          "output_type": "stream",
          "text": [
            "775&0&0&0&0&0&0&403&\n",
            "0&63&0&0&0&0&0&0&\n",
            "0&0&169&0&0&0&0&0&\n",
            "0&0&0&155&0&0&0&0&\n",
            "0&0&0&0&305&0&0&0&\n",
            "0&0&0&0&0&120&0&0&\n",
            "0&0&0&0&0&0&28&0&\n",
            "18&0&0&0&0&0&0&69553&\n"
          ],
          "name": "stdout"
        }
      ]
    },
    {
      "cell_type": "markdown",
      "metadata": {
        "id": "WfuIUs_mdHDs"
      },
      "source": [
        "# Evaluation Metrics Calculations for ANN"
      ]
    },
    {
      "cell_type": "code",
      "metadata": {
        "id": "zGA0yL_0dHDs",
        "outputId": "f80a2708-9a18-4d2e-b46e-09c5b6796b64",
        "colab": {
          "base_uri": "https://localhost:8080/",
          "height": 241
        }
      },
      "source": [
        "pipe_mlp = pipe_mlp.fit(X_train, y_train)\n",
        "y_pred_train = pipe_mlp.predict(X_train)\n",
        "y_pred_test = pipe_mlp.predict(X_test)"
      ],
      "execution_count": 47,
      "outputs": [
        {
          "output_type": "stream",
          "text": [
            "Iteration 1, loss = 0.05584959\n",
            "Iteration 2, loss = 0.02541104\n",
            "Iteration 3, loss = 0.01882284\n",
            "Iteration 4, loss = 0.01670067\n",
            "Iteration 5, loss = 0.01501241\n",
            "Iteration 6, loss = 0.01462482\n",
            "Iteration 7, loss = 0.01410045\n",
            "Iteration 8, loss = 0.01378341\n",
            "Iteration 9, loss = 0.01346050\n",
            "Iteration 10, loss = 0.01328968\n"
          ],
          "name": "stdout"
        },
        {
          "output_type": "stream",
          "text": [
            "/usr/local/lib/python3.6/dist-packages/sklearn/neural_network/_multilayer_perceptron.py:571: ConvergenceWarning: Stochastic Optimizer: Maximum iterations (10) reached and the optimization hasn't converged yet.\n",
            "  % self.max_iter, ConvergenceWarning)\n"
          ],
          "name": "stderr"
        }
      ]
    },
    {
      "cell_type": "code",
      "metadata": {
        "id": "uZOzOnaWdHDv",
        "outputId": "b06c0356-725e-4d84-8e27-861658da6ea3",
        "colab": {
          "base_uri": "https://localhost:8080/",
          "height": 34
        }
      },
      "source": [
        "accuracy_score(y_train, y_pred_train), accuracy_score(y_test, y_pred_test)"
      ],
      "execution_count": 48,
      "outputs": [
        {
          "output_type": "execute_result",
          "data": {
            "text/plain": [
              "(0.9942273844778454, 0.994077302378857)"
            ]
          },
          "metadata": {
            "tags": []
          },
          "execution_count": 48
        }
      ]
    },
    {
      "cell_type": "code",
      "metadata": {
        "id": "zGPydvhHdHDx",
        "outputId": "74d8c8f4-c3ab-4753-d95e-dbc8bd5c3776",
        "colab": {
          "base_uri": "https://localhost:8080/",
          "height": 272
        }
      },
      "source": [
        "print(classification_report(y_train, y_pred_train, target_names=target_names))"
      ],
      "execution_count": 49,
      "outputs": [
        {
          "output_type": "stream",
          "text": [
            "                    precision    recall  f1-score   support\n",
            "\n",
            "         DoSattack       0.98      0.65      0.78      4602\n",
            "       dataProbing       1.00      1.00      1.00       279\n",
            "  malitiousControl       1.00      1.00      1.00       720\n",
            "malitiousOperation       1.00      1.00      1.00       650\n",
            "              scan       1.00      1.00      1.00      1242\n",
            "            spying       1.00      1.00      1.00       412\n",
            "        wrongSetUp       1.00      1.00      1.00        94\n",
            "            Normal       0.99      1.00      1.00    278353\n",
            "\n",
            "          accuracy                           0.99    286352\n",
            "         macro avg       1.00      0.96      0.97    286352\n",
            "      weighted avg       0.99      0.99      0.99    286352\n",
            "\n"
          ],
          "name": "stdout"
        }
      ]
    },
    {
      "cell_type": "code",
      "metadata": {
        "id": "KwMtkMMRdHDy"
      },
      "source": [
        ""
      ],
      "execution_count": 50,
      "outputs": []
    },
    {
      "cell_type": "code",
      "metadata": {
        "id": "oQQ0cqBkdHD0",
        "outputId": "eeaa49d8-a658-4a0a-d173-8bf78b26bcc0",
        "colab": {
          "base_uri": "https://localhost:8080/",
          "height": 272
        }
      },
      "source": [
        "print(classification_report(y_test, y_pred_test, target_names=target_names))"
      ],
      "execution_count": 51,
      "outputs": [
        {
          "output_type": "stream",
          "text": [
            "                    precision    recall  f1-score   support\n",
            "\n",
            "         DoSattack       0.98      0.66      0.79      1178\n",
            "       dataProbing       1.00      1.00      1.00        63\n",
            "  malitiousControl       0.99      1.00      1.00       169\n",
            "malitiousOperation       1.00      1.00      1.00       155\n",
            "              scan       1.00      1.00      1.00       305\n",
            "            spying       0.98      1.00      0.99       120\n",
            "        wrongSetUp       1.00      1.00      1.00        28\n",
            "            Normal       0.99      1.00      1.00     69571\n",
            "\n",
            "          accuracy                           0.99     71589\n",
            "         macro avg       0.99      0.96      0.97     71589\n",
            "      weighted avg       0.99      0.99      0.99     71589\n",
            "\n"
          ],
          "name": "stdout"
        }
      ]
    },
    {
      "cell_type": "code",
      "metadata": {
        "id": "xRHAyHyBdHD1"
      },
      "source": [
        "from sklearn.metrics import confusion_matrix\n",
        "import itertools"
      ],
      "execution_count": 55,
      "outputs": []
    },
    {
      "cell_type": "code",
      "metadata": {
        "id": "ej3aL2JOdHD3"
      },
      "source": [
        "cnf_matrix = confusion_matrix(y_test, y_pred_test)"
      ],
      "execution_count": 54,
      "outputs": []
    },
    {
      "cell_type": "code",
      "metadata": {
        "id": "gMbydjRmdHD6",
        "outputId": "ef7dc2d2-4acb-426e-f25f-8dffc0b4e884",
        "colab": {
          "base_uri": "https://localhost:8080/",
          "height": 153
        }
      },
      "source": [
        "cnf_matrix"
      ],
      "execution_count": 53,
      "outputs": [
        {
          "output_type": "execute_result",
          "data": {
            "text/plain": [
              "array([[  775,     0,     0,     0,     0,     0,     0,   403],\n",
              "       [    0,    63,     0,     0,     0,     0,     0,     0],\n",
              "       [    0,     0,   169,     0,     0,     0,     0,     0],\n",
              "       [    0,     0,     0,   155,     0,     0,     0,     0],\n",
              "       [    0,     0,     0,     0,   305,     0,     0,     0],\n",
              "       [    0,     0,     0,     0,     0,   120,     0,     0],\n",
              "       [    0,     0,     0,     0,     0,     0,    28,     0],\n",
              "       [   18,     0,     0,     0,     0,     0,     0, 69553]])"
            ]
          },
          "metadata": {
            "tags": []
          },
          "execution_count": 53
        }
      ]
    },
    {
      "cell_type": "code",
      "metadata": {
        "id": "OB_OPOwsdHD8",
        "outputId": "ebeae2a9-dfb6-45b8-cea9-143d17d2e40b",
        "colab": {
          "base_uri": "https://localhost:8080/",
          "height": 153
        }
      },
      "source": [
        "for i in cnf_matrix:\n",
        "    for j in i:\n",
        "        print(j, end=' ')\n",
        "    print()"
      ],
      "execution_count": 52,
      "outputs": [
        {
          "output_type": "stream",
          "text": [
            "775 0 0 0 0 0 0 403 \n",
            "0 63 0 0 0 0 0 0 \n",
            "0 0 169 0 0 0 0 0 \n",
            "0 0 0 155 0 0 0 0 \n",
            "0 0 0 0 305 0 0 0 \n",
            "0 0 0 0 0 120 0 0 \n",
            "0 0 0 0 0 0 28 0 \n",
            "18 0 0 0 0 0 0 69553 \n"
          ],
          "name": "stdout"
        }
      ]
    },
    {
      "cell_type": "code",
      "metadata": {
        "id": "oiJ8_75JdHD_"
      },
      "source": [
        ""
      ],
      "execution_count": null,
      "outputs": []
    }
  ]
}