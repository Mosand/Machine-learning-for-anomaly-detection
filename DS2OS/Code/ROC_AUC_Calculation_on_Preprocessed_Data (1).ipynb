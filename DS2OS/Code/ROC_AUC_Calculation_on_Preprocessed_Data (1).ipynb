{
  "nbformat": 4,
  "nbformat_minor": 0,
  "metadata": {
    "kernelspec": {
      "display_name": "Python 3",
      "language": "python",
      "name": "python3"
    },
    "language_info": {
      "codemirror_mode": {
        "name": "ipython",
        "version": 3
      },
      "file_extension": ".py",
      "mimetype": "text/x-python",
      "name": "python",
      "nbconvert_exporter": "python",
      "pygments_lexer": "ipython3",
      "version": "3.6.8"
    },
    "colab": {
      "name": "ROC_AUC_Calculation_on_Preprocessed_Data.ipynb",
      "provenance": [],
      "toc_visible": true
    }
  },
  "cells": [
    {
      "cell_type": "markdown",
      "metadata": {
        "id": "o-U25FCGnD8q",
        "colab_type": "text"
      },
      "source": [
        "# The steps are similar to \"Result Analysis on Preprocessed Data (Accuracy, Precision, Recall, F1, Confusion Matrix).ipynb\""
      ]
    },
    {
      "cell_type": "code",
      "metadata": {
        "id": "2TS7MKCfnD8t",
        "colab_type": "code",
        "colab": {}
      },
      "source": [
        "import pandas as pd"
      ],
      "execution_count": 3,
      "outputs": []
    },
    {
      "cell_type": "code",
      "metadata": {
        "id": "xtQMuZDWcC4a",
        "colab_type": "code",
        "colab": {
          "base_uri": "https://localhost:8080/",
          "height": 34
        },
        "outputId": "2b66f19f-244b-455b-810d-6cc1e9f0d43f"
      },
      "source": [
        "from google.colab import drive\n",
        "drive.mount('/content/drive')"
      ],
      "execution_count": 1,
      "outputs": [
        {
          "output_type": "stream",
          "text": [
            "Mounted at /content/drive\n"
          ],
          "name": "stdout"
        }
      ]
    },
    {
      "cell_type": "code",
      "metadata": {
        "id": "FFjFqjEwnD8y",
        "colab_type": "code",
        "colab": {}
      },
      "source": [
        "Path = '/content/drive/My Drive/Data/DF_Spark.csv'\n",
        "df_spark = pd.read_csv(Path)"
      ],
      "execution_count": 4,
      "outputs": []
    },
    {
      "cell_type": "code",
      "metadata": {
        "id": "NxAdC88InD82",
        "colab_type": "code",
        "colab": {
          "base_uri": "https://localhost:8080/",
          "height": 204
        },
        "outputId": "8a41aa15-5c04-4198-9933-615e1f905683"
      },
      "source": [
        "df_spark.head()"
      ],
      "execution_count": 5,
      "outputs": [
        {
          "output_type": "execute_result",
          "data": {
            "text/html": [
              "<div>\n",
              "<style scoped>\n",
              "    .dataframe tbody tr th:only-of-type {\n",
              "        vertical-align: middle;\n",
              "    }\n",
              "\n",
              "    .dataframe tbody tr th {\n",
              "        vertical-align: top;\n",
              "    }\n",
              "\n",
              "    .dataframe thead th {\n",
              "        text-align: right;\n",
              "    }\n",
              "</style>\n",
              "<table border=\"1\" class=\"dataframe\">\n",
              "  <thead>\n",
              "    <tr style=\"text-align: right;\">\n",
              "      <th></th>\n",
              "      <th>Unnamed: 0</th>\n",
              "      <th>0</th>\n",
              "      <th>1</th>\n",
              "      <th>2</th>\n",
              "      <th>3</th>\n",
              "      <th>4</th>\n",
              "      <th>5</th>\n",
              "      <th>6</th>\n",
              "      <th>7</th>\n",
              "      <th>8</th>\n",
              "      <th>9</th>\n",
              "      <th>10</th>\n",
              "      <th>11</th>\n",
              "    </tr>\n",
              "  </thead>\n",
              "  <tbody>\n",
              "    <tr>\n",
              "      <th>0</th>\n",
              "      <td>0</td>\n",
              "      <td>7.0</td>\n",
              "      <td>21.0</td>\n",
              "      <td>30.0</td>\n",
              "      <td>2.0</td>\n",
              "      <td>3.0</td>\n",
              "      <td>30.0</td>\n",
              "      <td>2.0</td>\n",
              "      <td>3.0</td>\n",
              "      <td>59.0</td>\n",
              "      <td>7.0</td>\n",
              "      <td>2.0</td>\n",
              "      <td>0.0</td>\n",
              "    </tr>\n",
              "    <tr>\n",
              "      <th>1</th>\n",
              "      <td>1</td>\n",
              "      <td>7.0</td>\n",
              "      <td>32.0</td>\n",
              "      <td>70.0</td>\n",
              "      <td>2.0</td>\n",
              "      <td>4.0</td>\n",
              "      <td>68.0</td>\n",
              "      <td>2.0</td>\n",
              "      <td>4.0</td>\n",
              "      <td>134.0</td>\n",
              "      <td>7.0</td>\n",
              "      <td>2.0</td>\n",
              "      <td>0.0</td>\n",
              "    </tr>\n",
              "    <tr>\n",
              "      <th>2</th>\n",
              "      <td>2</td>\n",
              "      <td>7.0</td>\n",
              "      <td>15.0</td>\n",
              "      <td>1.0</td>\n",
              "      <td>2.0</td>\n",
              "      <td>2.0</td>\n",
              "      <td>0.0</td>\n",
              "      <td>2.0</td>\n",
              "      <td>2.0</td>\n",
              "      <td>0.0</td>\n",
              "      <td>7.0</td>\n",
              "      <td>2.0</td>\n",
              "      <td>0.0</td>\n",
              "    </tr>\n",
              "    <tr>\n",
              "      <th>3</th>\n",
              "      <td>3</td>\n",
              "      <td>7.0</td>\n",
              "      <td>33.0</td>\n",
              "      <td>77.0</td>\n",
              "      <td>2.0</td>\n",
              "      <td>7.0</td>\n",
              "      <td>73.0</td>\n",
              "      <td>2.0</td>\n",
              "      <td>7.0</td>\n",
              "      <td>144.0</td>\n",
              "      <td>7.0</td>\n",
              "      <td>2.0</td>\n",
              "      <td>0.0</td>\n",
              "    </tr>\n",
              "    <tr>\n",
              "      <th>4</th>\n",
              "      <td>4</td>\n",
              "      <td>7.0</td>\n",
              "      <td>55.0</td>\n",
              "      <td>78.0</td>\n",
              "      <td>3.0</td>\n",
              "      <td>7.0</td>\n",
              "      <td>74.0</td>\n",
              "      <td>3.0</td>\n",
              "      <td>7.0</td>\n",
              "      <td>146.0</td>\n",
              "      <td>8.0</td>\n",
              "      <td>2.0</td>\n",
              "      <td>0.0</td>\n",
              "    </tr>\n",
              "  </tbody>\n",
              "</table>\n",
              "</div>"
            ],
            "text/plain": [
              "   Unnamed: 0    0     1     2    3    4     5    6    7      8    9   10   11\n",
              "0           0  7.0  21.0  30.0  2.0  3.0  30.0  2.0  3.0   59.0  7.0  2.0  0.0\n",
              "1           1  7.0  32.0  70.0  2.0  4.0  68.0  2.0  4.0  134.0  7.0  2.0  0.0\n",
              "2           2  7.0  15.0   1.0  2.0  2.0   0.0  2.0  2.0    0.0  7.0  2.0  0.0\n",
              "3           3  7.0  33.0  77.0  2.0  7.0  73.0  2.0  7.0  144.0  7.0  2.0  0.0\n",
              "4           4  7.0  55.0  78.0  3.0  7.0  74.0  3.0  7.0  146.0  8.0  2.0  0.0"
            ]
          },
          "metadata": {
            "tags": []
          },
          "execution_count": 5
        }
      ]
    },
    {
      "cell_type": "code",
      "metadata": {
        "id": "UYTQp7TtnD86",
        "colab_type": "code",
        "colab": {}
      },
      "source": [
        "df_spark = df_spark.drop(columns=\"Unnamed: 0\")"
      ],
      "execution_count": 6,
      "outputs": []
    },
    {
      "cell_type": "code",
      "metadata": {
        "id": "sTaias7onD8_",
        "colab_type": "code",
        "colab": {
          "base_uri": "https://localhost:8080/",
          "height": 204
        },
        "outputId": "1d5015f2-ba82-44eb-a018-2edc116d8abe"
      },
      "source": [
        "df_spark.head()"
      ],
      "execution_count": 7,
      "outputs": [
        {
          "output_type": "execute_result",
          "data": {
            "text/html": [
              "<div>\n",
              "<style scoped>\n",
              "    .dataframe tbody tr th:only-of-type {\n",
              "        vertical-align: middle;\n",
              "    }\n",
              "\n",
              "    .dataframe tbody tr th {\n",
              "        vertical-align: top;\n",
              "    }\n",
              "\n",
              "    .dataframe thead th {\n",
              "        text-align: right;\n",
              "    }\n",
              "</style>\n",
              "<table border=\"1\" class=\"dataframe\">\n",
              "  <thead>\n",
              "    <tr style=\"text-align: right;\">\n",
              "      <th></th>\n",
              "      <th>0</th>\n",
              "      <th>1</th>\n",
              "      <th>2</th>\n",
              "      <th>3</th>\n",
              "      <th>4</th>\n",
              "      <th>5</th>\n",
              "      <th>6</th>\n",
              "      <th>7</th>\n",
              "      <th>8</th>\n",
              "      <th>9</th>\n",
              "      <th>10</th>\n",
              "      <th>11</th>\n",
              "    </tr>\n",
              "  </thead>\n",
              "  <tbody>\n",
              "    <tr>\n",
              "      <th>0</th>\n",
              "      <td>7.0</td>\n",
              "      <td>21.0</td>\n",
              "      <td>30.0</td>\n",
              "      <td>2.0</td>\n",
              "      <td>3.0</td>\n",
              "      <td>30.0</td>\n",
              "      <td>2.0</td>\n",
              "      <td>3.0</td>\n",
              "      <td>59.0</td>\n",
              "      <td>7.0</td>\n",
              "      <td>2.0</td>\n",
              "      <td>0.0</td>\n",
              "    </tr>\n",
              "    <tr>\n",
              "      <th>1</th>\n",
              "      <td>7.0</td>\n",
              "      <td>32.0</td>\n",
              "      <td>70.0</td>\n",
              "      <td>2.0</td>\n",
              "      <td>4.0</td>\n",
              "      <td>68.0</td>\n",
              "      <td>2.0</td>\n",
              "      <td>4.0</td>\n",
              "      <td>134.0</td>\n",
              "      <td>7.0</td>\n",
              "      <td>2.0</td>\n",
              "      <td>0.0</td>\n",
              "    </tr>\n",
              "    <tr>\n",
              "      <th>2</th>\n",
              "      <td>7.0</td>\n",
              "      <td>15.0</td>\n",
              "      <td>1.0</td>\n",
              "      <td>2.0</td>\n",
              "      <td>2.0</td>\n",
              "      <td>0.0</td>\n",
              "      <td>2.0</td>\n",
              "      <td>2.0</td>\n",
              "      <td>0.0</td>\n",
              "      <td>7.0</td>\n",
              "      <td>2.0</td>\n",
              "      <td>0.0</td>\n",
              "    </tr>\n",
              "    <tr>\n",
              "      <th>3</th>\n",
              "      <td>7.0</td>\n",
              "      <td>33.0</td>\n",
              "      <td>77.0</td>\n",
              "      <td>2.0</td>\n",
              "      <td>7.0</td>\n",
              "      <td>73.0</td>\n",
              "      <td>2.0</td>\n",
              "      <td>7.0</td>\n",
              "      <td>144.0</td>\n",
              "      <td>7.0</td>\n",
              "      <td>2.0</td>\n",
              "      <td>0.0</td>\n",
              "    </tr>\n",
              "    <tr>\n",
              "      <th>4</th>\n",
              "      <td>7.0</td>\n",
              "      <td>55.0</td>\n",
              "      <td>78.0</td>\n",
              "      <td>3.0</td>\n",
              "      <td>7.0</td>\n",
              "      <td>74.0</td>\n",
              "      <td>3.0</td>\n",
              "      <td>7.0</td>\n",
              "      <td>146.0</td>\n",
              "      <td>8.0</td>\n",
              "      <td>2.0</td>\n",
              "      <td>0.0</td>\n",
              "    </tr>\n",
              "  </tbody>\n",
              "</table>\n",
              "</div>"
            ],
            "text/plain": [
              "     0     1     2    3    4     5    6    7      8    9   10   11\n",
              "0  7.0  21.0  30.0  2.0  3.0  30.0  2.0  3.0   59.0  7.0  2.0  0.0\n",
              "1  7.0  32.0  70.0  2.0  4.0  68.0  2.0  4.0  134.0  7.0  2.0  0.0\n",
              "2  7.0  15.0   1.0  2.0  2.0   0.0  2.0  2.0    0.0  7.0  2.0  0.0\n",
              "3  7.0  33.0  77.0  2.0  7.0  73.0  2.0  7.0  144.0  7.0  2.0  0.0\n",
              "4  7.0  55.0  78.0  3.0  7.0  74.0  3.0  7.0  146.0  8.0  2.0  0.0"
            ]
          },
          "metadata": {
            "tags": []
          },
          "execution_count": 7
        }
      ]
    },
    {
      "cell_type": "code",
      "metadata": {
        "id": "4JfZuO_WnD9E",
        "colab_type": "code",
        "colab": {}
      },
      "source": [
        "y = df_spark.iloc[:,0].values\n",
        "X = df_spark.iloc[:,1:].values"
      ],
      "execution_count": 8,
      "outputs": []
    },
    {
      "cell_type": "code",
      "metadata": {
        "id": "jDpPHxGEnD9H",
        "colab_type": "code",
        "colab": {}
      },
      "source": [
        "from sklearn.preprocessing import label_binarize"
      ],
      "execution_count": 9,
      "outputs": []
    },
    {
      "cell_type": "code",
      "metadata": {
        "id": "Hz62L46ZnD9O",
        "colab_type": "code",
        "colab": {}
      },
      "source": [
        "y = label_binarize(y, classes=[0, 1, 2, 3, 4, 5, 6, 7])"
      ],
      "execution_count": 10,
      "outputs": []
    },
    {
      "cell_type": "code",
      "metadata": {
        "id": "h2spPBuenD9S",
        "colab_type": "code",
        "colab": {}
      },
      "source": [
        "n_classes = y.shape[1]"
      ],
      "execution_count": 11,
      "outputs": []
    },
    {
      "cell_type": "code",
      "metadata": {
        "id": "txNXNMNLnD9V",
        "colab_type": "code",
        "colab": {
          "base_uri": "https://localhost:8080/",
          "height": 34
        },
        "outputId": "b66261e9-8cf3-4175-9281-748fca58f5e0"
      },
      "source": [
        "n_classes"
      ],
      "execution_count": 12,
      "outputs": [
        {
          "output_type": "execute_result",
          "data": {
            "text/plain": [
              "8"
            ]
          },
          "metadata": {
            "tags": []
          },
          "execution_count": 12
        }
      ]
    },
    {
      "cell_type": "code",
      "metadata": {
        "id": "IKOOaNMRnD9Y",
        "colab_type": "code",
        "colab": {}
      },
      "source": [
        "from sklearn.model_selection import train_test_split\n",
        "X_train, X_test, y_train, y_test = train_test_split(X,y, test_size=0.20, random_state = 1)"
      ],
      "execution_count": 13,
      "outputs": []
    },
    {
      "cell_type": "code",
      "metadata": {
        "id": "f916SGaInD9b",
        "colab_type": "code",
        "colab": {}
      },
      "source": [
        "from sklearn.preprocessing import StandardScaler\n",
        "from sklearn.pipeline import Pipeline\n",
        "from sklearn.linear_model import LogisticRegression\n",
        "from sklearn.model_selection import cross_val_score\n",
        "import matplotlib.pyplot as plt\n",
        "from sklearn.model_selection import learning_curve\n",
        "import numpy as np\n",
        "from sklearn.multiclass import OneVsRestClassifier\n",
        "from sklearn.metrics import roc_curve, auc\n",
        "from scipy import interp\n",
        "from itertools import cycle"
      ],
      "execution_count": 14,
      "outputs": []
    },
    {
      "cell_type": "code",
      "metadata": {
        "id": "XXRKbUo9nD9e",
        "colab_type": "code",
        "colab": {}
      },
      "source": [
        "pipe_lr = Pipeline([('scl', StandardScaler()),('clf', OneVsRestClassifier(LogisticRegression(penalty='l2', random_state=0)))])"
      ],
      "execution_count": 15,
      "outputs": []
    },
    {
      "cell_type": "code",
      "metadata": {
        "id": "w0oF3euanD9h",
        "colab_type": "code",
        "colab": {}
      },
      "source": [
        "from sklearn.svm import LinearSVC"
      ],
      "execution_count": 16,
      "outputs": []
    },
    {
      "cell_type": "code",
      "metadata": {
        "id": "fDUCbLSQnD9l",
        "colab_type": "code",
        "colab": {}
      },
      "source": [
        "pipe_svc = Pipeline([('scl', StandardScaler()),('clf', OneVsRestClassifier(LinearSVC()))])"
      ],
      "execution_count": 17,
      "outputs": []
    },
    {
      "cell_type": "code",
      "metadata": {
        "id": "KqChuuxKnD9p",
        "colab_type": "code",
        "colab": {}
      },
      "source": [
        "from sklearn import tree"
      ],
      "execution_count": 18,
      "outputs": []
    },
    {
      "cell_type": "code",
      "metadata": {
        "id": "NyGxcWglnD9r",
        "colab_type": "code",
        "colab": {}
      },
      "source": [
        "pipe_tree = Pipeline([('scl', StandardScaler()),('clf', OneVsRestClassifier(tree.DecisionTreeClassifier()))])"
      ],
      "execution_count": 19,
      "outputs": []
    },
    {
      "cell_type": "code",
      "metadata": {
        "id": "vfWhz2iTnD9u",
        "colab_type": "code",
        "colab": {}
      },
      "source": [
        "from sklearn.ensemble import RandomForestClassifier"
      ],
      "execution_count": 20,
      "outputs": []
    },
    {
      "cell_type": "code",
      "metadata": {
        "id": "CkYibPnpnD9w",
        "colab_type": "code",
        "colab": {}
      },
      "source": [
        "pipe_rnd = Pipeline([('scl', StandardScaler()),('clf', OneVsRestClassifier(RandomForestClassifier(warm_start=True,n_estimators=10)))])"
      ],
      "execution_count": 21,
      "outputs": []
    },
    {
      "cell_type": "code",
      "metadata": {
        "id": "QXGGXogynD9z",
        "colab_type": "code",
        "colab": {}
      },
      "source": [
        "from sklearn.neural_network import MLPClassifier\n",
        "mlp = MLPClassifier(hidden_layer_sizes=(50,), alpha=1e-4, solver='sgd', verbose=10, tol=1e-4, random_state=1, learning_rate_init=.1)"
      ],
      "execution_count": 22,
      "outputs": []
    },
    {
      "cell_type": "code",
      "metadata": {
        "id": "st2sRfswnD91",
        "colab_type": "code",
        "colab": {}
      },
      "source": [
        "pipe_mlp = Pipeline([('scl', StandardScaler()),('clf', OneVsRestClassifier(mlp))])"
      ],
      "execution_count": 23,
      "outputs": []
    },
    {
      "cell_type": "markdown",
      "metadata": {
        "id": "0ynydqi2nD94",
        "colab_type": "text"
      },
      "source": [
        "# Logistic Regression"
      ]
    },
    {
      "cell_type": "code",
      "metadata": {
        "id": "c0PJaLZWnD94",
        "colab_type": "code",
        "colab": {}
      },
      "source": [
        "pipe_lr = pipe_lr.fit(X_train, y_train)"
      ],
      "execution_count": null,
      "outputs": []
    },
    {
      "cell_type": "code",
      "metadata": {
        "id": "2A_6zlyenD96",
        "colab_type": "code",
        "colab": {}
      },
      "source": [
        "y_score_lr = pipe_lr.decision_function(X_test)"
      ],
      "execution_count": 25,
      "outputs": []
    },
    {
      "cell_type": "code",
      "metadata": {
        "id": "ukUs2AJGnD98",
        "colab_type": "code",
        "colab": {
          "base_uri": "https://localhost:8080/",
          "height": 238
        },
        "outputId": "ff7fb80d-1a0e-483e-a378-85c6fee78460"
      },
      "source": [
        "y_score_lr"
      ],
      "execution_count": 26,
      "outputs": [
        {
          "output_type": "execute_result",
          "data": {
            "text/plain": [
              "array([[-40.64820981, -15.20018535, -26.3696608 , ...,  -5.41419795,\n",
              "        -24.64889957,   6.61528567],\n",
              "       [ -5.11630062, -20.44905642, -22.39620019, ...,  -7.89225252,\n",
              "         -8.48823566,   4.03245409],\n",
              "       [ -8.17676249, -13.71499458, -10.95258143, ...,  -6.47704396,\n",
              "         -9.68082168,   6.51574589],\n",
              "       ...,\n",
              "       [-36.96374777, -13.29301778, -14.27828033, ...,  -7.56575431,\n",
              "        -21.6027136 ,   4.14261761],\n",
              "       [-58.92085481, -11.02865516,  -7.980167  , ..., -13.12090979,\n",
              "        -20.00156062,   5.49315955],\n",
              "       [-27.20946161, -12.16001476, -19.77124181, ...,  -6.6129637 ,\n",
              "        -18.61837558,   3.93255002]])"
            ]
          },
          "metadata": {
            "tags": []
          },
          "execution_count": 26
        }
      ]
    },
    {
      "cell_type": "code",
      "metadata": {
        "id": "LGkMqBmHnD-A",
        "colab_type": "code",
        "colab": {}
      },
      "source": [
        "fpr_lr = dict()\n",
        "tpr_lr = dict()\n",
        "roc_auc_lr = dict()\n",
        "for i in range(n_classes):\n",
        "    fpr_lr[i], tpr_lr[i], _ = roc_curve(y_test[:, i], y_score_lr[:, i])\n",
        "    roc_auc_lr[i] = auc(fpr_lr[i], tpr_lr[i])"
      ],
      "execution_count": 27,
      "outputs": []
    },
    {
      "cell_type": "code",
      "metadata": {
        "id": "U86z1GwanD-E",
        "colab_type": "code",
        "colab": {
          "base_uri": "https://localhost:8080/",
          "height": 395
        },
        "outputId": "63f2e7c7-62ee-4e81-84d8-2239fd616b30"
      },
      "source": [
        "lw = 2\n",
        "classes = [\"DoS\",\"D.P\",\"M.C\",\"M.O\",\"SC\",\"SP\",\"W.S\",\"NL\"]\n",
        "plt.figure(figsize=(7,6))\n",
        "ax=plt.subplot(111)\n",
        "colors = cycle(['red','maroon','navy','aqua', 'darkorange', 'cornflowerblue','olive','darkslategray'])\n",
        "for i, color in zip(range(n_classes), colors):\n",
        "    plt.plot(fpr_lr[i], tpr_lr[i], color=color, lw=lw,\n",
        "             label='{0} (area = {1:0.2f})'\n",
        "             ''.format(classes[i], roc_auc_lr[i]))\n",
        "\n",
        "plt.plot([0, 1], [0, 1], 'k--', lw=lw)\n",
        "plt.xlim([0.0, 1.0])\n",
        "plt.ylim([0.0, 1.0])\n",
        "plt.xticks(fontsize=11,weight='bold')\n",
        "plt.yticks(fontsize=11,weight='bold')\n",
        "plt.setp(ax.spines.values(), linewidth=2)\n",
        "ax.xaxis.set_tick_params(width=2)\n",
        "ax.yaxis.set_tick_params(width=2)\n",
        "plt.xlabel('False Positive Rate',fontsize=12,weight='bold')\n",
        "plt.ylabel('True Positive Rate',fontsize=12,weight='bold')\n",
        "plt.legend(loc=\"lower right\")\n",
        "plt.savefig(\"ROC_of_Logistic_Regression\")"
      ],
      "execution_count": 28,
      "outputs": [
        {
          "output_type": "display_data",
          "data": {
            "image/png": "[encoded data removed]",
            "text/plain": [
              "<Figure size 504x432 with 1 Axes>"
            ]
          },
          "metadata": {
            "tags": [],
            "needs_background": "light"
          }
        }
      ]
    },
    {
      "cell_type": "markdown",
      "metadata": {
        "id": "WTfPMYkRnD-H",
        "colab_type": "text"
      },
      "source": [
        "# SVM"
      ]
    },
    {
      "cell_type": "code",
      "metadata": {
        "id": "4wsh6nQDnD-H",
        "colab_type": "code",
        "colab": {}
      },
      "source": [
        "pipe_svc = pipe_svc.fit(X_train, y_train)\n",
        "y_pred_train = pipe_svc.predict(X_train)\n",
        "y_pred_test = pipe_svc.predict(X_test)"
      ],
      "execution_count": null,
      "outputs": []
    },
    {
      "cell_type": "code",
      "metadata": {
        "id": "Lov3qNvPnD-K",
        "colab_type": "code",
        "colab": {}
      },
      "source": [
        "y_score_svc = pipe_svc.decision_function(X_test)"
      ],
      "execution_count": 30,
      "outputs": []
    },
    {
      "cell_type": "code",
      "metadata": {
        "id": "5nlvfk30nD-M",
        "colab_type": "code",
        "colab": {}
      },
      "source": [
        "fpr_svc = dict()\n",
        "tpr_svc = dict()\n",
        "roc_auc_svc = dict()\n",
        "for i in range(n_classes):\n",
        "    fpr_svc[i], tpr_svc[i], _ = roc_curve(y_test[:, i], y_score_svc[:, i])\n",
        "    roc_auc_svc[i] = auc(fpr_svc[i], tpr_svc[i])"
      ],
      "execution_count": 31,
      "outputs": []
    },
    {
      "cell_type": "code",
      "metadata": {
        "id": "VkkMUmWJnD-N",
        "colab_type": "code",
        "colab": {
          "base_uri": "https://localhost:8080/",
          "height": 395
        },
        "outputId": "3c3e9079-46f8-4540-9b1e-0ea1e6dc5e8c"
      },
      "source": [
        "lw = 2\n",
        "classes = [\"DoS\",\"D.P\",\"M.C\",\"M.O\",\"SC\",\"SP\",\"W.S\",\"NL\"]\n",
        "plt.figure(figsize=(7,6))\n",
        "ax=plt.subplot(111)\n",
        "colors = cycle(['red','maroon','navy','aqua', 'darkorange', 'cornflowerblue','olive','darkslategray'])\n",
        "for i, color in zip(range(n_classes), colors):\n",
        "    plt.plot(fpr_svc[i], tpr_svc[i], color=color, lw=lw,\n",
        "             label='{0} (area = {1:0.2f})'\n",
        "             ''.format(classes[i], roc_auc_svc[i]))\n",
        "\n",
        "plt.plot([0, 1], [0, 1], 'k--', lw=lw)\n",
        "plt.xlim([0.0, 1.0])\n",
        "plt.ylim([0.0, 1.0])\n",
        "plt.xticks(fontsize=11,weight='bold')\n",
        "plt.yticks(fontsize=11,weight='bold')\n",
        "plt.setp(ax.spines.values(), linewidth=2)\n",
        "ax.xaxis.set_tick_params(width=2)\n",
        "ax.yaxis.set_tick_params(width=2)\n",
        "plt.xlabel('False Positive Rate',fontsize=12,weight='bold')\n",
        "plt.ylabel('True Positive Rate',fontsize=12,weight='bold')\n",
        "plt.legend(loc=\"lower right\")\n",
        "plt.savefig(\"ROC_of_SVM\")"
      ],
      "execution_count": 32,
      "outputs": [
        {
          "output_type": "display_data",
          "data": {
            "image/png": "[encoded data removed]",
            "text/plain": [
              "<Figure size 504x432 with 1 Axes>"
            ]
          },
          "metadata": {
            "tags": [],
            "needs_background": "light"
          }
        }
      ]
    },
    {
      "cell_type": "markdown",
      "metadata": {
        "id": "RKY34n08nD-Q",
        "colab_type": "text"
      },
      "source": [
        "# Decision Tree"
      ]
    },
    {
      "cell_type": "code",
      "metadata": {
        "id": "iUALzugcnD-R",
        "colab_type": "code",
        "colab": {}
      },
      "source": [
        "pipe_tree = pipe_tree.fit(X_train, y_train)"
      ],
      "execution_count": 33,
      "outputs": []
    },
    {
      "cell_type": "code",
      "metadata": {
        "id": "Ub-6SiCBnD-U",
        "colab_type": "code",
        "colab": {}
      },
      "source": [
        "y_score_tree = pipe_tree.predict_proba(X_test)\n",
        "fpr_tree = dict()\n",
        "tpr_tree = dict()\n",
        "roc_auc_tree = dict()\n",
        "for i in range(n_classes):\n",
        "    fpr_tree[i], tpr_tree[i], _ = roc_curve(y_test[:, i], y_score_tree[:, i])\n",
        "    roc_auc_tree[i] = auc(fpr_tree[i], tpr_tree[i])"
      ],
      "execution_count": 34,
      "outputs": []
    },
    {
      "cell_type": "code",
      "metadata": {
        "id": "t7MEpvVMnD-W",
        "colab_type": "code",
        "colab": {
          "base_uri": "https://localhost:8080/",
          "height": 395
        },
        "outputId": "42bc3d40-be3f-4654-e1aa-5ad54031765e"
      },
      "source": [
        "lw = 2\n",
        "classes = [\"DoS\",\"D.P\",\"M.C\",\"M.O\",\"SC\",\"SP\",\"W.S\",\"NL\"]\n",
        "plt.figure(figsize=(7,6))\n",
        "ax=plt.subplot(111)\n",
        "colors = cycle(['red','maroon','navy','aqua', 'darkorange', 'cornflowerblue','olive','darkslategray'])\n",
        "for i, color in zip(range(n_classes), colors):\n",
        "    plt.plot(fpr_tree[i], tpr_tree[i], color=color, lw=lw,\n",
        "             label='{0} (area = {1:0.2f})'\n",
        "             ''.format(classes[i], roc_auc_tree[i]))\n",
        "\n",
        "plt.plot([0, 1], [0, 1], 'k--', lw=lw)\n",
        "plt.xlim([0.0, 1.0])\n",
        "plt.ylim([0.0, 1.0])\n",
        "plt.xticks(fontsize=11,weight='bold')\n",
        "plt.yticks(fontsize=11,weight='bold')\n",
        "plt.setp(ax.spines.values(), linewidth=2)\n",
        "ax.xaxis.set_tick_params(width=2)\n",
        "ax.yaxis.set_tick_params(width=2)\n",
        "plt.xlabel('False Positive Rate',fontsize=12,weight='bold')\n",
        "plt.ylabel('True Positive Rate',fontsize=12,weight='bold')\n",
        "plt.legend(loc=\"lower right\")\n",
        "plt.savefig(\"ROC_of_Decision_Tree\")"
      ],
      "execution_count": 35,
      "outputs": [
        {
          "output_type": "display_data",
          "data": {
            "image/png": "[encoded data removed]",
            "text/plain": [
              "<Figure size 504x432 with 1 Axes>"
            ]
          },
          "metadata": {
            "tags": [],
            "needs_background": "light"
          }
        }
      ]
    },
    {
      "cell_type": "markdown",
      "metadata": {
        "id": "oDotitM5nD-Y",
        "colab_type": "text"
      },
      "source": [
        "# Random Forest"
      ]
    },
    {
      "cell_type": "code",
      "metadata": {
        "id": "lRdHbMtbnD-Y",
        "colab_type": "code",
        "colab": {}
      },
      "source": [
        "pipe_rnd = pipe_rnd.fit(X_train, y_train)"
      ],
      "execution_count": null,
      "outputs": []
    },
    {
      "cell_type": "code",
      "metadata": {
        "id": "InXh_b-5nD-a",
        "colab_type": "code",
        "colab": {}
      },
      "source": [
        "y_score_rnd = pipe_rnd.predict_proba(X_test)\n",
        "fpr_rnd = dict()\n",
        "tpr_rnd = dict()\n",
        "roc_auc_rnd = dict()\n",
        "for i in range(n_classes):\n",
        "    fpr_rnd[i], tpr_rnd[i], _ = roc_curve(y_test[:, i], y_score_rnd[:, i])\n",
        "    roc_auc_rnd[i] = auc(fpr_rnd[i], tpr_rnd[i])"
      ],
      "execution_count": null,
      "outputs": []
    },
    {
      "cell_type": "code",
      "metadata": {
        "id": "QK_1w0vxnD-c",
        "colab_type": "code",
        "colab": {},
        "outputId": "87af3d90-65ce-42c1-84db-a87e082848e2"
      },
      "source": [
        "lw = 2\n",
        "classes = [\"DoS\",\"D.P\",\"M.C\",\"M.O\",\"SC\",\"SP\",\"W.S\",\"NL\"]\n",
        "plt.figure(figsize=(7,6))\n",
        "ax=plt.subplot(111)\n",
        "colors = cycle(['red','maroon','navy','aqua', 'darkorange', 'cornflowerblue','olive','darkslategray'])\n",
        "for i, color in zip(range(n_classes), colors):\n",
        "    plt.plot(fpr_rnd[i], tpr_rnd[i], color=color, lw=lw,\n",
        "             label='{0} (area = {1:0.2f})'\n",
        "             ''.format(classes[i], roc_auc_rnd[i]))\n",
        "\n",
        "plt.plot([0, 1], [0, 1], 'k--', lw=lw)\n",
        "plt.xlim([0.0, 1.0])\n",
        "plt.ylim([0.0, 1.0])\n",
        "plt.xticks(fontsize=11,weight='bold')\n",
        "plt.yticks(fontsize=11,weight='bold')\n",
        "plt.setp(ax.spines.values(), linewidth=2)\n",
        "ax.xaxis.set_tick_params(width=2)\n",
        "ax.yaxis.set_tick_params(width=2)\n",
        "plt.xlabel('False Positive Rate',fontsize=12,weight='bold')\n",
        "plt.ylabel('True Positive Rate',fontsize=12,weight='bold')\n",
        "plt.legend(loc=\"lower right\")\n",
        "plt.savefig(\"ROC_of_Random_Forrest\")"
      ],
      "execution_count": null,
      "outputs": [
        {
          "output_type": "display_data",
          "data": {
            "image/png": "[encoded data removed]",
            "text/plain": [
              "<Figure size 504x432 with 1 Axes>"
            ]
          },
          "metadata": {
            "tags": []
          }
        }
      ]
    },
    {
      "cell_type": "markdown",
      "metadata": {
        "id": "J768gLqxnD-e",
        "colab_type": "text"
      },
      "source": [
        "# ANN"
      ]
    },
    {
      "cell_type": "code",
      "metadata": {
        "id": "2TjzGx5PnD-f",
        "colab_type": "code",
        "colab": {},
        "outputId": "b151541e-bae0-4ea1-d9b4-94b7ab1e9010"
      },
      "source": [
        "pipe_mlp = pipe_mlp.fit(X_train, y_train)"
      ],
      "execution_count": null,
      "outputs": [
        {
          "output_type": "stream",
          "text": [
            "Iteration 1, loss = 0.01747635\n",
            "Iteration 2, loss = 0.01242359\n",
            "Iteration 3, loss = 0.01219138\n",
            "Iteration 4, loss = 0.01213977\n",
            "Iteration 5, loss = 0.01206942\n",
            "Iteration 6, loss = 0.01195333\n",
            "Iteration 7, loss = 0.01190263\n",
            "Iteration 8, loss = 0.01188070\n",
            "Iteration 9, loss = 0.01179250\n",
            "Training loss did not improve more than tol=0.000100 for two consecutive epochs. Stopping.\n",
            "Iteration 1, loss = 0.00544625\n",
            "Iteration 2, loss = 0.00202050\n",
            "Iteration 3, loss = 0.00149718\n",
            "Iteration 4, loss = 0.00114145\n",
            "Iteration 5, loss = 0.00089673\n",
            "Iteration 6, loss = 0.00071281\n",
            "Iteration 7, loss = 0.00055928\n",
            "Iteration 8, loss = 0.00044291\n",
            "Iteration 9, loss = 0.00035870\n",
            "Iteration 10, loss = 0.00029026\n",
            "Iteration 11, loss = 0.00023988\n",
            "Training loss did not improve more than tol=0.000100 for two consecutive epochs. Stopping.\n",
            "Iteration 1, loss = 0.00625678\n",
            "Iteration 2, loss = 0.00162347\n",
            "Iteration 3, loss = 0.00104493\n",
            "Iteration 4, loss = 0.00074767\n",
            "Iteration 5, loss = 0.00055283\n",
            "Iteration 6, loss = 0.00042909\n",
            "Iteration 7, loss = 0.00034367\n",
            "Iteration 8, loss = 0.00029106\n",
            "Iteration 9, loss = 0.00024622\n",
            "Training loss did not improve more than tol=0.000100 for two consecutive epochs. Stopping.\n",
            "Iteration 1, loss = 0.00653776\n",
            "Iteration 2, loss = 0.00118948\n",
            "Iteration 3, loss = 0.00059300\n",
            "Iteration 4, loss = 0.00038536\n",
            "Iteration 5, loss = 0.00028753\n",
            "Iteration 6, loss = 0.00023158\n",
            "Iteration 7, loss = 0.00019211\n",
            "Training loss did not improve more than tol=0.000100 for two consecutive epochs. Stopping.\n",
            "Iteration 1, loss = 0.01666346\n",
            "Iteration 2, loss = 0.00804104\n",
            "Iteration 3, loss = 0.00421951\n",
            "Iteration 4, loss = 0.00226472\n",
            "Iteration 5, loss = 0.00152418\n",
            "Iteration 6, loss = 0.00110817\n",
            "Iteration 7, loss = 0.00082296\n",
            "Iteration 8, loss = 0.00065706\n",
            "Iteration 9, loss = 0.00055434\n",
            "Iteration 10, loss = 0.00048644\n",
            "Iteration 11, loss = 0.00043228\n",
            "Iteration 12, loss = 0.00037591\n",
            "Training loss did not improve more than tol=0.000100 for two consecutive epochs. Stopping.\n",
            "Iteration 1, loss = 0.00846069\n",
            "Iteration 2, loss = 0.00445244\n",
            "Iteration 3, loss = 0.00294485\n",
            "Iteration 4, loss = 0.00184722\n",
            "Iteration 5, loss = 0.00122712\n",
            "Iteration 6, loss = 0.00083753\n",
            "Iteration 7, loss = 0.00059635\n",
            "Iteration 8, loss = 0.00046156\n",
            "Iteration 9, loss = 0.00037156\n",
            "Iteration 10, loss = 0.00031561\n",
            "Iteration 11, loss = 0.00026678\n",
            "Training loss did not improve more than tol=0.000100 for two consecutive epochs. Stopping.\n",
            "Iteration 1, loss = 0.00302240\n",
            "Iteration 2, loss = 0.00078646\n",
            "Iteration 3, loss = 0.00058064\n",
            "Iteration 4, loss = 0.00048731\n",
            "Iteration 5, loss = 0.00041422\n",
            "Iteration 6, loss = 0.00035437\n",
            "Training loss did not improve more than tol=0.000100 for two consecutive epochs. Stopping.\n",
            "Iteration 1, loss = 0.04467366\n",
            "Iteration 2, loss = 0.02507689\n",
            "Iteration 3, loss = 0.01943931\n",
            "Iteration 4, loss = 0.01716353\n",
            "Iteration 5, loss = 0.01601158\n",
            "Iteration 6, loss = 0.01547859\n",
            "Iteration 7, loss = 0.01495784\n",
            "Iteration 8, loss = 0.01474770\n",
            "Iteration 9, loss = 0.01424732\n",
            "Iteration 10, loss = 0.01439464\n",
            "Iteration 11, loss = 0.01400306\n",
            "Iteration 12, loss = 0.01397464\n",
            "Iteration 13, loss = 0.01401256\n",
            "Iteration 14, loss = 0.01369424\n",
            "Iteration 15, loss = 0.01388502\n",
            "Iteration 16, loss = 0.01370013\n",
            "Iteration 17, loss = 0.01344338\n",
            "Iteration 18, loss = 0.01344366\n",
            "Iteration 19, loss = 0.01350272\n",
            "Iteration 20, loss = 0.01336786\n",
            "Training loss did not improve more than tol=0.000100 for two consecutive epochs. Stopping.\n"
          ],
          "name": "stdout"
        }
      ]
    },
    {
      "cell_type": "code",
      "metadata": {
        "id": "EeeYA8eZnD-h",
        "colab_type": "code",
        "colab": {}
      },
      "source": [
        "y_score_mlp = pipe_mlp.predict_proba(X_test)\n",
        "fpr_mlp = dict()\n",
        "tpr_mlp = dict()\n",
        "roc_auc_mlp = dict()\n",
        "for i in range(n_classes):\n",
        "    fpr_mlp[i], tpr_mlp[i], _ = roc_curve(y_test[:, i], y_score_mlp[:, i])\n",
        "    roc_auc_mlp[i] = auc(fpr_mlp[i], tpr_mlp[i])"
      ],
      "execution_count": null,
      "outputs": []
    },
    {
      "cell_type": "code",
      "metadata": {
        "id": "8hJ0osgQnD-i",
        "colab_type": "code",
        "colab": {},
        "outputId": "082fe260-7192-43f1-da7d-1b41050e287e"
      },
      "source": [
        "lw = 2\n",
        "classes = [\"DoS\",\"D.P\",\"M.C\",\"M.O\",\"SC\",\"SP\",\"W.S\",\"NL\"]\n",
        "plt.figure(figsize=(7,6))\n",
        "ax=plt.subplot(111)\n",
        "colors = cycle(['red','maroon','navy','aqua', 'darkorange', 'cornflowerblue','olive','darkslategray'])\n",
        "for i, color in zip(range(n_classes), colors):\n",
        "    plt.plot(fpr_mlp[i], tpr_mlp[i], color=color, lw=lw,\n",
        "             label='{0} (area = {1:0.2f})'\n",
        "             ''.format(classes[i], roc_auc_mlp[i]))\n",
        "\n",
        "plt.plot([0, 1], [0, 1], 'k--', lw=lw)\n",
        "plt.xlim([0.0, 1.0])\n",
        "plt.ylim([0.0, 1.0])\n",
        "plt.xticks(fontsize=11,weight='bold')\n",
        "plt.yticks(fontsize=11,weight='bold')\n",
        "plt.setp(ax.spines.values(), linewidth=2)\n",
        "ax.xaxis.set_tick_params(width=2)\n",
        "ax.yaxis.set_tick_params(width=2)\n",
        "plt.xlabel('False Positive Rate',fontsize=12,weight='bold')\n",
        "plt.ylabel('True Positive Rate',fontsize=12,weight='bold')\n",
        "plt.legend(loc=\"lower right\")\n",
        "plt.savefig(\"ROC_of_MLP\")"
      ],
      "execution_count": null,
      "outputs": [
        {
          "output_type": "display_data",
          "data": {
            "image/png": "[encoded data removed]",
            "text/plain": [
              "<Figure size 504x432 with 1 Axes>"
            ]
          },
          "metadata": {
            "tags": []
          }
        }
      ]
    },
    {
      "cell_type": "code",
      "metadata": {
        "id": "XNvafCVenD-l",
        "colab_type": "code",
        "colab": {}
      },
      "source": [
        ""
      ],
      "execution_count": null,
      "outputs": []
    }
  ]
}